{
 "cells": [
  {
   "cell_type": "code",
   "execution_count": 1,
   "metadata": {},
   "outputs": [],
   "source": [
    "import pandas as pd\n",
    "import seaborn as sns\n",
    "import matplotlib.pyplot as plt\n",
    "%matplotlib inline\n",
    "import numpy as np\n",
    "from sklearn.preprocessing import MinMaxScaler"
   ]
  },
  {
   "cell_type": "code",
   "execution_count": 2,
   "metadata": {},
   "outputs": [],
   "source": [
    "df = pd.read_csv(\"Datasets/train_values.csv\").set_index('building_id')"
   ]
  },
  {
   "cell_type": "code",
   "execution_count": 3,
   "metadata": {},
   "outputs": [],
   "source": [
    "damages = pd.read_csv(\"Datasets/train_labels.csv\").set_index('building_id')"
   ]
  },
  {
   "cell_type": "markdown",
   "metadata": {},
   "source": [
    "# Whole dataset"
   ]
  },
  {
   "cell_type": "code",
   "execution_count": 4,
   "metadata": {},
   "outputs": [
    {
     "data": {
      "text/plain": [
       "(260601, 38)"
      ]
     },
     "execution_count": 4,
     "metadata": {},
     "output_type": "execute_result"
    }
   ],
   "source": [
    "df.shape"
   ]
  },
  {
   "cell_type": "code",
   "execution_count": 5,
   "metadata": {},
   "outputs": [
    {
     "data": {
      "text/html": [
       "<div>\n",
       "<style scoped>\n",
       "    .dataframe tbody tr th:only-of-type {\n",
       "        vertical-align: middle;\n",
       "    }\n",
       "\n",
       "    .dataframe tbody tr th {\n",
       "        vertical-align: top;\n",
       "    }\n",
       "\n",
       "    .dataframe thead th {\n",
       "        text-align: right;\n",
       "    }\n",
       "</style>\n",
       "<table border=\"1\" class=\"dataframe\">\n",
       "  <thead>\n",
       "    <tr style=\"text-align: right;\">\n",
       "      <th></th>\n",
       "      <th>count</th>\n",
       "      <th>mean</th>\n",
       "      <th>std</th>\n",
       "      <th>min</th>\n",
       "      <th>25%</th>\n",
       "      <th>50%</th>\n",
       "      <th>75%</th>\n",
       "      <th>max</th>\n",
       "    </tr>\n",
       "  </thead>\n",
       "  <tbody>\n",
       "    <tr>\n",
       "      <th>geo_level_1_id</th>\n",
       "      <td>260601.0</td>\n",
       "      <td>13.900353</td>\n",
       "      <td>8.033617</td>\n",
       "      <td>0.0</td>\n",
       "      <td>7.0</td>\n",
       "      <td>12.0</td>\n",
       "      <td>21.0</td>\n",
       "      <td>30.0</td>\n",
       "    </tr>\n",
       "    <tr>\n",
       "      <th>geo_level_2_id</th>\n",
       "      <td>260601.0</td>\n",
       "      <td>701.074685</td>\n",
       "      <td>412.710734</td>\n",
       "      <td>0.0</td>\n",
       "      <td>350.0</td>\n",
       "      <td>702.0</td>\n",
       "      <td>1050.0</td>\n",
       "      <td>1427.0</td>\n",
       "    </tr>\n",
       "    <tr>\n",
       "      <th>geo_level_3_id</th>\n",
       "      <td>260601.0</td>\n",
       "      <td>6257.876148</td>\n",
       "      <td>3646.369645</td>\n",
       "      <td>0.0</td>\n",
       "      <td>3073.0</td>\n",
       "      <td>6270.0</td>\n",
       "      <td>9412.0</td>\n",
       "      <td>12567.0</td>\n",
       "    </tr>\n",
       "    <tr>\n",
       "      <th>count_floors_pre_eq</th>\n",
       "      <td>260601.0</td>\n",
       "      <td>2.129723</td>\n",
       "      <td>0.727665</td>\n",
       "      <td>1.0</td>\n",
       "      <td>2.0</td>\n",
       "      <td>2.0</td>\n",
       "      <td>2.0</td>\n",
       "      <td>9.0</td>\n",
       "    </tr>\n",
       "    <tr>\n",
       "      <th>age</th>\n",
       "      <td>260601.0</td>\n",
       "      <td>26.535029</td>\n",
       "      <td>73.565937</td>\n",
       "      <td>0.0</td>\n",
       "      <td>10.0</td>\n",
       "      <td>15.0</td>\n",
       "      <td>30.0</td>\n",
       "      <td>995.0</td>\n",
       "    </tr>\n",
       "    <tr>\n",
       "      <th>area_percentage</th>\n",
       "      <td>260601.0</td>\n",
       "      <td>8.018051</td>\n",
       "      <td>4.392231</td>\n",
       "      <td>1.0</td>\n",
       "      <td>5.0</td>\n",
       "      <td>7.0</td>\n",
       "      <td>9.0</td>\n",
       "      <td>100.0</td>\n",
       "    </tr>\n",
       "    <tr>\n",
       "      <th>height_percentage</th>\n",
       "      <td>260601.0</td>\n",
       "      <td>5.434365</td>\n",
       "      <td>1.918418</td>\n",
       "      <td>2.0</td>\n",
       "      <td>4.0</td>\n",
       "      <td>5.0</td>\n",
       "      <td>6.0</td>\n",
       "      <td>32.0</td>\n",
       "    </tr>\n",
       "    <tr>\n",
       "      <th>has_superstructure_adobe_mud</th>\n",
       "      <td>260601.0</td>\n",
       "      <td>0.088645</td>\n",
       "      <td>0.284231</td>\n",
       "      <td>0.0</td>\n",
       "      <td>0.0</td>\n",
       "      <td>0.0</td>\n",
       "      <td>0.0</td>\n",
       "      <td>1.0</td>\n",
       "    </tr>\n",
       "    <tr>\n",
       "      <th>has_superstructure_mud_mortar_stone</th>\n",
       "      <td>260601.0</td>\n",
       "      <td>0.761935</td>\n",
       "      <td>0.425900</td>\n",
       "      <td>0.0</td>\n",
       "      <td>1.0</td>\n",
       "      <td>1.0</td>\n",
       "      <td>1.0</td>\n",
       "      <td>1.0</td>\n",
       "    </tr>\n",
       "    <tr>\n",
       "      <th>has_superstructure_stone_flag</th>\n",
       "      <td>260601.0</td>\n",
       "      <td>0.034332</td>\n",
       "      <td>0.182081</td>\n",
       "      <td>0.0</td>\n",
       "      <td>0.0</td>\n",
       "      <td>0.0</td>\n",
       "      <td>0.0</td>\n",
       "      <td>1.0</td>\n",
       "    </tr>\n",
       "    <tr>\n",
       "      <th>has_superstructure_cement_mortar_stone</th>\n",
       "      <td>260601.0</td>\n",
       "      <td>0.018235</td>\n",
       "      <td>0.133800</td>\n",
       "      <td>0.0</td>\n",
       "      <td>0.0</td>\n",
       "      <td>0.0</td>\n",
       "      <td>0.0</td>\n",
       "      <td>1.0</td>\n",
       "    </tr>\n",
       "    <tr>\n",
       "      <th>has_superstructure_mud_mortar_brick</th>\n",
       "      <td>260601.0</td>\n",
       "      <td>0.068154</td>\n",
       "      <td>0.252010</td>\n",
       "      <td>0.0</td>\n",
       "      <td>0.0</td>\n",
       "      <td>0.0</td>\n",
       "      <td>0.0</td>\n",
       "      <td>1.0</td>\n",
       "    </tr>\n",
       "    <tr>\n",
       "      <th>has_superstructure_cement_mortar_brick</th>\n",
       "      <td>260601.0</td>\n",
       "      <td>0.075268</td>\n",
       "      <td>0.263824</td>\n",
       "      <td>0.0</td>\n",
       "      <td>0.0</td>\n",
       "      <td>0.0</td>\n",
       "      <td>0.0</td>\n",
       "      <td>1.0</td>\n",
       "    </tr>\n",
       "    <tr>\n",
       "      <th>has_superstructure_timber</th>\n",
       "      <td>260601.0</td>\n",
       "      <td>0.254988</td>\n",
       "      <td>0.435855</td>\n",
       "      <td>0.0</td>\n",
       "      <td>0.0</td>\n",
       "      <td>0.0</td>\n",
       "      <td>1.0</td>\n",
       "      <td>1.0</td>\n",
       "    </tr>\n",
       "    <tr>\n",
       "      <th>has_superstructure_bamboo</th>\n",
       "      <td>260601.0</td>\n",
       "      <td>0.085011</td>\n",
       "      <td>0.278899</td>\n",
       "      <td>0.0</td>\n",
       "      <td>0.0</td>\n",
       "      <td>0.0</td>\n",
       "      <td>0.0</td>\n",
       "      <td>1.0</td>\n",
       "    </tr>\n",
       "    <tr>\n",
       "      <th>has_superstructure_rc_non_engineered</th>\n",
       "      <td>260601.0</td>\n",
       "      <td>0.042590</td>\n",
       "      <td>0.201931</td>\n",
       "      <td>0.0</td>\n",
       "      <td>0.0</td>\n",
       "      <td>0.0</td>\n",
       "      <td>0.0</td>\n",
       "      <td>1.0</td>\n",
       "    </tr>\n",
       "    <tr>\n",
       "      <th>has_superstructure_rc_engineered</th>\n",
       "      <td>260601.0</td>\n",
       "      <td>0.015859</td>\n",
       "      <td>0.124932</td>\n",
       "      <td>0.0</td>\n",
       "      <td>0.0</td>\n",
       "      <td>0.0</td>\n",
       "      <td>0.0</td>\n",
       "      <td>1.0</td>\n",
       "    </tr>\n",
       "    <tr>\n",
       "      <th>has_superstructure_other</th>\n",
       "      <td>260601.0</td>\n",
       "      <td>0.014985</td>\n",
       "      <td>0.121491</td>\n",
       "      <td>0.0</td>\n",
       "      <td>0.0</td>\n",
       "      <td>0.0</td>\n",
       "      <td>0.0</td>\n",
       "      <td>1.0</td>\n",
       "    </tr>\n",
       "    <tr>\n",
       "      <th>count_families</th>\n",
       "      <td>260601.0</td>\n",
       "      <td>0.983949</td>\n",
       "      <td>0.418389</td>\n",
       "      <td>0.0</td>\n",
       "      <td>1.0</td>\n",
       "      <td>1.0</td>\n",
       "      <td>1.0</td>\n",
       "      <td>9.0</td>\n",
       "    </tr>\n",
       "    <tr>\n",
       "      <th>has_secondary_use</th>\n",
       "      <td>260601.0</td>\n",
       "      <td>0.111880</td>\n",
       "      <td>0.315219</td>\n",
       "      <td>0.0</td>\n",
       "      <td>0.0</td>\n",
       "      <td>0.0</td>\n",
       "      <td>0.0</td>\n",
       "      <td>1.0</td>\n",
       "    </tr>\n",
       "    <tr>\n",
       "      <th>has_secondary_use_agriculture</th>\n",
       "      <td>260601.0</td>\n",
       "      <td>0.064378</td>\n",
       "      <td>0.245426</td>\n",
       "      <td>0.0</td>\n",
       "      <td>0.0</td>\n",
       "      <td>0.0</td>\n",
       "      <td>0.0</td>\n",
       "      <td>1.0</td>\n",
       "    </tr>\n",
       "    <tr>\n",
       "      <th>has_secondary_use_hotel</th>\n",
       "      <td>260601.0</td>\n",
       "      <td>0.033626</td>\n",
       "      <td>0.180265</td>\n",
       "      <td>0.0</td>\n",
       "      <td>0.0</td>\n",
       "      <td>0.0</td>\n",
       "      <td>0.0</td>\n",
       "      <td>1.0</td>\n",
       "    </tr>\n",
       "    <tr>\n",
       "      <th>has_secondary_use_rental</th>\n",
       "      <td>260601.0</td>\n",
       "      <td>0.008101</td>\n",
       "      <td>0.089638</td>\n",
       "      <td>0.0</td>\n",
       "      <td>0.0</td>\n",
       "      <td>0.0</td>\n",
       "      <td>0.0</td>\n",
       "      <td>1.0</td>\n",
       "    </tr>\n",
       "    <tr>\n",
       "      <th>has_secondary_use_institution</th>\n",
       "      <td>260601.0</td>\n",
       "      <td>0.000940</td>\n",
       "      <td>0.030647</td>\n",
       "      <td>0.0</td>\n",
       "      <td>0.0</td>\n",
       "      <td>0.0</td>\n",
       "      <td>0.0</td>\n",
       "      <td>1.0</td>\n",
       "    </tr>\n",
       "    <tr>\n",
       "      <th>has_secondary_use_school</th>\n",
       "      <td>260601.0</td>\n",
       "      <td>0.000361</td>\n",
       "      <td>0.018989</td>\n",
       "      <td>0.0</td>\n",
       "      <td>0.0</td>\n",
       "      <td>0.0</td>\n",
       "      <td>0.0</td>\n",
       "      <td>1.0</td>\n",
       "    </tr>\n",
       "    <tr>\n",
       "      <th>has_secondary_use_industry</th>\n",
       "      <td>260601.0</td>\n",
       "      <td>0.001071</td>\n",
       "      <td>0.032703</td>\n",
       "      <td>0.0</td>\n",
       "      <td>0.0</td>\n",
       "      <td>0.0</td>\n",
       "      <td>0.0</td>\n",
       "      <td>1.0</td>\n",
       "    </tr>\n",
       "    <tr>\n",
       "      <th>has_secondary_use_health_post</th>\n",
       "      <td>260601.0</td>\n",
       "      <td>0.000188</td>\n",
       "      <td>0.013711</td>\n",
       "      <td>0.0</td>\n",
       "      <td>0.0</td>\n",
       "      <td>0.0</td>\n",
       "      <td>0.0</td>\n",
       "      <td>1.0</td>\n",
       "    </tr>\n",
       "    <tr>\n",
       "      <th>has_secondary_use_gov_office</th>\n",
       "      <td>260601.0</td>\n",
       "      <td>0.000146</td>\n",
       "      <td>0.012075</td>\n",
       "      <td>0.0</td>\n",
       "      <td>0.0</td>\n",
       "      <td>0.0</td>\n",
       "      <td>0.0</td>\n",
       "      <td>1.0</td>\n",
       "    </tr>\n",
       "    <tr>\n",
       "      <th>has_secondary_use_use_police</th>\n",
       "      <td>260601.0</td>\n",
       "      <td>0.000088</td>\n",
       "      <td>0.009394</td>\n",
       "      <td>0.0</td>\n",
       "      <td>0.0</td>\n",
       "      <td>0.0</td>\n",
       "      <td>0.0</td>\n",
       "      <td>1.0</td>\n",
       "    </tr>\n",
       "    <tr>\n",
       "      <th>has_secondary_use_other</th>\n",
       "      <td>260601.0</td>\n",
       "      <td>0.005119</td>\n",
       "      <td>0.071364</td>\n",
       "      <td>0.0</td>\n",
       "      <td>0.0</td>\n",
       "      <td>0.0</td>\n",
       "      <td>0.0</td>\n",
       "      <td>1.0</td>\n",
       "    </tr>\n",
       "  </tbody>\n",
       "</table>\n",
       "</div>"
      ],
      "text/plain": [
       "                                           count         mean          std  \\\n",
       "geo_level_1_id                          260601.0    13.900353     8.033617   \n",
       "geo_level_2_id                          260601.0   701.074685   412.710734   \n",
       "geo_level_3_id                          260601.0  6257.876148  3646.369645   \n",
       "count_floors_pre_eq                     260601.0     2.129723     0.727665   \n",
       "age                                     260601.0    26.535029    73.565937   \n",
       "area_percentage                         260601.0     8.018051     4.392231   \n",
       "height_percentage                       260601.0     5.434365     1.918418   \n",
       "has_superstructure_adobe_mud            260601.0     0.088645     0.284231   \n",
       "has_superstructure_mud_mortar_stone     260601.0     0.761935     0.425900   \n",
       "has_superstructure_stone_flag           260601.0     0.034332     0.182081   \n",
       "has_superstructure_cement_mortar_stone  260601.0     0.018235     0.133800   \n",
       "has_superstructure_mud_mortar_brick     260601.0     0.068154     0.252010   \n",
       "has_superstructure_cement_mortar_brick  260601.0     0.075268     0.263824   \n",
       "has_superstructure_timber               260601.0     0.254988     0.435855   \n",
       "has_superstructure_bamboo               260601.0     0.085011     0.278899   \n",
       "has_superstructure_rc_non_engineered    260601.0     0.042590     0.201931   \n",
       "has_superstructure_rc_engineered        260601.0     0.015859     0.124932   \n",
       "has_superstructure_other                260601.0     0.014985     0.121491   \n",
       "count_families                          260601.0     0.983949     0.418389   \n",
       "has_secondary_use                       260601.0     0.111880     0.315219   \n",
       "has_secondary_use_agriculture           260601.0     0.064378     0.245426   \n",
       "has_secondary_use_hotel                 260601.0     0.033626     0.180265   \n",
       "has_secondary_use_rental                260601.0     0.008101     0.089638   \n",
       "has_secondary_use_institution           260601.0     0.000940     0.030647   \n",
       "has_secondary_use_school                260601.0     0.000361     0.018989   \n",
       "has_secondary_use_industry              260601.0     0.001071     0.032703   \n",
       "has_secondary_use_health_post           260601.0     0.000188     0.013711   \n",
       "has_secondary_use_gov_office            260601.0     0.000146     0.012075   \n",
       "has_secondary_use_use_police            260601.0     0.000088     0.009394   \n",
       "has_secondary_use_other                 260601.0     0.005119     0.071364   \n",
       "\n",
       "                                        min     25%     50%     75%      max  \n",
       "geo_level_1_id                          0.0     7.0    12.0    21.0     30.0  \n",
       "geo_level_2_id                          0.0   350.0   702.0  1050.0   1427.0  \n",
       "geo_level_3_id                          0.0  3073.0  6270.0  9412.0  12567.0  \n",
       "count_floors_pre_eq                     1.0     2.0     2.0     2.0      9.0  \n",
       "age                                     0.0    10.0    15.0    30.0    995.0  \n",
       "area_percentage                         1.0     5.0     7.0     9.0    100.0  \n",
       "height_percentage                       2.0     4.0     5.0     6.0     32.0  \n",
       "has_superstructure_adobe_mud            0.0     0.0     0.0     0.0      1.0  \n",
       "has_superstructure_mud_mortar_stone     0.0     1.0     1.0     1.0      1.0  \n",
       "has_superstructure_stone_flag           0.0     0.0     0.0     0.0      1.0  \n",
       "has_superstructure_cement_mortar_stone  0.0     0.0     0.0     0.0      1.0  \n",
       "has_superstructure_mud_mortar_brick     0.0     0.0     0.0     0.0      1.0  \n",
       "has_superstructure_cement_mortar_brick  0.0     0.0     0.0     0.0      1.0  \n",
       "has_superstructure_timber               0.0     0.0     0.0     1.0      1.0  \n",
       "has_superstructure_bamboo               0.0     0.0     0.0     0.0      1.0  \n",
       "has_superstructure_rc_non_engineered    0.0     0.0     0.0     0.0      1.0  \n",
       "has_superstructure_rc_engineered        0.0     0.0     0.0     0.0      1.0  \n",
       "has_superstructure_other                0.0     0.0     0.0     0.0      1.0  \n",
       "count_families                          0.0     1.0     1.0     1.0      9.0  \n",
       "has_secondary_use                       0.0     0.0     0.0     0.0      1.0  \n",
       "has_secondary_use_agriculture           0.0     0.0     0.0     0.0      1.0  \n",
       "has_secondary_use_hotel                 0.0     0.0     0.0     0.0      1.0  \n",
       "has_secondary_use_rental                0.0     0.0     0.0     0.0      1.0  \n",
       "has_secondary_use_institution           0.0     0.0     0.0     0.0      1.0  \n",
       "has_secondary_use_school                0.0     0.0     0.0     0.0      1.0  \n",
       "has_secondary_use_industry              0.0     0.0     0.0     0.0      1.0  \n",
       "has_secondary_use_health_post           0.0     0.0     0.0     0.0      1.0  \n",
       "has_secondary_use_gov_office            0.0     0.0     0.0     0.0      1.0  \n",
       "has_secondary_use_use_police            0.0     0.0     0.0     0.0      1.0  \n",
       "has_secondary_use_other                 0.0     0.0     0.0     0.0      1.0  "
      ]
     },
     "execution_count": 5,
     "metadata": {},
     "output_type": "execute_result"
    }
   ],
   "source": [
    "df.describe().T"
   ]
  },
  {
   "cell_type": "markdown",
   "metadata": {},
   "source": [
    "# Damages"
   ]
  },
  {
   "cell_type": "markdown",
   "metadata": {},
   "source": [
    "Let's begin with insights about the target"
   ]
  },
  {
   "cell_type": "code",
   "execution_count": 6,
   "metadata": {
    "scrolled": true
   },
   "outputs": [
    {
     "data": {
      "text/plain": [
       "<matplotlib.axes._subplots.AxesSubplot at 0x2ea5fa1ff28>"
      ]
     },
     "execution_count": 6,
     "metadata": {},
     "output_type": "execute_result"
    },
    {
     "data": {
      "image/png": "[encoded data removed]",
      "text/plain": [
       "<Figure size 432x288 with 1 Axes>"
      ]
     },
     "metadata": {
      "needs_background": "light"
     },
     "output_type": "display_data"
    }
   ],
   "source": [
    "damages['damage_grade'].hist(align=\"mid\", rwidth=0.8, \n",
    "                   bins=np.arange(1, 5)-0.5)"
   ]
  },
  {
   "cell_type": "code",
   "execution_count": 7,
   "metadata": {},
   "outputs": [
    {
     "data": {
      "text/plain": [
       "2    56.891186\n",
       "3    33.468022\n",
       "1     9.640792\n",
       "Name: damage_grade, dtype: float64"
      ]
     },
     "execution_count": 7,
     "metadata": {},
     "output_type": "execute_result"
    }
   ],
   "source": [
    "damages['damage_grade'].value_counts()/len(damages)*100"
   ]
  },
  {
   "cell_type": "code",
   "execution_count": 8,
   "metadata": {},
   "outputs": [
    {
     "data": {
      "text/plain": [
       "2.2382723013342236"
      ]
     },
     "execution_count": 8,
     "metadata": {},
     "output_type": "execute_result"
    }
   ],
   "source": [
    "damages['damage_grade'].mean()"
   ]
  },
  {
   "cell_type": "markdown",
   "metadata": {},
   "source": [
    " # Geo Levels exploration\n"
   ]
  },
  {
   "cell_type": "markdown",
   "metadata": {},
   "source": [
    "geo_level_1_id, geo_level_2_id, geo_level_3_id (type: int): geographic region in which building exists, from largest (level 1) to most specific sub-region (level 3). Possible values: level 1: 0-30, level 2: 0-1427, level 3: 0-12567."
   ]
  },
  {
   "cell_type": "markdown",
   "metadata": {},
   "source": [
    "I will first take a look at the repartition of each geo level 1 ID in the dataset"
   ]
  },
  {
   "cell_type": "code",
   "execution_count": 9,
   "metadata": {
    "scrolled": true
   },
   "outputs": [
    {
     "data": {
      "text/plain": [
       "<matplotlib.legend.Legend at 0x2ea5fdf9208>"
      ]
     },
     "execution_count": 9,
     "metadata": {},
     "output_type": "execute_result"
    },
    {
     "data": {
      "image/png": "[encoded data removed]",
      "text/plain": [
       "<Figure size 432x288 with 1 Axes>"
      ]
     },
     "metadata": {
      "needs_background": "light"
     },
     "output_type": "display_data"
    }
   ],
   "source": [
    "col = 'geo_level_1_id'\n",
    "df.loc[:,col].hist(align=\"mid\", rwidth=0.8, \n",
    "                   bins=np.arange(min(df.loc[:,col]), max(df.loc[:,col])+2)-0.5)\n",
    "plt.axhline(df.loc[:,col].value_counts().mean(), color='r')\n",
    "plt.legend(labels=[\"mean\"])"
   ]
  },
  {
   "cell_type": "markdown",
   "metadata": {},
   "source": [
    "Geo leveld 1 ID are distributed unevenly in the dataset. It may be a problem later during learning step."
   ]
  },
  {
   "cell_type": "markdown",
   "metadata": {},
   "source": [
    "Let's now visualize the probabilities of damages level in each geo level 1 ID. The redder is a cell, the higher is the probability."
   ]
  },
  {
   "cell_type": "code",
   "execution_count": 10,
   "metadata": {
    "scrolled": false
   },
   "outputs": [
    {
     "data": {
      "text/plain": [
       "<matplotlib.axes._subplots.AxesSubplot at 0x2ea5fa1f470>"
      ]
     },
     "execution_count": 10,
     "metadata": {},
     "output_type": "execute_result"
    },
    {
     "data": {
      "image/png": "[encoded data removed]",
      "text/plain": [
       "<Figure size 1008x2160 with 2 Axes>"
      ]
     },
     "metadata": {
      "needs_background": "light"
     },
     "output_type": "display_data"
    }
   ],
   "source": [
    "dmgs = df.merge(damages, right_index=True, left_index=True).loc[:,[col,'damage_grade']]\n",
    "cmap = pd.DataFrame(columns=np.arange(0,31), index=np.arange(1,4)).fillna(0)\n",
    "for i in range(0,31):\n",
    "    cmap[i] = dmgs[dmgs[col] == i]['damage_grade'].value_counts().sort_index()/len(dmgs[dmgs[col] == i])*100\n",
    "cmap = cmap.T.fillna(0)\n",
    "cmap = cmap.sort_index(ascending=False)\n",
    "cmap.loc[\"dataset\",:] = damages['damage_grade'].value_counts()/len(damages)*100\n",
    "colormap = plt.cm.RdBu_r\n",
    "plt.figure(figsize=(14,30))\n",
    "plt.title('Damage Grade Conditional Frequencies', y=1.05, size=15)\n",
    "sns.heatmap(cmap.fillna(100).astype(float) ,linewidths=0.1, vmax=100, vmin=0,\n",
    "            square=True, cmap=colormap, linecolor='white', annot=True)"
   ]
  },
  {
   "cell_type": "markdown",
   "metadata": {},
   "source": [
    "The distribution of damages in the geo level 1 ID is quite homogeneous. However, some seem to be an asset (26, 24, 20, 13) and others seem to be a flaw (21, 18, 17).\n",
    "\n",
    "The tab below give the mean of damages for each geo level 1 ID."
   ]
  },
  {
   "cell_type": "code",
   "execution_count": 11,
   "metadata": {
    "scrolled": true
   },
   "outputs": [
    {
     "data": {
      "text/html": [
       "<div>\n",
       "<style scoped>\n",
       "    .dataframe tbody tr th:only-of-type {\n",
       "        vertical-align: middle;\n",
       "    }\n",
       "\n",
       "    .dataframe tbody tr th {\n",
       "        vertical-align: top;\n",
       "    }\n",
       "\n",
       "    .dataframe thead th {\n",
       "        text-align: right;\n",
       "    }\n",
       "</style>\n",
       "<table border=\"1\" class=\"dataframe\">\n",
       "  <thead>\n",
       "    <tr style=\"text-align: right;\">\n",
       "      <th></th>\n",
       "      <th>mean_damage</th>\n",
       "      <th>frequency</th>\n",
       "    </tr>\n",
       "  </thead>\n",
       "  <tbody>\n",
       "    <tr>\n",
       "      <th>26</th>\n",
       "      <td>173.089</td>\n",
       "      <td>8.678017</td>\n",
       "    </tr>\n",
       "    <tr>\n",
       "      <th>24</th>\n",
       "      <td>189.466</td>\n",
       "      <td>0.502684</td>\n",
       "    </tr>\n",
       "    <tr>\n",
       "      <th>5</th>\n",
       "      <td>191.97</td>\n",
       "      <td>1.032229</td>\n",
       "    </tr>\n",
       "    <tr>\n",
       "      <th>20</th>\n",
       "      <td>192.646</td>\n",
       "      <td>6.606268</td>\n",
       "    </tr>\n",
       "    <tr>\n",
       "      <th>13</th>\n",
       "      <td>193.766</td>\n",
       "      <td>3.686862</td>\n",
       "    </tr>\n",
       "    <tr>\n",
       "      <th>1</th>\n",
       "      <td>196.076</td>\n",
       "      <td>1.036450</td>\n",
       "    </tr>\n",
       "    <tr>\n",
       "      <th>22</th>\n",
       "      <td>200.096</td>\n",
       "      <td>2.399070</td>\n",
       "    </tr>\n",
       "    <tr>\n",
       "      <th>30</th>\n",
       "      <td>202.048</td>\n",
       "      <td>1.030694</td>\n",
       "    </tr>\n",
       "    <tr>\n",
       "      <th>9</th>\n",
       "      <td>202.602</td>\n",
       "      <td>1.518797</td>\n",
       "    </tr>\n",
       "    <tr>\n",
       "      <th>14</th>\n",
       "      <td>204.959</td>\n",
       "      <td>0.657710</td>\n",
       "    </tr>\n",
       "    <tr>\n",
       "      <th>25</th>\n",
       "      <td>205.405</td>\n",
       "      <td>2.158088</td>\n",
       "    </tr>\n",
       "    <tr>\n",
       "      <th>19</th>\n",
       "      <td>206.183</td>\n",
       "      <td>0.142747</td>\n",
       "    </tr>\n",
       "    <tr>\n",
       "      <th>0</th>\n",
       "      <td>206.532</td>\n",
       "      <td>1.539135</td>\n",
       "    </tr>\n",
       "    <tr>\n",
       "      <th>29</th>\n",
       "      <td>207.828</td>\n",
       "      <td>0.151956</td>\n",
       "    </tr>\n",
       "    <tr>\n",
       "      <th>15</th>\n",
       "      <td>213.836</td>\n",
       "      <td>0.890250</td>\n",
       "    </tr>\n",
       "    <tr>\n",
       "      <th>12</th>\n",
       "      <td>215.216</td>\n",
       "      <td>1.225628</td>\n",
       "    </tr>\n",
       "    <tr>\n",
       "      <th>6</th>\n",
       "      <td>216.172</td>\n",
       "      <td>9.355682</td>\n",
       "    </tr>\n",
       "    <tr>\n",
       "      <th>4</th>\n",
       "      <td>216.214</td>\n",
       "      <td>5.590155</td>\n",
       "    </tr>\n",
       "    <tr>\n",
       "      <th>2</th>\n",
       "      <td>216.219</td>\n",
       "      <td>0.357251</td>\n",
       "    </tr>\n",
       "    <tr>\n",
       "      <th>16</th>\n",
       "      <td>217.175</td>\n",
       "      <td>1.662311</td>\n",
       "    </tr>\n",
       "    <tr>\n",
       "      <th>23</th>\n",
       "      <td>218.644</td>\n",
       "      <td>0.430160</td>\n",
       "    </tr>\n",
       "    <tr>\n",
       "      <th>dataset</th>\n",
       "      <td>223.827</td>\n",
       "      <td>NaN</td>\n",
       "    </tr>\n",
       "    <tr>\n",
       "      <th>7</th>\n",
       "      <td>229.773</td>\n",
       "      <td>7.288537</td>\n",
       "    </tr>\n",
       "    <tr>\n",
       "      <th>3</th>\n",
       "      <td>233.156</td>\n",
       "      <td>2.893312</td>\n",
       "    </tr>\n",
       "    <tr>\n",
       "      <th>11</th>\n",
       "      <td>233.771</td>\n",
       "      <td>3.154247</td>\n",
       "    </tr>\n",
       "    <tr>\n",
       "      <th>10</th>\n",
       "      <td>234.195</td>\n",
       "      <td>8.472339</td>\n",
       "    </tr>\n",
       "    <tr>\n",
       "      <th>28</th>\n",
       "      <td>240.755</td>\n",
       "      <td>0.101688</td>\n",
       "    </tr>\n",
       "    <tr>\n",
       "      <th>27</th>\n",
       "      <td>244.646</td>\n",
       "      <td>4.808884</td>\n",
       "    </tr>\n",
       "    <tr>\n",
       "      <th>8</th>\n",
       "      <td>248.527</td>\n",
       "      <td>7.321538</td>\n",
       "    </tr>\n",
       "    <tr>\n",
       "      <th>21</th>\n",
       "      <td>256.337</td>\n",
       "      <td>5.713332</td>\n",
       "    </tr>\n",
       "    <tr>\n",
       "      <th>18</th>\n",
       "      <td>270.837</td>\n",
       "      <td>1.223710</td>\n",
       "    </tr>\n",
       "    <tr>\n",
       "      <th>17</th>\n",
       "      <td>279.448</td>\n",
       "      <td>8.370267</td>\n",
       "    </tr>\n",
       "  </tbody>\n",
       "</table>\n",
       "</div>"
      ],
      "text/plain": [
       "        mean_damage  frequency\n",
       "26          173.089   8.678017\n",
       "24          189.466   0.502684\n",
       "5            191.97   1.032229\n",
       "20          192.646   6.606268\n",
       "13          193.766   3.686862\n",
       "1           196.076   1.036450\n",
       "22          200.096   2.399070\n",
       "30          202.048   1.030694\n",
       "9           202.602   1.518797\n",
       "14          204.959   0.657710\n",
       "25          205.405   2.158088\n",
       "19          206.183   0.142747\n",
       "0           206.532   1.539135\n",
       "29          207.828   0.151956\n",
       "15          213.836   0.890250\n",
       "12          215.216   1.225628\n",
       "6           216.172   9.355682\n",
       "4           216.214   5.590155\n",
       "2           216.219   0.357251\n",
       "16          217.175   1.662311\n",
       "23          218.644   0.430160\n",
       "dataset     223.827        NaN\n",
       "7           229.773   7.288537\n",
       "3           233.156   2.893312\n",
       "11          233.771   3.154247\n",
       "10          234.195   8.472339\n",
       "28          240.755   0.101688\n",
       "27          244.646   4.808884\n",
       "8           248.527   7.321538\n",
       "21          256.337   5.713332\n",
       "18          270.837   1.223710\n",
       "17          279.448   8.370267"
      ]
     },
     "execution_count": 11,
     "metadata": {},
     "output_type": "execute_result"
    }
   ],
   "source": [
    "expected_value = pd.DataFrame(index=cmap.index, columns=[\"mean_damage\", \"frequency\"])\n",
    "for i in expected_value.index:\n",
    "    expected_value.loc[i,\"mean_damage\"] = cmap.loc[i,1]+cmap.loc[i,2]*2+cmap.loc[i,3]*3\n",
    "expected_value[\"frequency\"] = df[col].value_counts().sort_index()/len(df)*100\n",
    "expected_value.sort_values(by=\"mean_damage\")"
   ]
  },
  {
   "cell_type": "markdown",
   "metadata": {},
   "source": [
    "Let's now get insights of geo level2 ID - which are subdivision of geo level1 ID."
   ]
  },
  {
   "cell_type": "code",
   "execution_count": 12,
   "metadata": {
    "scrolled": true
   },
   "outputs": [
    {
     "data": {
      "text/html": [
       "<div>\n",
       "<style scoped>\n",
       "    .dataframe tbody tr th:only-of-type {\n",
       "        vertical-align: middle;\n",
       "    }\n",
       "\n",
       "    .dataframe tbody tr th {\n",
       "        vertical-align: top;\n",
       "    }\n",
       "\n",
       "    .dataframe thead th {\n",
       "        text-align: right;\n",
       "    }\n",
       "</style>\n",
       "<table border=\"1\" class=\"dataframe\">\n",
       "  <thead>\n",
       "    <tr style=\"text-align: right;\">\n",
       "      <th></th>\n",
       "      <th>mean_damage</th>\n",
       "      <th>frequency*100</th>\n",
       "    </tr>\n",
       "  </thead>\n",
       "  <tbody>\n",
       "    <tr>\n",
       "      <th>115</th>\n",
       "      <td>1</td>\n",
       "      <td>0.000384</td>\n",
       "    </tr>\n",
       "    <tr>\n",
       "      <th>1263</th>\n",
       "      <td>1</td>\n",
       "      <td>0.000384</td>\n",
       "    </tr>\n",
       "    <tr>\n",
       "      <th>688</th>\n",
       "      <td>1</td>\n",
       "      <td>0.000384</td>\n",
       "    </tr>\n",
       "    <tr>\n",
       "      <th>1043</th>\n",
       "      <td>1</td>\n",
       "      <td>0.000384</td>\n",
       "    </tr>\n",
       "    <tr>\n",
       "      <th>14</th>\n",
       "      <td>1.21818</td>\n",
       "      <td>0.042210</td>\n",
       "    </tr>\n",
       "    <tr>\n",
       "      <th>1228</th>\n",
       "      <td>1.22642</td>\n",
       "      <td>0.020338</td>\n",
       "    </tr>\n",
       "    <tr>\n",
       "      <th>557</th>\n",
       "      <td>1.23148</td>\n",
       "      <td>0.041443</td>\n",
       "    </tr>\n",
       "    <tr>\n",
       "      <th>428</th>\n",
       "      <td>1.25</td>\n",
       "      <td>0.003070</td>\n",
       "    </tr>\n",
       "    <tr>\n",
       "      <th>498</th>\n",
       "      <td>1.25</td>\n",
       "      <td>0.001535</td>\n",
       "    </tr>\n",
       "    <tr>\n",
       "      <th>301</th>\n",
       "      <td>1.25</td>\n",
       "      <td>0.001535</td>\n",
       "    </tr>\n",
       "    <tr>\n",
       "      <th>323</th>\n",
       "      <td>1.28287</td>\n",
       "      <td>0.096316</td>\n",
       "    </tr>\n",
       "    <tr>\n",
       "      <th>241</th>\n",
       "      <td>1.30435</td>\n",
       "      <td>0.008826</td>\n",
       "    </tr>\n",
       "    <tr>\n",
       "      <th>165</th>\n",
       "      <td>1.325</td>\n",
       "      <td>0.030698</td>\n",
       "    </tr>\n",
       "    <tr>\n",
       "      <th>865</th>\n",
       "      <td>1.33333</td>\n",
       "      <td>0.001151</td>\n",
       "    </tr>\n",
       "    <tr>\n",
       "      <th>480</th>\n",
       "      <td>1.35484</td>\n",
       "      <td>0.071373</td>\n",
       "    </tr>\n",
       "    <tr>\n",
       "      <th>896</th>\n",
       "      <td>1.36829</td>\n",
       "      <td>0.150038</td>\n",
       "    </tr>\n",
       "    <tr>\n",
       "      <th>199</th>\n",
       "      <td>1.38525</td>\n",
       "      <td>0.046815</td>\n",
       "    </tr>\n",
       "    <tr>\n",
       "      <th>1050</th>\n",
       "      <td>1.40511</td>\n",
       "      <td>0.285110</td>\n",
       "    </tr>\n",
       "    <tr>\n",
       "      <th>173</th>\n",
       "      <td>1.43305</td>\n",
       "      <td>0.183422</td>\n",
       "    </tr>\n",
       "    <tr>\n",
       "      <th>36</th>\n",
       "      <td>1.43392</td>\n",
       "      <td>0.328088</td>\n",
       "    </tr>\n",
       "    <tr>\n",
       "      <th>730</th>\n",
       "      <td>1.4375</td>\n",
       "      <td>0.055257</td>\n",
       "    </tr>\n",
       "    <tr>\n",
       "      <th>33</th>\n",
       "      <td>1.45455</td>\n",
       "      <td>0.004221</td>\n",
       "    </tr>\n",
       "    <tr>\n",
       "      <th>1316</th>\n",
       "      <td>1.5</td>\n",
       "      <td>0.000767</td>\n",
       "    </tr>\n",
       "    <tr>\n",
       "      <th>520</th>\n",
       "      <td>1.5</td>\n",
       "      <td>0.004605</td>\n",
       "    </tr>\n",
       "    <tr>\n",
       "      <th>6</th>\n",
       "      <td>1.5</td>\n",
       "      <td>0.000767</td>\n",
       "    </tr>\n",
       "    <tr>\n",
       "      <th>1078</th>\n",
       "      <td>1.5</td>\n",
       "      <td>0.000767</td>\n",
       "    </tr>\n",
       "    <tr>\n",
       "      <th>1386</th>\n",
       "      <td>1.5102</td>\n",
       "      <td>0.018803</td>\n",
       "    </tr>\n",
       "    <tr>\n",
       "      <th>1253</th>\n",
       "      <td>1.51835</td>\n",
       "      <td>0.418264</td>\n",
       "    </tr>\n",
       "    <tr>\n",
       "      <th>39</th>\n",
       "      <td>1.53219</td>\n",
       "      <td>1.549495</td>\n",
       "    </tr>\n",
       "    <tr>\n",
       "      <th>1376</th>\n",
       "      <td>1.53631</td>\n",
       "      <td>0.068687</td>\n",
       "    </tr>\n",
       "    <tr>\n",
       "      <th>...</th>\n",
       "      <td>...</td>\n",
       "      <td>...</td>\n",
       "    </tr>\n",
       "    <tr>\n",
       "      <th>1149</th>\n",
       "      <td>2.95391</td>\n",
       "      <td>0.191480</td>\n",
       "    </tr>\n",
       "    <tr>\n",
       "      <th>727</th>\n",
       "      <td>2.95853</td>\n",
       "      <td>0.083269</td>\n",
       "    </tr>\n",
       "    <tr>\n",
       "      <th>1313</th>\n",
       "      <td>2.96538</td>\n",
       "      <td>0.099769</td>\n",
       "    </tr>\n",
       "    <tr>\n",
       "      <th>1183</th>\n",
       "      <td>2.97688</td>\n",
       "      <td>0.132770</td>\n",
       "    </tr>\n",
       "    <tr>\n",
       "      <th>648</th>\n",
       "      <td>2.97706</td>\n",
       "      <td>0.083653</td>\n",
       "    </tr>\n",
       "    <tr>\n",
       "      <th>409</th>\n",
       "      <td>2.97744</td>\n",
       "      <td>0.051036</td>\n",
       "    </tr>\n",
       "    <tr>\n",
       "      <th>716</th>\n",
       "      <td>2.98477</td>\n",
       "      <td>0.075594</td>\n",
       "    </tr>\n",
       "    <tr>\n",
       "      <th>347</th>\n",
       "      <td>2.99029</td>\n",
       "      <td>0.079048</td>\n",
       "    </tr>\n",
       "    <tr>\n",
       "      <th>951</th>\n",
       "      <td>3</td>\n",
       "      <td>0.000384</td>\n",
       "    </tr>\n",
       "    <tr>\n",
       "      <th>632</th>\n",
       "      <td>3</td>\n",
       "      <td>0.000767</td>\n",
       "    </tr>\n",
       "    <tr>\n",
       "      <th>771</th>\n",
       "      <td>3</td>\n",
       "      <td>0.000384</td>\n",
       "    </tr>\n",
       "    <tr>\n",
       "      <th>319</th>\n",
       "      <td>3</td>\n",
       "      <td>0.000384</td>\n",
       "    </tr>\n",
       "    <tr>\n",
       "      <th>325</th>\n",
       "      <td>3</td>\n",
       "      <td>0.001151</td>\n",
       "    </tr>\n",
       "    <tr>\n",
       "      <th>1213</th>\n",
       "      <td>3</td>\n",
       "      <td>0.003070</td>\n",
       "    </tr>\n",
       "    <tr>\n",
       "      <th>1312</th>\n",
       "      <td>3</td>\n",
       "      <td>0.001535</td>\n",
       "    </tr>\n",
       "    <tr>\n",
       "      <th>361</th>\n",
       "      <td>3</td>\n",
       "      <td>0.000384</td>\n",
       "    </tr>\n",
       "    <tr>\n",
       "      <th>392</th>\n",
       "      <td>3</td>\n",
       "      <td>0.000384</td>\n",
       "    </tr>\n",
       "    <tr>\n",
       "      <th>1158</th>\n",
       "      <td>3</td>\n",
       "      <td>0.000384</td>\n",
       "    </tr>\n",
       "    <tr>\n",
       "      <th>505</th>\n",
       "      <td>3</td>\n",
       "      <td>0.000384</td>\n",
       "    </tr>\n",
       "    <tr>\n",
       "      <th>509</th>\n",
       "      <td>3</td>\n",
       "      <td>0.001919</td>\n",
       "    </tr>\n",
       "    <tr>\n",
       "      <th>524</th>\n",
       "      <td>3</td>\n",
       "      <td>0.002302</td>\n",
       "    </tr>\n",
       "    <tr>\n",
       "      <th>552</th>\n",
       "      <td>3</td>\n",
       "      <td>0.000767</td>\n",
       "    </tr>\n",
       "    <tr>\n",
       "      <th>627</th>\n",
       "      <td>3</td>\n",
       "      <td>0.000384</td>\n",
       "    </tr>\n",
       "    <tr>\n",
       "      <th>224</th>\n",
       "      <td>3</td>\n",
       "      <td>0.000767</td>\n",
       "    </tr>\n",
       "    <tr>\n",
       "      <th>665</th>\n",
       "      <td>3</td>\n",
       "      <td>0.000384</td>\n",
       "    </tr>\n",
       "    <tr>\n",
       "      <th>78</th>\n",
       "      <td>3</td>\n",
       "      <td>0.000767</td>\n",
       "    </tr>\n",
       "    <tr>\n",
       "      <th>77</th>\n",
       "      <td>3</td>\n",
       "      <td>0.000384</td>\n",
       "    </tr>\n",
       "    <tr>\n",
       "      <th>1016</th>\n",
       "      <td>3</td>\n",
       "      <td>0.001535</td>\n",
       "    </tr>\n",
       "    <tr>\n",
       "      <th>786</th>\n",
       "      <td>3</td>\n",
       "      <td>0.000767</td>\n",
       "    </tr>\n",
       "    <tr>\n",
       "      <th>1163</th>\n",
       "      <td>3</td>\n",
       "      <td>0.000384</td>\n",
       "    </tr>\n",
       "  </tbody>\n",
       "</table>\n",
       "<p>1415 rows × 2 columns</p>\n",
       "</div>"
      ],
      "text/plain": [
       "     mean_damage  frequency*100\n",
       "115            1       0.000384\n",
       "1263           1       0.000384\n",
       "688            1       0.000384\n",
       "1043           1       0.000384\n",
       "14       1.21818       0.042210\n",
       "1228     1.22642       0.020338\n",
       "557      1.23148       0.041443\n",
       "428         1.25       0.003070\n",
       "498         1.25       0.001535\n",
       "301         1.25       0.001535\n",
       "323      1.28287       0.096316\n",
       "241      1.30435       0.008826\n",
       "165        1.325       0.030698\n",
       "865      1.33333       0.001151\n",
       "480      1.35484       0.071373\n",
       "896      1.36829       0.150038\n",
       "199      1.38525       0.046815\n",
       "1050     1.40511       0.285110\n",
       "173      1.43305       0.183422\n",
       "36       1.43392       0.328088\n",
       "730       1.4375       0.055257\n",
       "33       1.45455       0.004221\n",
       "1316         1.5       0.000767\n",
       "520          1.5       0.004605\n",
       "6            1.5       0.000767\n",
       "1078         1.5       0.000767\n",
       "1386      1.5102       0.018803\n",
       "1253     1.51835       0.418264\n",
       "39       1.53219       1.549495\n",
       "1376     1.53631       0.068687\n",
       "...          ...            ...\n",
       "1149     2.95391       0.191480\n",
       "727      2.95853       0.083269\n",
       "1313     2.96538       0.099769\n",
       "1183     2.97688       0.132770\n",
       "648      2.97706       0.083653\n",
       "409      2.97744       0.051036\n",
       "716      2.98477       0.075594\n",
       "347      2.99029       0.079048\n",
       "951            3       0.000384\n",
       "632            3       0.000767\n",
       "771            3       0.000384\n",
       "319            3       0.000384\n",
       "325            3       0.001151\n",
       "1213           3       0.003070\n",
       "1312           3       0.001535\n",
       "361            3       0.000384\n",
       "392            3       0.000384\n",
       "1158           3       0.000384\n",
       "505            3       0.000384\n",
       "509            3       0.001919\n",
       "524            3       0.002302\n",
       "552            3       0.000767\n",
       "627            3       0.000384\n",
       "224            3       0.000767\n",
       "665            3       0.000384\n",
       "78             3       0.000767\n",
       "77             3       0.000384\n",
       "1016           3       0.001535\n",
       "786            3       0.000767\n",
       "1163           3       0.000384\n",
       "\n",
       "[1415 rows x 2 columns]"
      ]
     },
     "execution_count": 12,
     "metadata": {},
     "output_type": "execute_result"
    }
   ],
   "source": [
    "dmgs = df.merge(damages, right_index=True, left_index=True).loc[:,['geo_level_2_id','damage_grade']]\n",
    "cmap = pd.DataFrame(columns=np.sort(df['geo_level_2_id'].unique()), index=np.arange(1,4)).fillna(0)\n",
    "for i in cmap.columns:\n",
    "    cmap[i] = dmgs[dmgs['geo_level_2_id'] == i]['damage_grade'].value_counts().sort_index()/len(dmgs[dmgs['geo_level_2_id'] == i])\n",
    "cmap = cmap.T.fillna(0)\n",
    "cmap.loc[\"dataset\",:] = damages['damage_grade'].value_counts()/len(damages)\n",
    "expected_value = pd.DataFrame(index=cmap.index, columns=[\"mean_damage\", \"frequency*100\"])\n",
    "for i in expected_value.index:\n",
    "    expected_value.loc[i,\"mean_damage\"] = cmap.loc[i,1]+cmap.loc[i,2]*2+cmap.loc[i,3]*3\n",
    "expected_value[\"frequency*100\"] = df['geo_level_2_id'].value_counts().sort_index()/len(df)*100\n",
    "expected_value.sort_values(by=\"mean_damage\")"
   ]
  },
  {
   "cell_type": "markdown",
   "metadata": {},
   "source": [
    "There are too many geo level2 ID. I will either drop this feature or substitute geo level 1&2(&3) by the expected damage value of geo level 2."
   ]
  },
  {
   "cell_type": "markdown",
   "metadata": {},
   "source": [
    "# Count floors of buildings"
   ]
  },
  {
   "cell_type": "markdown",
   "metadata": {},
   "source": [
    "count_floors_pre_eq (type: int): number of floors in the building before the earthquake."
   ]
  },
  {
   "cell_type": "code",
   "execution_count": 13,
   "metadata": {},
   "outputs": [
    {
     "data": {
      "text/plain": [
       "count    260601.000000\n",
       "mean          2.129723\n",
       "std           0.727665\n",
       "min           1.000000\n",
       "25%           2.000000\n",
       "50%           2.000000\n",
       "75%           2.000000\n",
       "max           9.000000\n",
       "Name: count_floors_pre_eq, dtype: float64"
      ]
     },
     "execution_count": 13,
     "metadata": {},
     "output_type": "execute_result"
    }
   ],
   "source": [
    "col = 'count_floors_pre_eq'\n",
    "df[col].describe()"
   ]
  },
  {
   "cell_type": "code",
   "execution_count": 14,
   "metadata": {
    "scrolled": true
   },
   "outputs": [
    {
     "data": {
      "text/plain": [
       "<matplotlib.legend.Legend at 0x2ea612c1908>"
      ]
     },
     "execution_count": 14,
     "metadata": {},
     "output_type": "execute_result"
    },
    {
     "data": {
      "image/png": "[encoded data removed]",
      "text/plain": [
       "<Figure size 432x288 with 1 Axes>"
      ]
     },
     "metadata": {
      "needs_background": "light"
     },
     "output_type": "display_data"
    }
   ],
   "source": [
    "df[col].hist(align=\"mid\", rwidth=0.8, \n",
    "                               bins=np.arange(min(df[col]), max(df[col])+1)-0.5)\n",
    "plt.axhline(df.loc[:,col].value_counts().mean(), color='r')\n",
    "plt.legend(labels=[\"mean\"])"
   ]
  },
  {
   "cell_type": "code",
   "execution_count": 15,
   "metadata": {},
   "outputs": [
    {
     "data": {
      "text/plain": [
       "2    156623\n",
       "3     55617\n",
       "1     40441\n",
       "4      5424\n",
       "5      2246\n",
       "6       209\n",
       "7        39\n",
       "9         1\n",
       "8         1\n",
       "Name: count_floors_pre_eq, dtype: int64"
      ]
     },
     "execution_count": 15,
     "metadata": {},
     "output_type": "execute_result"
    }
   ],
   "source": [
    "df[col].value_counts()"
   ]
  },
  {
   "cell_type": "markdown",
   "metadata": {},
   "source": [
    "There are very few buildings with more than 6 floors : they are clearly outliers\n",
    "\n",
    "Once again let's visualize the probabilities of damages level for each floor count. I added the probabilities of the wholedataset for comparison"
   ]
  },
  {
   "cell_type": "code",
   "execution_count": 16,
   "metadata": {
    "scrolled": false
   },
   "outputs": [
    {
     "data": {
      "text/plain": [
       "<matplotlib.axes._subplots.AxesSubplot at 0x2ea5ff3f128>"
      ]
     },
     "execution_count": 16,
     "metadata": {},
     "output_type": "execute_result"
    },
    {
     "data": {
      "image/png": "[encoded data removed]",
      "text/plain": [
       "<Figure size 1008x576 with 2 Axes>"
      ]
     },
     "metadata": {
      "needs_background": "light"
     },
     "output_type": "display_data"
    }
   ],
   "source": [
    "dmgs = df.merge(damages, right_index=True, left_index=True).loc[:,[col,'damage_grade']]\n",
    "cmap = pd.DataFrame(columns=np.arange(1,8), index=np.arange(1,4)).fillna(0)\n",
    "for i in range(1,8):\n",
    "    cmap[i] = dmgs[dmgs[col] == i]['damage_grade'].value_counts().sort_index()/len(dmgs[dmgs[col] == i])*100\n",
    "cmap = cmap.T.fillna(0)\n",
    "cmap.loc[\"dataset\",:] = damages['damage_grade'].value_counts()/len(damages)*100\n",
    "colormap = plt.cm.RdBu_r\n",
    "plt.figure(figsize=(14,8))\n",
    "plt.title('Damage Grade Conditional Frequencies', y=1.05, size=15)\n",
    "sns.heatmap(cmap.fillna(100).astype(float) ,linewidths=0.1, vmax=100, vmin=0,\n",
    "            square=True, cmap=colormap, linecolor='white', annot=True)"
   ]
  },
  {
   "cell_type": "markdown",
   "metadata": {},
   "source": [
    "Let's plot the mean of damages level against count floors of building. I added the mean of the wholedataset for comparison."
   ]
  },
  {
   "cell_type": "code",
   "execution_count": 17,
   "metadata": {
    "scrolled": true
   },
   "outputs": [
    {
     "data": {
      "text/plain": [
       "<matplotlib.legend.Legend at 0x2ea5fefd0b8>"
      ]
     },
     "execution_count": 17,
     "metadata": {},
     "output_type": "execute_result"
    },
    {
     "data": {
      "image/png": "[encoded data removed]",
      "text/plain": [
       "<Figure size 432x288 with 1 Axes>"
      ]
     },
     "metadata": {
      "needs_background": "light"
     },
     "output_type": "display_data"
    }
   ],
   "source": [
    "cmap = cmap.drop(index=\"dataset\")\n",
    "expected_value = pd.DataFrame(index=cmap.index, columns=[\"expected_value_damage\", \"frequency\"])\n",
    "for i in expected_value.index:\n",
    "    expected_value.loc[i,\"expected_value_damage\"] = cmap.loc[i,1]+cmap.loc[i,2]*2+cmap.loc[i,3]*3\n",
    "expected_value[\"frequency\"] = df[col].value_counts().sort_index()/len(df)*100\n",
    "expected_value.plot(y=\"expected_value_damage\")\n",
    "plt.axhline(damages['damage_grade'].mean(), color='r')\n",
    "plt.legend(labels=[\"expected value damage\", \"dataset mean\"])"
   ]
  },
  {
   "cell_type": "code",
   "execution_count": 18,
   "metadata": {
    "scrolled": true
   },
   "outputs": [
    {
     "data": {
      "text/html": [
       "<div>\n",
       "<style scoped>\n",
       "    .dataframe tbody tr th:only-of-type {\n",
       "        vertical-align: middle;\n",
       "    }\n",
       "\n",
       "    .dataframe tbody tr th {\n",
       "        vertical-align: top;\n",
       "    }\n",
       "\n",
       "    .dataframe thead th {\n",
       "        text-align: right;\n",
       "    }\n",
       "</style>\n",
       "<table border=\"1\" class=\"dataframe\">\n",
       "  <thead>\n",
       "    <tr style=\"text-align: right;\">\n",
       "      <th></th>\n",
       "      <th>expected_value_damage</th>\n",
       "      <th>frequency</th>\n",
       "    </tr>\n",
       "  </thead>\n",
       "  <tbody>\n",
       "    <tr>\n",
       "      <th>1</th>\n",
       "      <td>204.216</td>\n",
       "      <td>15.518359</td>\n",
       "    </tr>\n",
       "    <tr>\n",
       "      <th>2</th>\n",
       "      <td>223.923</td>\n",
       "      <td>60.100690</td>\n",
       "    </tr>\n",
       "    <tr>\n",
       "      <th>3</th>\n",
       "      <td>239.671</td>\n",
       "      <td>21.341821</td>\n",
       "    </tr>\n",
       "    <tr>\n",
       "      <th>4</th>\n",
       "      <td>211.726</td>\n",
       "      <td>2.081343</td>\n",
       "    </tr>\n",
       "    <tr>\n",
       "      <th>5</th>\n",
       "      <td>211.443</td>\n",
       "      <td>0.861854</td>\n",
       "    </tr>\n",
       "    <tr>\n",
       "      <th>6</th>\n",
       "      <td>185.646</td>\n",
       "      <td>0.080199</td>\n",
       "    </tr>\n",
       "    <tr>\n",
       "      <th>7</th>\n",
       "      <td>184.615</td>\n",
       "      <td>0.014965</td>\n",
       "    </tr>\n",
       "    <tr>\n",
       "      <th>dataset</th>\n",
       "      <td>2.23827</td>\n",
       "      <td>NaN</td>\n",
       "    </tr>\n",
       "  </tbody>\n",
       "</table>\n",
       "</div>"
      ],
      "text/plain": [
       "        expected_value_damage  frequency\n",
       "1                     204.216  15.518359\n",
       "2                     223.923  60.100690\n",
       "3                     239.671  21.341821\n",
       "4                     211.726   2.081343\n",
       "5                     211.443   0.861854\n",
       "6                     185.646   0.080199\n",
       "7                     184.615   0.014965\n",
       "dataset               2.23827        NaN"
      ]
     },
     "execution_count": 18,
     "metadata": {},
     "output_type": "execute_result"
    }
   ],
   "source": [
    "expected_value = expected_value.sort_index()\n",
    "expected_value.loc[\"dataset\",\"expected_value_damage\"] = damages['damage_grade'].mean()\n",
    "expected_value"
   ]
  },
  {
   "cell_type": "markdown",
   "metadata": {},
   "source": [
    "There is no specific conclusion here : the floors count is not obviously related to the damage grade level"
   ]
  },
  {
   "cell_type": "markdown",
   "metadata": {},
   "source": [
    "# Age of buildings"
   ]
  },
  {
   "cell_type": "markdown",
   "metadata": {},
   "source": [
    "age (type: int): age of the building in years."
   ]
  },
  {
   "cell_type": "code",
   "execution_count": 19,
   "metadata": {
    "scrolled": true
   },
   "outputs": [
    {
     "data": {
      "text/plain": [
       "count    260601.000000\n",
       "mean         26.535029\n",
       "std          73.565937\n",
       "min           0.000000\n",
       "25%          10.000000\n",
       "50%          15.000000\n",
       "75%          30.000000\n",
       "max         995.000000\n",
       "Name: age, dtype: float64"
      ]
     },
     "execution_count": 19,
     "metadata": {},
     "output_type": "execute_result"
    }
   ],
   "source": [
    "col = \"age\"\n",
    "df[col].describe()"
   ]
  },
  {
   "cell_type": "code",
   "execution_count": 20,
   "metadata": {
    "scrolled": true
   },
   "outputs": [
    {
     "data": {
      "text/plain": [
       "<matplotlib.legend.Legend at 0x2ea5ffd2b70>"
      ]
     },
     "execution_count": 20,
     "metadata": {},
     "output_type": "execute_result"
    },
    {
     "data": {
      "image/png": "[encoded data removed]",
      "text/plain": [
       "<Figure size 432x288 with 1 Axes>"
      ]
     },
     "metadata": {
      "needs_background": "light"
     },
     "output_type": "display_data"
    }
   ],
   "source": [
    "df[col].hist(align=\"mid\", rwidth=0.8, \n",
    "                               bins=np.arange(min(df[col]), 100+10, 5)-2.5)\n",
    "plt.axhline(df.loc[:,col].value_counts().mean(), color='r')\n",
    "plt.legend(labels=[\"mean\"])"
   ]
  },
  {
   "cell_type": "code",
   "execution_count": 21,
   "metadata": {
    "scrolled": true
   },
   "outputs": [
    {
     "data": {
      "text/plain": [
       "<matplotlib.axes._subplots.AxesSubplot at 0x2ea5ff278d0>"
      ]
     },
     "execution_count": 21,
     "metadata": {},
     "output_type": "execute_result"
    },
    {
     "data": {
      "image/png": "[encoded data removed]",
      "text/plain": [
       "<Figure size 432x288 with 1 Axes>"
      ]
     },
     "metadata": {
      "needs_background": "light"
     },
     "output_type": "display_data"
    }
   ],
   "source": [
    "df[col].hist(align=\"mid\", rwidth=0.8, \n",
    "                               bins=np.arange(105, 200+10, 5)-2.5)"
   ]
  },
  {
   "cell_type": "code",
   "execution_count": 22,
   "metadata": {},
   "outputs": [
    {
     "data": {
      "text/plain": [
       "1390"
      ]
     },
     "execution_count": 22,
     "metadata": {},
     "output_type": "execute_result"
    }
   ],
   "source": [
    "len(df[df[col] == 995])"
   ]
  },
  {
   "cell_type": "markdown",
   "metadata": {},
   "source": [
    "995-years old buildings are most likely errors. I will remove them from training set. There are very few buildings with aged more than 100 : they are clearly outliers.\n",
    "\n",
    "Let's plot the mean of damages level against age of building. I added the mean of the wholedataset for comparison"
   ]
  },
  {
   "cell_type": "code",
   "execution_count": 23,
   "metadata": {},
   "outputs": [
    {
     "data": {
      "text/plain": [
       "<matplotlib.axes._subplots.AxesSubplot at 0x2ea5fbf8cf8>"
      ]
     },
     "execution_count": 23,
     "metadata": {},
     "output_type": "execute_result"
    },
    {
     "data": {
      "image/png": "[encoded data removed]",
      "text/plain": [
       "<Figure size 1008x1512 with 2 Axes>"
      ]
     },
     "metadata": {
      "needs_background": "light"
     },
     "output_type": "display_data"
    }
   ],
   "source": [
    "dmgs = df.merge(damages, right_index=True, left_index=True).loc[:,[col,'damage_grade']]\n",
    "cmap = pd.DataFrame(columns=np.sort(df[col].unique()), index=np.arange(1,4)).fillna(0)\n",
    "for i in cmap.columns:\n",
    "    cmap[i] = dmgs[dmgs[col] == i]['damage_grade'].value_counts().sort_index()/len(dmgs[dmgs[col] == i])*100\n",
    "cmap = cmap.T.fillna(0)\n",
    "colormap = plt.cm.RdBu_r\n",
    "plt.figure(figsize=(14,21))\n",
    "plt.title('Damage Grade Conditional Frequencies', y=1.05, size=15)\n",
    "sns.heatmap(cmap.fillna(100).astype(float) ,linewidths=0.1, vmax=100, vmin=0,\n",
    "            square=True, cmap=colormap, linecolor='white', annot=True)"
   ]
  },
  {
   "cell_type": "code",
   "execution_count": 24,
   "metadata": {},
   "outputs": [
    {
     "data": {
      "text/plain": [
       "<matplotlib.legend.Legend at 0x2ea601a4d30>"
      ]
     },
     "execution_count": 24,
     "metadata": {},
     "output_type": "execute_result"
    },
    {
     "data": {
      "image/png": "[encoded data removed]",
      "text/plain": [
       "<Figure size 432x288 with 1 Axes>"
      ]
     },
     "metadata": {
      "needs_background": "light"
     },
     "output_type": "display_data"
    }
   ],
   "source": [
    "expected_value = pd.DataFrame(index=cmap.index, columns=[\"expected_value_damage\", \"frequency\"])\n",
    "for i in expected_value.index:\n",
    "    expected_value.loc[i,\"expected_value_damage\"] = cmap.loc[i,1]+cmap.loc[i,2]*2+cmap.loc[i,3]*3\n",
    "expected_value[\"frequency\"] = df[col].value_counts().sort_index()/len(df)*100\n",
    "(expected_value.loc[:150,:]/100).plot(y=\"expected_value_damage\")\n",
    "plt.axhline(damages['damage_grade'].mean(), color='r')\n",
    "plt.legend(labels=[\"expected value damage\", \"dataset mean\"])"
   ]
  },
  {
   "cell_type": "code",
   "execution_count": 25,
   "metadata": {},
   "outputs": [
    {
     "data": {
      "text/plain": [
       "0.9918496091726432"
      ]
     },
     "execution_count": 25,
     "metadata": {},
     "output_type": "execute_result"
    }
   ],
   "source": [
    "len(dmgs[dmgs[col]<105])/len(dmgs)"
   ]
  },
  {
   "cell_type": "code",
   "execution_count": 26,
   "metadata": {},
   "outputs": [
    {
     "data": {
      "text/plain": [
       "(2.220809792843691, 2.317448680351906)"
      ]
     },
     "execution_count": 26,
     "metadata": {},
     "output_type": "execute_result"
    }
   ],
   "source": [
    "dmgs[dmgs[col]>100][\"damage_grade\"].mean(), dmgs[dmgs[col]==100][\"damage_grade\"].mean()"
   ]
  },
  {
   "cell_type": "code",
   "execution_count": 27,
   "metadata": {},
   "outputs": [
    {
     "data": {
      "text/plain": [
       "(1     2.114701\n",
       " 2    66.860150\n",
       " 3    31.025149\n",
       " dtype: float64, 1     0.733138\n",
       " 2    66.788856\n",
       " 3    32.478006\n",
       " Name: 100, dtype: float64)"
      ]
     },
     "execution_count": 27,
     "metadata": {},
     "output_type": "execute_result"
    }
   ],
   "source": [
    "cmap.loc[105:,:].mean(), cmap.loc[100,:]"
   ]
  },
  {
   "cell_type": "markdown",
   "metadata": {},
   "source": [
    "This is an interesting curve. We can remove buildings aged more than 100 years from the training set (0.82% of buildings) and lower them to 100 years in the test set (because damages probabilities are really close so it won't affect predictions)."
   ]
  },
  {
   "cell_type": "markdown",
   "metadata": {},
   "source": [
    "# Area percentage of buildings"
   ]
  },
  {
   "cell_type": "code",
   "execution_count": 28,
   "metadata": {},
   "outputs": [
    {
     "data": {
      "text/plain": [
       "count    260601.000000\n",
       "mean          8.018051\n",
       "std           4.392231\n",
       "min           1.000000\n",
       "25%           5.000000\n",
       "50%           7.000000\n",
       "75%           9.000000\n",
       "max         100.000000\n",
       "Name: area_percentage, dtype: float64"
      ]
     },
     "execution_count": 28,
     "metadata": {},
     "output_type": "execute_result"
    }
   ],
   "source": [
    "col = 'area_percentage'\n",
    "df[col].describe()"
   ]
  },
  {
   "cell_type": "code",
   "execution_count": 29,
   "metadata": {},
   "outputs": [
    {
     "data": {
      "text/plain": [
       "<matplotlib.legend.Legend at 0x2ea6a7d8a58>"
      ]
     },
     "execution_count": 29,
     "metadata": {},
     "output_type": "execute_result"
    },
    {
     "data": {
      "image/png": "[encoded data removed]",
      "text/plain": [
       "<Figure size 432x288 with 1 Axes>"
      ]
     },
     "metadata": {
      "needs_background": "light"
     },
     "output_type": "display_data"
    }
   ],
   "source": [
    "df[col].hist(align=\"mid\", rwidth=0.8, \n",
    "                               bins=np.arange(min(df[col]), 30+2)-0.5)\n",
    "plt.axhline(df.loc[:,col].value_counts().mean(), color='r')\n",
    "plt.legend(labels=[\"mean\"])"
   ]
  },
  {
   "cell_type": "code",
   "execution_count": 30,
   "metadata": {
    "scrolled": true
   },
   "outputs": [
    {
     "data": {
      "text/plain": [
       "<matplotlib.axes._subplots.AxesSubplot at 0x2ea61694208>"
      ]
     },
     "execution_count": 30,
     "metadata": {},
     "output_type": "execute_result"
    },
    {
     "data": {
      "image/png": "[encoded data removed]",
      "text/plain": [
       "<Figure size 432x288 with 1 Axes>"
      ]
     },
     "metadata": {
      "needs_background": "light"
     },
     "output_type": "display_data"
    }
   ],
   "source": [
    "df[col].hist(align=\"mid\", rwidth=0.8, \n",
    "                               bins=np.arange(30, 100+2)-0.5)"
   ]
  },
  {
   "cell_type": "code",
   "execution_count": 31,
   "metadata": {
    "scrolled": true
   },
   "outputs": [
    {
     "data": {
      "text/plain": [
       "<matplotlib.legend.Legend at 0x2ea6a989cc0>"
      ]
     },
     "execution_count": 31,
     "metadata": {},
     "output_type": "execute_result"
    },
    {
     "data": {
      "image/png": "[encoded data removed]",
      "text/plain": [
       "<Figure size 432x288 with 1 Axes>"
      ]
     },
     "metadata": {
      "needs_background": "light"
     },
     "output_type": "display_data"
    }
   ],
   "source": [
    "dmgs = df.merge(damages, right_index=True, left_index=True).loc[:,[col,'damage_grade']]\n",
    "cmap = pd.DataFrame(columns=np.sort(df[col].unique()), index=np.arange(1,4)).fillna(0)\n",
    "for i in cmap.columns:\n",
    "    cmap[i] = dmgs[dmgs[col] == i]['damage_grade'].value_counts().sort_index()/len(dmgs[dmgs[col] == i])\n",
    "cmap = cmap.T.fillna(0)\n",
    "expected_value = pd.DataFrame(index=cmap.index, columns=[\"expected_value_damage\", \"frequency\"])\n",
    "for i in expected_value.index:\n",
    "    expected_value.loc[i,\"expected_value_damage\"] = cmap.loc[i,1]+cmap.loc[i,2]*2+cmap.loc[i,3]*3\n",
    "expected_value[\"frequency\"] = df[col].value_counts().sort_index()/len(df)*100\n",
    "expected_value.plot(y=\"expected_value_damage\")\n",
    "plt.axhline(damages['damage_grade'].mean(), color='r')\n",
    "plt.legend(labels=[\"expected value damage\", \"dataset mean\"])"
   ]
  },
  {
   "cell_type": "code",
   "execution_count": 32,
   "metadata": {
    "scrolled": false
   },
   "outputs": [
    {
     "data": {
      "text/plain": [
       "<matplotlib.legend.Legend at 0x2ea6a3fac88>"
      ]
     },
     "execution_count": 32,
     "metadata": {},
     "output_type": "execute_result"
    },
    {
     "data": {
      "image/png": "[encoded data removed]",
      "text/plain": [
       "<Figure size 432x288 with 1 Axes>"
      ]
     },
     "metadata": {
      "needs_background": "light"
     },
     "output_type": "display_data"
    }
   ],
   "source": [
    "dmgs = df.merge(damages, right_index=True, left_index=True).loc[:,[col,'damage_grade']]\n",
    "cmap = pd.DataFrame(columns=np.sort(df[col].unique()), index=np.arange(1,4)).fillna(0)\n",
    "for i in cmap.columns:\n",
    "    cmap[i] = dmgs[dmgs[col] == i]['damage_grade'].value_counts().sort_index()/len(dmgs[dmgs[col] == i])\n",
    "cmap = cmap.T.fillna(0)\n",
    "expected_value = pd.DataFrame(index=cmap.index, columns=[\"expected_value_damage\", \"frequency\"])\n",
    "for i in expected_value.index:\n",
    "    expected_value.loc[i,\"expected_value_damage\"] = cmap.loc[i,1]+cmap.loc[i,2]*2+cmap.loc[i,3]*3\n",
    "expected_value[\"frequency\"] = df[col].value_counts().sort_index()/len(df)*100\n",
    "expected_value.loc[:20,:].plot(y=\"expected_value_damage\")\n",
    "plt.axhline(damages['damage_grade'].mean(), color='r')\n",
    "plt.legend(labels=[\"expected value damage\", \"dataset mean\"])"
   ]
  },
  {
   "cell_type": "code",
   "execution_count": 33,
   "metadata": {
    "scrolled": true
   },
   "outputs": [
    {
     "data": {
      "text/plain": [
       "1      0.034536\n",
       "2      1.220640\n",
       "3      4.542193\n",
       "4      7.381399\n",
       "5     12.557128\n",
       "6     16.121581\n",
       "7     14.102785\n",
       "8     10.915154\n",
       "9      8.518386\n",
       "10     5.991151\n",
       "11     5.336511\n",
       "12     2.909045\n",
       "13     2.231381\n",
       "14     1.597078\n",
       "15     1.338828\n",
       "16     0.999996\n",
       "17     0.955100\n",
       "18     0.505370\n",
       "19     0.614733\n",
       "20     0.404066\n",
       "Name: frequency, dtype: float64"
      ]
     },
     "execution_count": 33,
     "metadata": {},
     "output_type": "execute_result"
    }
   ],
   "source": [
    "expected_value[\"frequency\"][:20]"
   ]
  },
  {
   "cell_type": "code",
   "execution_count": 34,
   "metadata": {},
   "outputs": [
    {
     "data": {
      "text/plain": [
       "0.9579779049197816"
      ]
     },
     "execution_count": 34,
     "metadata": {},
     "output_type": "execute_result"
    }
   ],
   "source": [
    "len(dmgs[dmgs[col]<17])/len(dmgs)"
   ]
  },
  {
   "cell_type": "code",
   "execution_count": 35,
   "metadata": {
    "scrolled": true
   },
   "outputs": [
    {
     "data": {
      "text/plain": [
       "(1.929567478137556, 1.9562073121735637)"
      ]
     },
     "execution_count": 35,
     "metadata": {},
     "output_type": "execute_result"
    }
   ],
   "source": [
    "dmgs[dmgs[col]>17][\"damage_grade\"].mean(), dmgs[dmgs[col]==17][\"damage_grade\"].mean()"
   ]
  },
  {
   "cell_type": "code",
   "execution_count": 36,
   "metadata": {
    "scrolled": true
   },
   "outputs": [
    {
     "data": {
      "text/plain": [
       "(1    0.257166\n",
       " 2    0.541736\n",
       " 3    0.201098\n",
       " dtype: float64, 1    0.254319\n",
       " 2    0.535155\n",
       " 3    0.210526\n",
       " Name: 17, dtype: float64)"
      ]
     },
     "execution_count": 36,
     "metadata": {},
     "output_type": "execute_result"
    }
   ],
   "source": [
    "cmap.loc[17:,:].mean(), cmap.loc[17,:]"
   ]
  },
  {
   "cell_type": "markdown",
   "metadata": {},
   "source": [
    "Damages probabilities are really close : it could be interesting to group together buildings with area percentage >= 17"
   ]
  },
  {
   "cell_type": "markdown",
   "metadata": {},
   "source": [
    "# Height percentage "
   ]
  },
  {
   "cell_type": "code",
   "execution_count": 37,
   "metadata": {},
   "outputs": [
    {
     "data": {
      "text/plain": [
       "count    260601.000000\n",
       "mean          5.434365\n",
       "std           1.918418\n",
       "min           2.000000\n",
       "25%           4.000000\n",
       "50%           5.000000\n",
       "75%           6.000000\n",
       "max          32.000000\n",
       "Name: height_percentage, dtype: float64"
      ]
     },
     "execution_count": 37,
     "metadata": {},
     "output_type": "execute_result"
    }
   ],
   "source": [
    "col = \"height_percentage\"\n",
    "df[col].describe()"
   ]
  },
  {
   "cell_type": "code",
   "execution_count": 38,
   "metadata": {},
   "outputs": [
    {
     "data": {
      "text/plain": [
       "<matplotlib.legend.Legend at 0x2ea6a487748>"
      ]
     },
     "execution_count": 38,
     "metadata": {},
     "output_type": "execute_result"
    },
    {
     "data": {
      "image/png": "[encoded data removed]",
      "text/plain": [
       "<Figure size 432x288 with 1 Axes>"
      ]
     },
     "metadata": {
      "needs_background": "light"
     },
     "output_type": "display_data"
    }
   ],
   "source": [
    "df[col].hist(align=\"mid\", rwidth=0.8, \n",
    "                               bins=np.arange(min(df[col]), 10+2)-0.5)\n",
    "plt.axhline(df.loc[:,col].value_counts().mean(), color='r')\n",
    "plt.legend(labels=[\"mean\"])"
   ]
  },
  {
   "cell_type": "code",
   "execution_count": 39,
   "metadata": {
    "scrolled": true
   },
   "outputs": [
    {
     "data": {
      "text/plain": [
       "<matplotlib.axes._subplots.AxesSubplot at 0x2ea6a6d16a0>"
      ]
     },
     "execution_count": 39,
     "metadata": {},
     "output_type": "execute_result"
    },
    {
     "data": {
      "image/png": "[encoded data removed]",
      "text/plain": [
       "<Figure size 432x288 with 1 Axes>"
      ]
     },
     "metadata": {
      "needs_background": "light"
     },
     "output_type": "display_data"
    }
   ],
   "source": [
    "df[col].hist(align=\"mid\", rwidth=0.8, \n",
    "                               bins=np.arange(11, 32+2)-0.5)"
   ]
  },
  {
   "cell_type": "code",
   "execution_count": 40,
   "metadata": {
    "scrolled": false
   },
   "outputs": [
    {
     "data": {
      "text/plain": [
       "<matplotlib.axes._subplots.AxesSubplot at 0x2ea6a7f8080>"
      ]
     },
     "execution_count": 40,
     "metadata": {},
     "output_type": "execute_result"
    },
    {
     "data": {
      "image/png": "[encoded data removed]",
      "text/plain": [
       "<Figure size 1008x2160 with 2 Axes>"
      ]
     },
     "metadata": {
      "needs_background": "light"
     },
     "output_type": "display_data"
    }
   ],
   "source": [
    "dmgs = df.merge(damages, right_index=True, left_index=True).loc[:,[col,'damage_grade']]\n",
    "cmap = pd.DataFrame(columns=np.sort(df[col].unique()), index=np.arange(1,4)).fillna(0)\n",
    "for i in cmap.columns:\n",
    "    cmap[i] = dmgs[dmgs[col] == i]['damage_grade'].value_counts().sort_index()/len(dmgs[dmgs[col] == i])*100\n",
    "cmap = cmap.T.fillna(0)\n",
    "colormap = plt.cm.RdBu_r\n",
    "plt.figure(figsize=(14,30))\n",
    "plt.title('Damage Grade Conditional Frequencies', y=1.05, size=15)\n",
    "sns.heatmap(cmap.fillna(100).astype(float) ,linewidths=0.1, vmax=100, vmin=0,\n",
    "            square=True, cmap=colormap, linecolor='white', annot=True)"
   ]
  },
  {
   "cell_type": "code",
   "execution_count": 41,
   "metadata": {
    "scrolled": true
   },
   "outputs": [
    {
     "data": {
      "text/plain": [
       "<matplotlib.legend.Legend at 0x2ea6a66ce48>"
      ]
     },
     "execution_count": 41,
     "metadata": {},
     "output_type": "execute_result"
    },
    {
     "data": {
      "image/png": "[encoded data removed]",
      "text/plain": [
       "<Figure size 432x288 with 1 Axes>"
      ]
     },
     "metadata": {
      "needs_background": "light"
     },
     "output_type": "display_data"
    }
   ],
   "source": [
    "expected_value = pd.DataFrame(index=cmap.index, columns=[\"expected_value_damage\", \"frequency\"])\n",
    "for i in expected_value.index:\n",
    "    expected_value.loc[i,\"expected_value_damage\"] = cmap.loc[i,1]+cmap.loc[i,2]*2+cmap.loc[i,3]*3\n",
    "expected_value[\"frequency\"] = df[col].value_counts().sort_index()/len(df)*100\n",
    "(expected_value/100).plot(y=\"expected_value_damage\")\n",
    "plt.axhline(damages['damage_grade'].mean(), color='r')\n",
    "plt.legend(labels=[\"expected value damage\", \"dataset mean\"])"
   ]
  },
  {
   "cell_type": "code",
   "execution_count": 42,
   "metadata": {
    "scrolled": true
   },
   "outputs": [
    {
     "data": {
      "text/html": [
       "<div>\n",
       "<style scoped>\n",
       "    .dataframe tbody tr th:only-of-type {\n",
       "        vertical-align: middle;\n",
       "    }\n",
       "\n",
       "    .dataframe tbody tr th {\n",
       "        vertical-align: top;\n",
       "    }\n",
       "\n",
       "    .dataframe thead th {\n",
       "        text-align: right;\n",
       "    }\n",
       "</style>\n",
       "<table border=\"1\" class=\"dataframe\">\n",
       "  <thead>\n",
       "    <tr style=\"text-align: right;\">\n",
       "      <th></th>\n",
       "      <th>expected_value_damage</th>\n",
       "      <th>frequency</th>\n",
       "    </tr>\n",
       "  </thead>\n",
       "  <tbody>\n",
       "    <tr>\n",
       "      <th>dataset</th>\n",
       "      <td>2.23827</td>\n",
       "      <td>NaN</td>\n",
       "    </tr>\n",
       "    <tr>\n",
       "      <th>20</th>\n",
       "      <td>166.667</td>\n",
       "      <td>0.012663</td>\n",
       "    </tr>\n",
       "    <tr>\n",
       "      <th>16</th>\n",
       "      <td>168.156</td>\n",
       "      <td>0.068687</td>\n",
       "    </tr>\n",
       "    <tr>\n",
       "      <th>15</th>\n",
       "      <td>168.836</td>\n",
       "      <td>0.112049</td>\n",
       "    </tr>\n",
       "    <tr>\n",
       "      <th>19</th>\n",
       "      <td>171.429</td>\n",
       "      <td>0.002686</td>\n",
       "    </tr>\n",
       "    <tr>\n",
       "      <th>18</th>\n",
       "      <td>173.239</td>\n",
       "      <td>0.027245</td>\n",
       "    </tr>\n",
       "    <tr>\n",
       "      <th>14</th>\n",
       "      <td>175.758</td>\n",
       "      <td>0.025326</td>\n",
       "    </tr>\n",
       "    <tr>\n",
       "      <th>21</th>\n",
       "      <td>176.923</td>\n",
       "      <td>0.004988</td>\n",
       "    </tr>\n",
       "    <tr>\n",
       "      <th>12</th>\n",
       "      <td>179.383</td>\n",
       "      <td>0.348042</td>\n",
       "    </tr>\n",
       "    <tr>\n",
       "      <th>13</th>\n",
       "      <td>183.136</td>\n",
       "      <td>0.291250</td>\n",
       "    </tr>\n",
       "    <tr>\n",
       "      <th>17</th>\n",
       "      <td>188.889</td>\n",
       "      <td>0.003454</td>\n",
       "    </tr>\n",
       "    <tr>\n",
       "      <th>31</th>\n",
       "      <td>200</td>\n",
       "      <td>0.000384</td>\n",
       "    </tr>\n",
       "    <tr>\n",
       "      <th>3</th>\n",
       "      <td>200.297</td>\n",
       "      <td>9.960438</td>\n",
       "    </tr>\n",
       "    <tr>\n",
       "      <th>9</th>\n",
       "      <td>211.31</td>\n",
       "      <td>2.062924</td>\n",
       "    </tr>\n",
       "    <tr>\n",
       "      <th>10</th>\n",
       "      <td>211.487</td>\n",
       "      <td>1.723708</td>\n",
       "    </tr>\n",
       "    <tr>\n",
       "      <th>2</th>\n",
       "      <td>215.69</td>\n",
       "      <td>3.570593</td>\n",
       "    </tr>\n",
       "    <tr>\n",
       "      <th>23</th>\n",
       "      <td>218.182</td>\n",
       "      <td>0.004221</td>\n",
       "    </tr>\n",
       "    <tr>\n",
       "      <th>11</th>\n",
       "      <td>221.701</td>\n",
       "      <td>0.351879</td>\n",
       "    </tr>\n",
       "    <tr>\n",
       "      <th>4</th>\n",
       "      <td>222.17</td>\n",
       "      <td>14.490735</td>\n",
       "    </tr>\n",
       "    <tr>\n",
       "      <th>24</th>\n",
       "      <td>225</td>\n",
       "      <td>0.001535</td>\n",
       "    </tr>\n",
       "    <tr>\n",
       "      <th>5</th>\n",
       "      <td>227.002</td>\n",
       "      <td>30.127666</td>\n",
       "    </tr>\n",
       "    <tr>\n",
       "      <th>6</th>\n",
       "      <td>230.335</td>\n",
       "      <td>17.834544</td>\n",
       "    </tr>\n",
       "    <tr>\n",
       "      <th>7</th>\n",
       "      <td>231.919</td>\n",
       "      <td>13.608927</td>\n",
       "    </tr>\n",
       "    <tr>\n",
       "      <th>8</th>\n",
       "      <td>233.643</td>\n",
       "      <td>5.334592</td>\n",
       "    </tr>\n",
       "    <tr>\n",
       "      <th>26</th>\n",
       "      <td>250</td>\n",
       "      <td>0.000767</td>\n",
       "    </tr>\n",
       "    <tr>\n",
       "      <th>28</th>\n",
       "      <td>250</td>\n",
       "      <td>0.000767</td>\n",
       "    </tr>\n",
       "    <tr>\n",
       "      <th>25</th>\n",
       "      <td>266.667</td>\n",
       "      <td>0.001151</td>\n",
       "    </tr>\n",
       "    <tr>\n",
       "      <th>32</th>\n",
       "      <td>298.667</td>\n",
       "      <td>0.028780</td>\n",
       "    </tr>\n",
       "  </tbody>\n",
       "</table>\n",
       "</div>"
      ],
      "text/plain": [
       "        expected_value_damage  frequency\n",
       "dataset               2.23827        NaN\n",
       "20                    166.667   0.012663\n",
       "16                    168.156   0.068687\n",
       "15                    168.836   0.112049\n",
       "19                    171.429   0.002686\n",
       "18                    173.239   0.027245\n",
       "14                    175.758   0.025326\n",
       "21                    176.923   0.004988\n",
       "12                    179.383   0.348042\n",
       "13                    183.136   0.291250\n",
       "17                    188.889   0.003454\n",
       "31                        200   0.000384\n",
       "3                     200.297   9.960438\n",
       "9                      211.31   2.062924\n",
       "10                    211.487   1.723708\n",
       "2                      215.69   3.570593\n",
       "23                    218.182   0.004221\n",
       "11                    221.701   0.351879\n",
       "4                      222.17  14.490735\n",
       "24                        225   0.001535\n",
       "5                     227.002  30.127666\n",
       "6                     230.335  17.834544\n",
       "7                     231.919  13.608927\n",
       "8                     233.643   5.334592\n",
       "26                        250   0.000767\n",
       "28                        250   0.000767\n",
       "25                    266.667   0.001151\n",
       "32                    298.667   0.028780"
      ]
     },
     "execution_count": 42,
     "metadata": {},
     "output_type": "execute_result"
    }
   ],
   "source": [
    "expected_value.loc[\"dataset\",\"expected_value_damage\"] = damages['damage_grade'].mean()\n",
    "expected_value.sort_values(by=\"expected_value_damage\")"
   ]
  },
  {
   "cell_type": "code",
   "execution_count": 43,
   "metadata": {},
   "outputs": [
    {
     "data": {
      "text/html": [
       "<div>\n",
       "<style scoped>\n",
       "    .dataframe tbody tr th:only-of-type {\n",
       "        vertical-align: middle;\n",
       "    }\n",
       "\n",
       "    .dataframe tbody tr th {\n",
       "        vertical-align: top;\n",
       "    }\n",
       "\n",
       "    .dataframe thead th {\n",
       "        text-align: right;\n",
       "    }\n",
       "</style>\n",
       "<table border=\"1\" class=\"dataframe\">\n",
       "  <thead>\n",
       "    <tr style=\"text-align: right;\">\n",
       "      <th></th>\n",
       "      <th>1</th>\n",
       "      <th>2</th>\n",
       "      <th>3</th>\n",
       "    </tr>\n",
       "  </thead>\n",
       "  <tbody>\n",
       "    <tr>\n",
       "      <th>2</th>\n",
       "      <td>16.141859</td>\n",
       "      <td>52.025793</td>\n",
       "      <td>31.832348</td>\n",
       "    </tr>\n",
       "    <tr>\n",
       "      <th>3</th>\n",
       "      <td>23.585160</td>\n",
       "      <td>52.533035</td>\n",
       "      <td>23.881805</td>\n",
       "    </tr>\n",
       "    <tr>\n",
       "      <th>4</th>\n",
       "      <td>9.670842</td>\n",
       "      <td>58.488468</td>\n",
       "      <td>31.840691</td>\n",
       "    </tr>\n",
       "    <tr>\n",
       "      <th>5</th>\n",
       "      <td>6.725001</td>\n",
       "      <td>59.548100</td>\n",
       "      <td>33.726899</td>\n",
       "    </tr>\n",
       "    <tr>\n",
       "      <th>6</th>\n",
       "      <td>7.033587</td>\n",
       "      <td>55.597392</td>\n",
       "      <td>37.369021</td>\n",
       "    </tr>\n",
       "    <tr>\n",
       "      <th>7</th>\n",
       "      <td>6.386578</td>\n",
       "      <td>55.308050</td>\n",
       "      <td>38.305371</td>\n",
       "    </tr>\n",
       "    <tr>\n",
       "      <th>8</th>\n",
       "      <td>4.128902</td>\n",
       "      <td>58.099554</td>\n",
       "      <td>37.771544</td>\n",
       "    </tr>\n",
       "    <tr>\n",
       "      <th>9</th>\n",
       "      <td>15.736607</td>\n",
       "      <td>57.217262</td>\n",
       "      <td>27.046131</td>\n",
       "    </tr>\n",
       "  </tbody>\n",
       "</table>\n",
       "</div>"
      ],
      "text/plain": [
       "           1          2          3\n",
       "2  16.141859  52.025793  31.832348\n",
       "3  23.585160  52.533035  23.881805\n",
       "4   9.670842  58.488468  31.840691\n",
       "5   6.725001  59.548100  33.726899\n",
       "6   7.033587  55.597392  37.369021\n",
       "7   6.386578  55.308050  38.305371\n",
       "8   4.128902  58.099554  37.771544\n",
       "9  15.736607  57.217262  27.046131"
      ]
     },
     "execution_count": 43,
     "metadata": {},
     "output_type": "execute_result"
    }
   ],
   "source": [
    "cmap.loc[:9,:]"
   ]
  },
  {
   "cell_type": "markdown",
   "metadata": {},
   "source": [
    "There is nothing interesting here : for well-represented values (from 2 to 8), damages probabilities are close to the dataset one's."
   ]
  },
  {
   "cell_type": "markdown",
   "metadata": {},
   "source": [
    "# Count families"
   ]
  },
  {
   "cell_type": "markdown",
   "metadata": {},
   "source": [
    "count_families (type: int): number of families that live in the building."
   ]
  },
  {
   "cell_type": "code",
   "execution_count": 44,
   "metadata": {},
   "outputs": [
    {
     "data": {
      "text/plain": [
       "count    260601.000000\n",
       "mean          0.983949\n",
       "std           0.418389\n",
       "min           0.000000\n",
       "25%           1.000000\n",
       "50%           1.000000\n",
       "75%           1.000000\n",
       "max           9.000000\n",
       "Name: count_families, dtype: float64"
      ]
     },
     "execution_count": 44,
     "metadata": {},
     "output_type": "execute_result"
    }
   ],
   "source": [
    "col = \"count_families\"\n",
    "df[col].describe()"
   ]
  },
  {
   "cell_type": "code",
   "execution_count": 45,
   "metadata": {
    "scrolled": false
   },
   "outputs": [
    {
     "data": {
      "text/plain": [
       "<matplotlib.legend.Legend at 0x2ea6a5e7ba8>"
      ]
     },
     "execution_count": 45,
     "metadata": {},
     "output_type": "execute_result"
    },
    {
     "data": {
      "image/png": "[encoded data removed]",
      "text/plain": [
       "<Figure size 432x288 with 1 Axes>"
      ]
     },
     "metadata": {
      "needs_background": "light"
     },
     "output_type": "display_data"
    }
   ],
   "source": [
    "df[col].hist(align=\"mid\", rwidth=0.8, \n",
    "                               bins=np.arange(min(df[col]), 9+2)-0.5)\n",
    "plt.axhline(df.loc[:,col].value_counts().mean(), color='r')\n",
    "plt.legend(labels=[\"mean\"])"
   ]
  },
  {
   "cell_type": "code",
   "execution_count": 46,
   "metadata": {},
   "outputs": [
    {
     "data": {
      "text/plain": [
       "0.8676674302861462"
      ]
     },
     "execution_count": 46,
     "metadata": {},
     "output_type": "execute_result"
    }
   ],
   "source": [
    "len(df[df[col] == 1])/len(df)"
   ]
  },
  {
   "cell_type": "code",
   "execution_count": 47,
   "metadata": {
    "scrolled": false
   },
   "outputs": [
    {
     "data": {
      "text/plain": [
       "<matplotlib.axes._subplots.AxesSubplot at 0x2ea6a721780>"
      ]
     },
     "execution_count": 47,
     "metadata": {},
     "output_type": "execute_result"
    },
    {
     "data": {
      "image/png": "[encoded data removed]",
      "text/plain": [
       "<Figure size 1008x360 with 2 Axes>"
      ]
     },
     "metadata": {
      "needs_background": "light"
     },
     "output_type": "display_data"
    }
   ],
   "source": [
    "dmgs = df.merge(damages, right_index=True, left_index=True).loc[:,[col,'damage_grade']]\n",
    "cmap = pd.DataFrame(columns=np.arange(1,5), index=np.arange(1,4)).fillna(0)\n",
    "for i in range(1,5):\n",
    "    cmap[i] = dmgs[dmgs[col] == i]['damage_grade'].value_counts().sort_index()/len(dmgs[dmgs[col] == i])*100\n",
    "cmap = cmap.T.fillna(0)\n",
    "cmap.loc[\"dataset\",:] = damages['damage_grade'].value_counts()/len(damages)*100\n",
    "colormap = plt.cm.RdBu_r\n",
    "plt.figure(figsize=(14,5))\n",
    "plt.title('Damage Grade Conditional Frequencies', y=1.05, size=15)\n",
    "sns.heatmap(cmap.fillna(100).astype(float) ,linewidths=0.1, vmax=100, vmin=0,\n",
    "            square=True, cmap=colormap, linecolor='white', annot=True)"
   ]
  },
  {
   "cell_type": "markdown",
   "metadata": {},
   "source": [
    "count_families == 1 is 87% of the dataset: this value is over-represented so this feature will not be very useful for training. I will consider remove it."
   ]
  },
  {
   "cell_type": "markdown",
   "metadata": {},
   "source": [
    "# Land surface condition"
   ]
  },
  {
   "cell_type": "markdown",
   "metadata": {},
   "source": [
    "land_surface_condition (type: categorical): surface condition of the land where the building was built. Possible values: n, o, t."
   ]
  },
  {
   "cell_type": "code",
   "execution_count": 48,
   "metadata": {
    "scrolled": true
   },
   "outputs": [
    {
     "data": {
      "text/plain": [
       "t    216757\n",
       "n     35528\n",
       "o      8316\n",
       "Name: land_surface_condition, dtype: int64"
      ]
     },
     "execution_count": 48,
     "metadata": {},
     "output_type": "execute_result"
    }
   ],
   "source": [
    "col = \"land_surface_condition\"\n",
    "df[col].value_counts()"
   ]
  },
  {
   "cell_type": "code",
   "execution_count": 49,
   "metadata": {
    "scrolled": true
   },
   "outputs": [
    {
     "data": {
      "text/plain": [
       "<matplotlib.axes._subplots.AxesSubplot at 0x2ea6a6b72e8>"
      ]
     },
     "execution_count": 49,
     "metadata": {},
     "output_type": "execute_result"
    },
    {
     "data": {
      "image/png": "[encoded data removed]",
      "text/plain": [
       "<Figure size 1008x288 with 2 Axes>"
      ]
     },
     "metadata": {
      "needs_background": "light"
     },
     "output_type": "display_data"
    }
   ],
   "source": [
    "dmgs = df.merge(damages, right_index=True, left_index=True).loc[:,[col,'damage_grade']]\n",
    "cmap = pd.DataFrame(columns=np.sort(df[col].unique()), index=np.arange(1,4)).fillna(0)\n",
    "for i in cmap.columns:\n",
    "    cmap[i] = dmgs[dmgs[col] == i]['damage_grade'].value_counts().sort_index()/len(dmgs[dmgs[col] == i])*100\n",
    "cmap = cmap.T.fillna(0)\n",
    "cmap.loc[\"dataset\",:] = damages['damage_grade'].value_counts()/len(damages)*100\n",
    "colormap = plt.cm.RdBu_r\n",
    "plt.figure(figsize=(14,4))\n",
    "plt.title('Damage Grade Conditional Frequencies', y=1.05, size=15)\n",
    "sns.heatmap(cmap.fillna(100).astype(float) ,linewidths=0.1, vmax=100, vmin=0,\n",
    "            square=True, cmap=colormap, linecolor='white', annot=True)"
   ]
  },
  {
   "cell_type": "code",
   "execution_count": 50,
   "metadata": {
    "scrolled": false
   },
   "outputs": [
    {
     "data": {
      "text/html": [
       "<div>\n",
       "<style scoped>\n",
       "    .dataframe tbody tr th:only-of-type {\n",
       "        vertical-align: middle;\n",
       "    }\n",
       "\n",
       "    .dataframe tbody tr th {\n",
       "        vertical-align: top;\n",
       "    }\n",
       "\n",
       "    .dataframe thead th {\n",
       "        text-align: right;\n",
       "    }\n",
       "</style>\n",
       "<table border=\"1\" class=\"dataframe\">\n",
       "  <thead>\n",
       "    <tr style=\"text-align: right;\">\n",
       "      <th></th>\n",
       "      <th>expected_value_damage</th>\n",
       "      <th>frequency</th>\n",
       "    </tr>\n",
       "  </thead>\n",
       "  <tbody>\n",
       "    <tr>\n",
       "      <th>t</th>\n",
       "      <td>2.23417</td>\n",
       "      <td>0.831758</td>\n",
       "    </tr>\n",
       "    <tr>\n",
       "      <th>dataset</th>\n",
       "      <td>2.23827</td>\n",
       "      <td>NaN</td>\n",
       "    </tr>\n",
       "    <tr>\n",
       "      <th>n</th>\n",
       "      <td>2.25141</td>\n",
       "      <td>0.136331</td>\n",
       "    </tr>\n",
       "    <tr>\n",
       "      <th>o</th>\n",
       "      <td>2.28908</td>\n",
       "      <td>0.031911</td>\n",
       "    </tr>\n",
       "  </tbody>\n",
       "</table>\n",
       "</div>"
      ],
      "text/plain": [
       "        expected_value_damage  frequency\n",
       "t                     2.23417   0.831758\n",
       "dataset               2.23827        NaN\n",
       "n                     2.25141   0.136331\n",
       "o                     2.28908   0.031911"
      ]
     },
     "execution_count": 50,
     "metadata": {},
     "output_type": "execute_result"
    }
   ],
   "source": [
    "expected_value = pd.DataFrame(index=cmap.index, columns=[\"expected_value_damage\", \"frequency\"])\n",
    "for i in expected_value.index:\n",
    "    expected_value.loc[i,\"expected_value_damage\"] = cmap.loc[i,1]+cmap.loc[i,2]*2+cmap.loc[i,3]*3\n",
    "expected_value[\"frequency\"] = df[col].value_counts().sort_index()/len(df)*100\n",
    "(expected_value/100).sort_values(by=\"expected_value_damage\")"
   ]
  },
  {
   "cell_type": "markdown",
   "metadata": {},
   "source": [
    "One category (t) is over-represented in this feature. I will consider remove the feature, or merge together the 2 others (n and o)"
   ]
  },
  {
   "cell_type": "markdown",
   "metadata": {},
   "source": [
    "# Foundation"
   ]
  },
  {
   "cell_type": "markdown",
   "metadata": {},
   "source": [
    "foundation_type (type: categorical): type of foundation used while building. Possible values: h, i, r, u, w."
   ]
  },
  {
   "cell_type": "code",
   "execution_count": 51,
   "metadata": {
    "scrolled": true
   },
   "outputs": [
    {
     "data": {
      "text/plain": [
       "r    219196\n",
       "w     15118\n",
       "u     14260\n",
       "i     10579\n",
       "h      1448\n",
       "Name: foundation_type, dtype: int64"
      ]
     },
     "execution_count": 51,
     "metadata": {},
     "output_type": "execute_result"
    }
   ],
   "source": [
    "col = \"foundation_type\"\n",
    "df[col].value_counts()"
   ]
  },
  {
   "cell_type": "code",
   "execution_count": 52,
   "metadata": {
    "scrolled": false
   },
   "outputs": [
    {
     "data": {
      "text/plain": [
       "<matplotlib.axes._subplots.AxesSubplot at 0x2ea6af6f358>"
      ]
     },
     "execution_count": 52,
     "metadata": {},
     "output_type": "execute_result"
    },
    {
     "data": {
      "image/png": "[encoded data removed]",
      "text/plain": [
       "<Figure size 1008x432 with 2 Axes>"
      ]
     },
     "metadata": {
      "needs_background": "light"
     },
     "output_type": "display_data"
    }
   ],
   "source": [
    "dmgs = df.merge(damages, right_index=True, left_index=True).loc[:,[col,'damage_grade']]\n",
    "cmap = pd.DataFrame(columns=np.sort(df[col].unique()), index=np.arange(1,4)).fillna(0)\n",
    "for i in cmap.columns:\n",
    "    cmap[i] = dmgs[dmgs[col] == i]['damage_grade'].value_counts().sort_index()/len(dmgs[dmgs[col] == i])*100\n",
    "cmap = cmap.T.fillna(0)\n",
    "cmap.loc[\"dataset\",:] = damages['damage_grade'].value_counts()/len(damages)*100\n",
    "colormap = plt.cm.RdBu_r\n",
    "plt.figure(figsize=(14,6))\n",
    "plt.title('Damage Grade Conditional Frequencies', y=1.05, size=15)\n",
    "sns.heatmap(cmap.fillna(100).astype(float) ,linewidths=0.1, vmax=100, vmin=0,\n",
    "            square=True, cmap=colormap, linecolor='white', annot=True)"
   ]
  },
  {
   "cell_type": "code",
   "execution_count": 53,
   "metadata": {
    "scrolled": true
   },
   "outputs": [
    {
     "data": {
      "text/html": [
       "<div>\n",
       "<style scoped>\n",
       "    .dataframe tbody tr th:only-of-type {\n",
       "        vertical-align: middle;\n",
       "    }\n",
       "\n",
       "    .dataframe tbody tr th {\n",
       "        vertical-align: top;\n",
       "    }\n",
       "\n",
       "    .dataframe thead th {\n",
       "        text-align: right;\n",
       "    }\n",
       "</style>\n",
       "<table border=\"1\" class=\"dataframe\">\n",
       "  <thead>\n",
       "    <tr style=\"text-align: right;\">\n",
       "      <th></th>\n",
       "      <th>expected_value_damage</th>\n",
       "      <th>frequency</th>\n",
       "    </tr>\n",
       "  </thead>\n",
       "  <tbody>\n",
       "    <tr>\n",
       "      <th>i</th>\n",
       "      <td>1.45335</td>\n",
       "      <td>0.040595</td>\n",
       "    </tr>\n",
       "    <tr>\n",
       "      <th>w</th>\n",
       "      <td>1.81095</td>\n",
       "      <td>0.058012</td>\n",
       "    </tr>\n",
       "    <tr>\n",
       "      <th>u</th>\n",
       "      <td>1.88366</td>\n",
       "      <td>0.054720</td>\n",
       "    </tr>\n",
       "    <tr>\n",
       "      <th>h</th>\n",
       "      <td>2.10566</td>\n",
       "      <td>0.005556</td>\n",
       "    </tr>\n",
       "    <tr>\n",
       "      <th>dataset</th>\n",
       "      <td>2.23827</td>\n",
       "      <td>NaN</td>\n",
       "    </tr>\n",
       "    <tr>\n",
       "      <th>r</th>\n",
       "      <td>2.32957</td>\n",
       "      <td>0.841117</td>\n",
       "    </tr>\n",
       "  </tbody>\n",
       "</table>\n",
       "</div>"
      ],
      "text/plain": [
       "        expected_value_damage  frequency\n",
       "i                     1.45335   0.040595\n",
       "w                     1.81095   0.058012\n",
       "u                     1.88366   0.054720\n",
       "h                     2.10566   0.005556\n",
       "dataset               2.23827        NaN\n",
       "r                     2.32957   0.841117"
      ]
     },
     "execution_count": 53,
     "metadata": {},
     "output_type": "execute_result"
    }
   ],
   "source": [
    "expected_value = pd.DataFrame(index=cmap.index, columns=[\"expected_value_damage\", \"frequency\"])\n",
    "for i in expected_value.index:\n",
    "    expected_value.loc[i,\"expected_value_damage\"] = cmap.loc[i,1]+cmap.loc[i,2]*2+cmap.loc[i,3]*3\n",
    "expected_value[\"frequency\"] = df[col].value_counts().sort_index()/len(df)*100\n",
    "(expected_value/100).sort_values(by=\"expected_value_damage\")"
   ]
  },
  {
   "cell_type": "markdown",
   "metadata": {},
   "source": [
    "Each category have very different damages probabilities so this feature will be very useful for training."
   ]
  },
  {
   "cell_type": "markdown",
   "metadata": {},
   "source": [
    "# Roof type"
   ]
  },
  {
   "cell_type": "markdown",
   "metadata": {},
   "source": [
    "roof_type (type: categorical): type of roof used while building. Possible values: n, q, x."
   ]
  },
  {
   "cell_type": "code",
   "execution_count": 54,
   "metadata": {
    "scrolled": true
   },
   "outputs": [
    {
     "data": {
      "text/plain": [
       "n    182842\n",
       "q     61576\n",
       "x     16183\n",
       "Name: roof_type, dtype: int64"
      ]
     },
     "execution_count": 54,
     "metadata": {},
     "output_type": "execute_result"
    }
   ],
   "source": [
    "col = \"roof_type\"\n",
    "df[col].value_counts()"
   ]
  },
  {
   "cell_type": "code",
   "execution_count": 55,
   "metadata": {
    "scrolled": true
   },
   "outputs": [
    {
     "data": {
      "text/plain": [
       "<matplotlib.axes._subplots.AxesSubplot at 0x2ea6b0b2fd0>"
      ]
     },
     "execution_count": 55,
     "metadata": {},
     "output_type": "execute_result"
    },
    {
     "data": {
      "image/png": "[encoded data removed]",
      "text/plain": [
       "<Figure size 1008x288 with 2 Axes>"
      ]
     },
     "metadata": {
      "needs_background": "light"
     },
     "output_type": "display_data"
    }
   ],
   "source": [
    "dmgs = df.merge(damages, right_index=True, left_index=True).loc[:,[col,'damage_grade']]\n",
    "cmap = pd.DataFrame(columns=np.sort(df[col].unique()), index=np.arange(1,4)).fillna(0)\n",
    "for i in cmap.columns:\n",
    "    cmap[i] = dmgs[dmgs[col] == i]['damage_grade'].value_counts().sort_index()/len(dmgs[dmgs[col] == i])*100\n",
    "cmap = cmap.T.fillna(0)\n",
    "cmap.loc[\"dataset\",:] = damages['damage_grade'].value_counts()/len(damages)*100\n",
    "colormap = plt.cm.RdBu_r\n",
    "plt.figure(figsize=(14,4))\n",
    "plt.title('Damage Grade Conditional Frequencies', y=1.05, size=15)\n",
    "sns.heatmap(cmap.fillna(100).astype(float) ,linewidths=0.1, vmax=100, vmin=0,\n",
    "            square=True, cmap=colormap, linecolor='white', annot=True)"
   ]
  },
  {
   "cell_type": "code",
   "execution_count": 56,
   "metadata": {
    "scrolled": false
   },
   "outputs": [
    {
     "data": {
      "text/html": [
       "<div>\n",
       "<style scoped>\n",
       "    .dataframe tbody tr th:only-of-type {\n",
       "        vertical-align: middle;\n",
       "    }\n",
       "\n",
       "    .dataframe tbody tr th {\n",
       "        vertical-align: top;\n",
       "    }\n",
       "\n",
       "    .dataframe thead th {\n",
       "        text-align: right;\n",
       "    }\n",
       "</style>\n",
       "<table border=\"1\" class=\"dataframe\">\n",
       "  <thead>\n",
       "    <tr style=\"text-align: right;\">\n",
       "      <th></th>\n",
       "      <th>expected_value_damage</th>\n",
       "      <th>frequency</th>\n",
       "    </tr>\n",
       "  </thead>\n",
       "  <tbody>\n",
       "    <tr>\n",
       "      <th>x</th>\n",
       "      <td>1.57227</td>\n",
       "      <td>0.062099</td>\n",
       "    </tr>\n",
       "    <tr>\n",
       "      <th>dataset</th>\n",
       "      <td>2.23827</td>\n",
       "      <td>NaN</td>\n",
       "    </tr>\n",
       "    <tr>\n",
       "      <th>n</th>\n",
       "      <td>2.26964</td>\n",
       "      <td>0.701617</td>\n",
       "    </tr>\n",
       "    <tr>\n",
       "      <th>q</th>\n",
       "      <td>2.32017</td>\n",
       "      <td>0.236285</td>\n",
       "    </tr>\n",
       "  </tbody>\n",
       "</table>\n",
       "</div>"
      ],
      "text/plain": [
       "        expected_value_damage  frequency\n",
       "x                     1.57227   0.062099\n",
       "dataset               2.23827        NaN\n",
       "n                     2.26964   0.701617\n",
       "q                     2.32017   0.236285"
      ]
     },
     "execution_count": 56,
     "metadata": {},
     "output_type": "execute_result"
    }
   ],
   "source": [
    "expected_value = pd.DataFrame(index=cmap.index, columns=[\"expected_value_damage\", \"frequency\"])\n",
    "for i in expected_value.index:\n",
    "    expected_value.loc[i,\"expected_value_damage\"] = cmap.loc[i,1]+cmap.loc[i,2]*2+cmap.loc[i,3]*3\n",
    "expected_value[\"frequency\"] = df[col].value_counts().sort_index()/len(df)*100\n",
    "(expected_value/100).sort_values(by=\"expected_value_damage\")"
   ]
  },
  {
   "cell_type": "markdown",
   "metadata": {},
   "source": [
    "Each category have very different damages probabilities so this feature will be very useful for training."
   ]
  },
  {
   "cell_type": "markdown",
   "metadata": {},
   "source": [
    "# Ground floor type"
   ]
  },
  {
   "cell_type": "markdown",
   "metadata": {},
   "source": [
    "ground_floor_type (type: categorical): type of the ground floor. Possible values: f, m, v, x, z."
   ]
  },
  {
   "cell_type": "code",
   "execution_count": 57,
   "metadata": {
    "scrolled": true
   },
   "outputs": [
    {
     "data": {
      "text/plain": [
       "f    209619\n",
       "x     24877\n",
       "v     24593\n",
       "z      1004\n",
       "m       508\n",
       "Name: ground_floor_type, dtype: int64"
      ]
     },
     "execution_count": 57,
     "metadata": {},
     "output_type": "execute_result"
    }
   ],
   "source": [
    "col = \"ground_floor_type\"\n",
    "df[col].value_counts()"
   ]
  },
  {
   "cell_type": "code",
   "execution_count": 58,
   "metadata": {
    "scrolled": false
   },
   "outputs": [
    {
     "data": {
      "text/plain": [
       "<matplotlib.axes._subplots.AxesSubplot at 0x2ea6a9cdac8>"
      ]
     },
     "execution_count": 58,
     "metadata": {},
     "output_type": "execute_result"
    },
    {
     "data": {
      "image/png": "[encoded data removed]",
      "text/plain": [
       "<Figure size 1008x432 with 2 Axes>"
      ]
     },
     "metadata": {
      "needs_background": "light"
     },
     "output_type": "display_data"
    }
   ],
   "source": [
    "dmgs = df.merge(damages, right_index=True, left_index=True).loc[:,[col,'damage_grade']]\n",
    "cmap = pd.DataFrame(columns=np.sort(df[col].unique()), index=np.arange(1,4)).fillna(0)\n",
    "for i in cmap.columns:\n",
    "    cmap[i] = dmgs[dmgs[col] == i]['damage_grade'].value_counts().sort_index()/len(dmgs[dmgs[col] == i])*100\n",
    "cmap = cmap.T.fillna(0)\n",
    "cmap.loc[\"dataset\",:] = damages['damage_grade'].value_counts()/len(damages)*100\n",
    "colormap = plt.cm.RdBu_r\n",
    "plt.figure(figsize=(14,6))\n",
    "plt.title('Damage Grade Conditional Frequencies', y=1.05, size=15)\n",
    "sns.heatmap(cmap.fillna(100).astype(float) ,linewidths=0.1, vmax=100, vmin=0,\n",
    "            square=True, cmap=colormap, linecolor='white', annot=True)"
   ]
  },
  {
   "cell_type": "code",
   "execution_count": 59,
   "metadata": {
    "scrolled": false
   },
   "outputs": [
    {
     "data": {
      "text/html": [
       "<div>\n",
       "<style scoped>\n",
       "    .dataframe tbody tr th:only-of-type {\n",
       "        vertical-align: middle;\n",
       "    }\n",
       "\n",
       "    .dataframe tbody tr th {\n",
       "        vertical-align: top;\n",
       "    }\n",
       "\n",
       "    .dataframe thead th {\n",
       "        text-align: right;\n",
       "    }\n",
       "</style>\n",
       "<table border=\"1\" class=\"dataframe\">\n",
       "  <thead>\n",
       "    <tr style=\"text-align: right;\">\n",
       "      <th></th>\n",
       "      <th>expected_value_damage</th>\n",
       "      <th>frequency</th>\n",
       "    </tr>\n",
       "  </thead>\n",
       "  <tbody>\n",
       "    <tr>\n",
       "      <th>v</th>\n",
       "      <td>1.6342</td>\n",
       "      <td>0.094370</td>\n",
       "    </tr>\n",
       "    <tr>\n",
       "      <th>m</th>\n",
       "      <td>1.97047</td>\n",
       "      <td>0.001949</td>\n",
       "    </tr>\n",
       "    <tr>\n",
       "      <th>z</th>\n",
       "      <td>2.07371</td>\n",
       "      <td>0.003853</td>\n",
       "    </tr>\n",
       "    <tr>\n",
       "      <th>dataset</th>\n",
       "      <td>2.23827</td>\n",
       "      <td>NaN</td>\n",
       "    </tr>\n",
       "    <tr>\n",
       "      <th>x</th>\n",
       "      <td>2.25071</td>\n",
       "      <td>0.095460</td>\n",
       "    </tr>\n",
       "    <tr>\n",
       "      <th>f</th>\n",
       "      <td>2.3091</td>\n",
       "      <td>0.804368</td>\n",
       "    </tr>\n",
       "  </tbody>\n",
       "</table>\n",
       "</div>"
      ],
      "text/plain": [
       "        expected_value_damage  frequency\n",
       "v                      1.6342   0.094370\n",
       "m                     1.97047   0.001949\n",
       "z                     2.07371   0.003853\n",
       "dataset               2.23827        NaN\n",
       "x                     2.25071   0.095460\n",
       "f                      2.3091   0.804368"
      ]
     },
     "execution_count": 59,
     "metadata": {},
     "output_type": "execute_result"
    }
   ],
   "source": [
    "expected_value = pd.DataFrame(index=cmap.index, columns=[\"expected_value_damage\", \"frequency\"])\n",
    "for i in expected_value.index:\n",
    "    expected_value.loc[i,\"expected_value_damage\"] = cmap.loc[i,1]+cmap.loc[i,2]*2+cmap.loc[i,3]*3\n",
    "expected_value[\"frequency\"] = df[col].value_counts().sort_index()/len(df)*100\n",
    "(expected_value/100).sort_values(by=\"expected_value_damage\")"
   ]
  },
  {
   "cell_type": "markdown",
   "metadata": {},
   "source": [
    "There are too few buildings with ground_floor_type == m or z. I will merge tis 2 categories in preprocessing."
   ]
  },
  {
   "cell_type": "markdown",
   "metadata": {},
   "source": [
    "# Other floor type"
   ]
  },
  {
   "cell_type": "markdown",
   "metadata": {},
   "source": [
    "other_floor_type (type: categorical): type of constructions used in higher than the ground floors (except of roof). Possible values: j, q, s, x."
   ]
  },
  {
   "cell_type": "code",
   "execution_count": 60,
   "metadata": {},
   "outputs": [
    {
     "data": {
      "text/plain": [
       "q    165282\n",
       "x     43448\n",
       "j     39843\n",
       "s     12028\n",
       "Name: other_floor_type, dtype: int64"
      ]
     },
     "execution_count": 60,
     "metadata": {},
     "output_type": "execute_result"
    }
   ],
   "source": [
    "col = \"other_floor_type\"\n",
    "df[col].value_counts()"
   ]
  },
  {
   "cell_type": "code",
   "execution_count": 61,
   "metadata": {
    "scrolled": false
   },
   "outputs": [
    {
     "data": {
      "text/plain": [
       "<matplotlib.axes._subplots.AxesSubplot at 0x2ea6b13a208>"
      ]
     },
     "execution_count": 61,
     "metadata": {},
     "output_type": "execute_result"
    },
    {
     "data": {
      "image/png": "[encoded data removed]",
      "text/plain": [
       "<Figure size 1008x360 with 2 Axes>"
      ]
     },
     "metadata": {
      "needs_background": "light"
     },
     "output_type": "display_data"
    }
   ],
   "source": [
    "dmgs = df.merge(damages, right_index=True, left_index=True).loc[:,[col,'damage_grade']]\n",
    "cmap = pd.DataFrame(columns=np.sort(df[col].unique()), index=np.arange(1,4)).fillna(0)\n",
    "for i in cmap.columns:\n",
    "    cmap[i] = dmgs[dmgs[col] == i]['damage_grade'].value_counts().sort_index()/len(dmgs[dmgs[col] == i])*100\n",
    "cmap = cmap.T.fillna(0)\n",
    "cmap.loc[\"dataset\",:] = damages['damage_grade'].value_counts()/len(damages)*100\n",
    "colormap = plt.cm.RdBu_r\n",
    "plt.figure(figsize=(14,5))\n",
    "plt.title('Damage Grade Conditional Frequencies', y=1.05, size=15)\n",
    "sns.heatmap(cmap.fillna(100).astype(float) ,linewidths=0.1, vmax=100, vmin=0,\n",
    "            square=True, cmap=colormap, linecolor='white', annot=True)"
   ]
  },
  {
   "cell_type": "code",
   "execution_count": 62,
   "metadata": {
    "scrolled": false
   },
   "outputs": [
    {
     "data": {
      "text/html": [
       "<div>\n",
       "<style scoped>\n",
       "    .dataframe tbody tr th:only-of-type {\n",
       "        vertical-align: middle;\n",
       "    }\n",
       "\n",
       "    .dataframe tbody tr th {\n",
       "        vertical-align: top;\n",
       "    }\n",
       "\n",
       "    .dataframe thead th {\n",
       "        text-align: right;\n",
       "    }\n",
       "</style>\n",
       "<table border=\"1\" class=\"dataframe\">\n",
       "  <thead>\n",
       "    <tr style=\"text-align: right;\">\n",
       "      <th></th>\n",
       "      <th>expected_value_damage</th>\n",
       "      <th>frequency</th>\n",
       "    </tr>\n",
       "  </thead>\n",
       "  <tbody>\n",
       "    <tr>\n",
       "      <th>s</th>\n",
       "      <td>1.60742</td>\n",
       "      <td>0.046155</td>\n",
       "    </tr>\n",
       "    <tr>\n",
       "      <th>j</th>\n",
       "      <td>2.04289</td>\n",
       "      <td>0.152889</td>\n",
       "    </tr>\n",
       "    <tr>\n",
       "      <th>dataset</th>\n",
       "      <td>2.23827</td>\n",
       "      <td>NaN</td>\n",
       "    </tr>\n",
       "    <tr>\n",
       "      <th>x</th>\n",
       "      <td>2.29734</td>\n",
       "      <td>0.166722</td>\n",
       "    </tr>\n",
       "    <tr>\n",
       "      <th>q</th>\n",
       "      <td>2.31575</td>\n",
       "      <td>0.634234</td>\n",
       "    </tr>\n",
       "  </tbody>\n",
       "</table>\n",
       "</div>"
      ],
      "text/plain": [
       "        expected_value_damage  frequency\n",
       "s                     1.60742   0.046155\n",
       "j                     2.04289   0.152889\n",
       "dataset               2.23827        NaN\n",
       "x                     2.29734   0.166722\n",
       "q                     2.31575   0.634234"
      ]
     },
     "execution_count": 62,
     "metadata": {},
     "output_type": "execute_result"
    }
   ],
   "source": [
    "expected_value = pd.DataFrame(index=cmap.index, columns=[\"expected_value_damage\", \"frequency\"])\n",
    "for i in expected_value.index:\n",
    "    expected_value.loc[i,\"expected_value_damage\"] = cmap.loc[i,1]+cmap.loc[i,2]*2+cmap.loc[i,3]*3\n",
    "expected_value[\"frequency\"] = df[col].value_counts().sort_index()/len(df)*100\n",
    "(expected_value/100).sort_values(by=\"expected_value_damage\")"
   ]
  },
  {
   "cell_type": "markdown",
   "metadata": {},
   "source": [
    "These categories are well balanced in numbers and have a diversity in damages level probabilities : they will be valuable for training."
   ]
  },
  {
   "cell_type": "markdown",
   "metadata": {},
   "source": [
    "# Position"
   ]
  },
  {
   "cell_type": "markdown",
   "metadata": {},
   "source": [
    "position (type: categorical): position of the building. Possible values: j, o, s, t."
   ]
  },
  {
   "cell_type": "code",
   "execution_count": 63,
   "metadata": {},
   "outputs": [
    {
     "data": {
      "text/plain": [
       "s    202090\n",
       "t     42896\n",
       "j     13282\n",
       "o      2333\n",
       "Name: position, dtype: int64"
      ]
     },
     "execution_count": 63,
     "metadata": {},
     "output_type": "execute_result"
    }
   ],
   "source": [
    "col = \"position\"\n",
    "df[col].value_counts()"
   ]
  },
  {
   "cell_type": "code",
   "execution_count": 64,
   "metadata": {
    "scrolled": false
   },
   "outputs": [
    {
     "data": {
      "text/plain": [
       "<matplotlib.axes._subplots.AxesSubplot at 0x2ea6b209d30>"
      ]
     },
     "execution_count": 64,
     "metadata": {},
     "output_type": "execute_result"
    },
    {
     "data": {
      "image/png": "[encoded data removed]",
      "text/plain": [
       "<Figure size 1008x360 with 2 Axes>"
      ]
     },
     "metadata": {
      "needs_background": "light"
     },
     "output_type": "display_data"
    }
   ],
   "source": [
    "dmgs = df.merge(damages, right_index=True, left_index=True).loc[:,[col,'damage_grade']]\n",
    "cmap = pd.DataFrame(columns=np.sort(df[col].unique()), index=np.arange(1,4)).fillna(0)\n",
    "for i in cmap.columns:\n",
    "    cmap[i] = dmgs[dmgs[col] == i]['damage_grade'].value_counts().sort_index()/len(dmgs[dmgs[col] == i])*100\n",
    "cmap = cmap.T.fillna(0)\n",
    "cmap.loc[\"dataset\",:] = damages['damage_grade'].value_counts()/len(damages)*100\n",
    "colormap = plt.cm.RdBu_r\n",
    "plt.figure(figsize=(14,5))\n",
    "plt.title('Damage Grade Conditional Frequencies', y=1.05, size=15)\n",
    "sns.heatmap(cmap.fillna(100).astype(float) ,linewidths=0.1, vmax=100, vmin=0,\n",
    "            square=True, cmap=colormap, linecolor='white', annot=True)"
   ]
  },
  {
   "cell_type": "code",
   "execution_count": 65,
   "metadata": {
    "scrolled": true
   },
   "outputs": [
    {
     "data": {
      "text/html": [
       "<div>\n",
       "<style scoped>\n",
       "    .dataframe tbody tr th:only-of-type {\n",
       "        vertical-align: middle;\n",
       "    }\n",
       "\n",
       "    .dataframe tbody tr th {\n",
       "        vertical-align: top;\n",
       "    }\n",
       "\n",
       "    .dataframe thead th {\n",
       "        text-align: right;\n",
       "    }\n",
       "</style>\n",
       "<table border=\"1\" class=\"dataframe\">\n",
       "  <thead>\n",
       "    <tr style=\"text-align: right;\">\n",
       "      <th></th>\n",
       "      <th>expected_value_damage</th>\n",
       "      <th>frequency</th>\n",
       "    </tr>\n",
       "  </thead>\n",
       "  <tbody>\n",
       "    <tr>\n",
       "      <th>j</th>\n",
       "      <td>2.15306</td>\n",
       "      <td>0.050967</td>\n",
       "    </tr>\n",
       "    <tr>\n",
       "      <th>o</th>\n",
       "      <td>2.20746</td>\n",
       "      <td>0.008952</td>\n",
       "    </tr>\n",
       "    <tr>\n",
       "      <th>s</th>\n",
       "      <td>2.22913</td>\n",
       "      <td>0.775477</td>\n",
       "    </tr>\n",
       "    <tr>\n",
       "      <th>dataset</th>\n",
       "      <td>2.23827</td>\n",
       "      <td>NaN</td>\n",
       "    </tr>\n",
       "    <tr>\n",
       "      <th>t</th>\n",
       "      <td>2.3094</td>\n",
       "      <td>0.164604</td>\n",
       "    </tr>\n",
       "  </tbody>\n",
       "</table>\n",
       "</div>"
      ],
      "text/plain": [
       "        expected_value_damage  frequency\n",
       "j                     2.15306   0.050967\n",
       "o                     2.20746   0.008952\n",
       "s                     2.22913   0.775477\n",
       "dataset               2.23827        NaN\n",
       "t                      2.3094   0.164604"
      ]
     },
     "execution_count": 65,
     "metadata": {},
     "output_type": "execute_result"
    }
   ],
   "source": [
    "expected_value = pd.DataFrame(index=cmap.index, columns=[\"expected_value_damage\", \"frequency\"])\n",
    "for i in expected_value.index:\n",
    "    expected_value.loc[i,\"expected_value_damage\"] = cmap.loc[i,1]+cmap.loc[i,2]*2+cmap.loc[i,3]*3\n",
    "expected_value[\"frequency\"] = df[col].value_counts().sort_index()/len(df)*100\n",
    "(expected_value/100).sort_values(by=\"expected_value_damage\")"
   ]
  },
  {
   "cell_type": "markdown",
   "metadata": {},
   "source": [
    "These categories are quite balanced in numbers and have a diversity in damages level probabilities : they will be valuable for training."
   ]
  },
  {
   "cell_type": "markdown",
   "metadata": {},
   "source": [
    "# Plan configuration "
   ]
  },
  {
   "cell_type": "markdown",
   "metadata": {},
   "source": [
    "plan_configuration (type: categorical): building plan configuration. Possible values: a, c, d, f, m, n, o, q, s, u."
   ]
  },
  {
   "cell_type": "code",
   "execution_count": 66,
   "metadata": {
    "scrolled": false
   },
   "outputs": [
    {
     "data": {
      "text/plain": [
       "d    250072\n",
       "q      5692\n",
       "u      3649\n",
       "s       346\n",
       "c       325\n",
       "a       252\n",
       "o       159\n",
       "m        46\n",
       "n        38\n",
       "f        22\n",
       "Name: plan_configuration, dtype: int64"
      ]
     },
     "execution_count": 66,
     "metadata": {},
     "output_type": "execute_result"
    }
   ],
   "source": [
    "col = \"plan_configuration\"\n",
    "df[col].value_counts()"
   ]
  },
  {
   "cell_type": "code",
   "execution_count": 67,
   "metadata": {
    "scrolled": true
   },
   "outputs": [
    {
     "data": {
      "text/plain": [
       "<matplotlib.axes._subplots.AxesSubplot at 0x2ea6b2ca6a0>"
      ]
     },
     "execution_count": 67,
     "metadata": {},
     "output_type": "execute_result"
    },
    {
     "data": {
      "image/png": "[encoded data removed]",
      "text/plain": [
       "<Figure size 1008x792 with 2 Axes>"
      ]
     },
     "metadata": {
      "needs_background": "light"
     },
     "output_type": "display_data"
    }
   ],
   "source": [
    "dmgs = df.merge(damages, right_index=True, left_index=True).loc[:,[col,'damage_grade']]\n",
    "cmap = pd.DataFrame(columns=np.sort(df[col].unique()), index=np.arange(1,4)).fillna(0)\n",
    "for i in cmap.columns:\n",
    "    cmap[i] = dmgs[dmgs[col] == i]['damage_grade'].value_counts().sort_index()/len(dmgs[dmgs[col] == i])*100\n",
    "cmap = cmap.T.fillna(0)\n",
    "cmap.loc[\"dataset\",:] = damages['damage_grade'].value_counts()/len(damages)*100\n",
    "colormap = plt.cm.RdBu_r\n",
    "plt.figure(figsize=(14,11))\n",
    "plt.title('Damage Grade Conditional Frequencies', y=1.05, size=15)\n",
    "sns.heatmap(cmap.fillna(100).astype(float), linewidths=0.1, vmax=100, vmin=0,\n",
    "            square=True, cmap=colormap, linecolor='white', annot=True)"
   ]
  },
  {
   "cell_type": "code",
   "execution_count": 68,
   "metadata": {
    "scrolled": false
   },
   "outputs": [
    {
     "data": {
      "text/html": [
       "<div>\n",
       "<style scoped>\n",
       "    .dataframe tbody tr th:only-of-type {\n",
       "        vertical-align: middle;\n",
       "    }\n",
       "\n",
       "    .dataframe tbody tr th {\n",
       "        vertical-align: top;\n",
       "    }\n",
       "\n",
       "    .dataframe thead th {\n",
       "        text-align: right;\n",
       "    }\n",
       "</style>\n",
       "<table border=\"1\" class=\"dataframe\">\n",
       "  <thead>\n",
       "    <tr style=\"text-align: right;\">\n",
       "      <th></th>\n",
       "      <th>expected_value_damage</th>\n",
       "      <th>frequency</th>\n",
       "    </tr>\n",
       "  </thead>\n",
       "  <tbody>\n",
       "    <tr>\n",
       "      <th>c</th>\n",
       "      <td>1.83692</td>\n",
       "      <td>0.001247</td>\n",
       "    </tr>\n",
       "    <tr>\n",
       "      <th>a</th>\n",
       "      <td>1.85317</td>\n",
       "      <td>0.000967</td>\n",
       "    </tr>\n",
       "    <tr>\n",
       "      <th>o</th>\n",
       "      <td>1.89308</td>\n",
       "      <td>0.000610</td>\n",
       "    </tr>\n",
       "    <tr>\n",
       "      <th>m</th>\n",
       "      <td>1.91304</td>\n",
       "      <td>0.000177</td>\n",
       "    </tr>\n",
       "    <tr>\n",
       "      <th>u</th>\n",
       "      <td>1.91833</td>\n",
       "      <td>0.014002</td>\n",
       "    </tr>\n",
       "    <tr>\n",
       "      <th>s</th>\n",
       "      <td>2.04913</td>\n",
       "      <td>0.001328</td>\n",
       "    </tr>\n",
       "    <tr>\n",
       "      <th>n</th>\n",
       "      <td>2.15789</td>\n",
       "      <td>0.000146</td>\n",
       "    </tr>\n",
       "    <tr>\n",
       "      <th>dataset</th>\n",
       "      <td>2.23827</td>\n",
       "      <td>NaN</td>\n",
       "    </tr>\n",
       "    <tr>\n",
       "      <th>d</th>\n",
       "      <td>2.24365</td>\n",
       "      <td>0.959597</td>\n",
       "    </tr>\n",
       "    <tr>\n",
       "      <th>q</th>\n",
       "      <td>2.27143</td>\n",
       "      <td>0.021842</td>\n",
       "    </tr>\n",
       "    <tr>\n",
       "      <th>f</th>\n",
       "      <td>2.27273</td>\n",
       "      <td>0.000084</td>\n",
       "    </tr>\n",
       "  </tbody>\n",
       "</table>\n",
       "</div>"
      ],
      "text/plain": [
       "        expected_value_damage  frequency\n",
       "c                     1.83692   0.001247\n",
       "a                     1.85317   0.000967\n",
       "o                     1.89308   0.000610\n",
       "m                     1.91304   0.000177\n",
       "u                     1.91833   0.014002\n",
       "s                     2.04913   0.001328\n",
       "n                     2.15789   0.000146\n",
       "dataset               2.23827        NaN\n",
       "d                     2.24365   0.959597\n",
       "q                     2.27143   0.021842\n",
       "f                     2.27273   0.000084"
      ]
     },
     "execution_count": 68,
     "metadata": {},
     "output_type": "execute_result"
    }
   ],
   "source": [
    "expected_value = pd.DataFrame(index=cmap.index, columns=[\"expected_value_damage\", \"frequency\"])\n",
    "for i in expected_value.index:\n",
    "    expected_value.loc[i,\"expected_value_damage\"] = cmap.loc[i,1]+cmap.loc[i,2]*2+cmap.loc[i,3]*3\n",
    "expected_value[\"frequency\"] = df[col].value_counts().sort_index()/len(df)*100\n",
    "(expected_value/100).sort_values(by=\"expected_value_damage\")"
   ]
  },
  {
   "cell_type": "markdown",
   "metadata": {},
   "source": [
    "These categories are to unevenly distributed. Considering that I will apply one-hot encoding to categorical features, this one will give 8 new features.. it may be a problem. I will probably replace each category by its mean and (nb(damages=1)+nb(damages=3)) / nb(damages=2)"
   ]
  },
  {
   "cell_type": "markdown",
   "metadata": {},
   "source": [
    "# Legal ownership status"
   ]
  },
  {
   "cell_type": "markdown",
   "metadata": {},
   "source": [
    "legal_ownership_status (type: categorical): legal ownership status of the land where building was built. Possible values: a, r, v, w."
   ]
  },
  {
   "cell_type": "code",
   "execution_count": 69,
   "metadata": {
    "scrolled": true
   },
   "outputs": [
    {
     "data": {
      "text/plain": [
       "v    250939\n",
       "a      5512\n",
       "w      2677\n",
       "r      1473\n",
       "Name: legal_ownership_status, dtype: int64"
      ]
     },
     "execution_count": 69,
     "metadata": {},
     "output_type": "execute_result"
    }
   ],
   "source": [
    "col = \"legal_ownership_status\"\n",
    "df[col].value_counts()"
   ]
  },
  {
   "cell_type": "code",
   "execution_count": 70,
   "metadata": {},
   "outputs": [
    {
     "data": {
      "text/plain": [
       "<matplotlib.axes._subplots.AxesSubplot at 0x2ea601a8fd0>"
      ]
     },
     "execution_count": 70,
     "metadata": {},
     "output_type": "execute_result"
    },
    {
     "data": {
      "image/png": "[encoded data removed]",
      "text/plain": [
       "<Figure size 1008x360 with 2 Axes>"
      ]
     },
     "metadata": {
      "needs_background": "light"
     },
     "output_type": "display_data"
    }
   ],
   "source": [
    "dmgs = df.merge(damages, right_index=True, left_index=True).loc[:,[col,'damage_grade']]\n",
    "cmap = pd.DataFrame(columns=np.sort(df[col].unique()), index=np.arange(1,4)).fillna(0)\n",
    "for i in cmap.columns:\n",
    "    cmap[i] = dmgs[dmgs[col] == i]['damage_grade'].value_counts().sort_index()/len(dmgs[dmgs[col] == i])*100\n",
    "cmap = cmap.T.fillna(0)\n",
    "cmap.loc[\"dataset\",:] = damages['damage_grade'].value_counts()/len(damages)*100\n",
    "colormap = plt.cm.RdBu_r\n",
    "plt.figure(figsize=(14,5))\n",
    "plt.title('Damage Grade Conditional Frequencies', y=1.05, size=15)\n",
    "sns.heatmap(cmap.fillna(100).astype(float), linewidths=0.1, vmax=100, vmin=0,\n",
    "            square=True, cmap=colormap, linecolor='white', annot=True)"
   ]
  },
  {
   "cell_type": "code",
   "execution_count": 71,
   "metadata": {},
   "outputs": [
    {
     "data": {
      "text/html": [
       "<div>\n",
       "<style scoped>\n",
       "    .dataframe tbody tr th:only-of-type {\n",
       "        vertical-align: middle;\n",
       "    }\n",
       "\n",
       "    .dataframe tbody tr th {\n",
       "        vertical-align: top;\n",
       "    }\n",
       "\n",
       "    .dataframe thead th {\n",
       "        text-align: right;\n",
       "    }\n",
       "</style>\n",
       "<table border=\"1\" class=\"dataframe\">\n",
       "  <thead>\n",
       "    <tr style=\"text-align: right;\">\n",
       "      <th></th>\n",
       "      <th>expected_value_damage</th>\n",
       "      <th>frequency</th>\n",
       "    </tr>\n",
       "  </thead>\n",
       "  <tbody>\n",
       "    <tr>\n",
       "      <th>a</th>\n",
       "      <td>1.89405</td>\n",
       "      <td>0.021151</td>\n",
       "    </tr>\n",
       "    <tr>\n",
       "      <th>r</th>\n",
       "      <td>2.21724</td>\n",
       "      <td>0.005652</td>\n",
       "    </tr>\n",
       "    <tr>\n",
       "      <th>dataset</th>\n",
       "      <td>2.23827</td>\n",
       "      <td>NaN</td>\n",
       "    </tr>\n",
       "    <tr>\n",
       "      <th>v</th>\n",
       "      <td>2.24406</td>\n",
       "      <td>0.962924</td>\n",
       "    </tr>\n",
       "    <tr>\n",
       "      <th>w</th>\n",
       "      <td>2.41576</td>\n",
       "      <td>0.010272</td>\n",
       "    </tr>\n",
       "  </tbody>\n",
       "</table>\n",
       "</div>"
      ],
      "text/plain": [
       "        expected_value_damage  frequency\n",
       "a                     1.89405   0.021151\n",
       "r                     2.21724   0.005652\n",
       "dataset               2.23827        NaN\n",
       "v                     2.24406   0.962924\n",
       "w                     2.41576   0.010272"
      ]
     },
     "execution_count": 71,
     "metadata": {},
     "output_type": "execute_result"
    }
   ],
   "source": [
    "expected_value = pd.DataFrame(index=cmap.index, columns=[\"expected_value_damage\", \"frequency\"])\n",
    "for i in expected_value.index:\n",
    "    expected_value.loc[i,\"expected_value_damage\"] = cmap.loc[i,1]+cmap.loc[i,2]*2+cmap.loc[i,3]*3\n",
    "expected_value[\"frequency\"] = df[col].value_counts().sort_index()/len(df)*100\n",
    "(expected_value/100).sort_values(by=\"expected_value_damage\")"
   ]
  },
  {
   "cell_type": "markdown",
   "metadata": {},
   "source": [
    "Because of its uneven distribution and its name, I assume that this feature is irrelevant and I will remove it."
   ]
  },
  {
   "cell_type": "markdown",
   "metadata": {},
   "source": [
    "# Superstructure"
   ]
  },
  {
   "cell_type": "markdown",
   "metadata": {},
   "source": [
    "has_superstructure_adobe_mud (type: binary): flag variable that indicates if the superstructure was made of Adobe/Mud.\n",
    "\n",
    "has_superstructure_mud_mortar_stone (type: binary): flag variable that indicates if the superstructure was made of Mud Mortar - Stone.\n",
    "\n",
    "has_superstructure_stone_flag (type: binary): flag variable that indicates if the superstructure was made of Stone.\n",
    "\n",
    "has_superstructure_cement_mortar_stone (type: binary): flag variable that indicates if the superstructure was made of Cement Mortar - Stone.\n",
    "\n",
    "has_superstructure_mud_mortar_brick (type: binary): flag variable that indicates if the superstructure was made of Mud Mortar - Brick.\n",
    "\n",
    "has_superstructure_cement_mortar_brick (type: binary): flag variable that indicates if the superstructure was made of Cement Mortar - Brick.\n",
    "\n",
    "has_superstructure_timber (type: binary): flag variable that indicates if the superstructure was made of Timber.\n",
    "\n",
    "has_superstructure_bamboo (type: binary): flag variable that indicates if the superstructure was made of Bamboo.\n",
    "\n",
    "has_superstructure_rc_non_engineered (type: binary): flag variable that indicates if the superstructure was made of non-engineered reinforced concrete.\n",
    "\n",
    "has_superstructure_rc_engineered (type: binary): flag variable that indicates if the superstructure was made of engineered reinforced concrete.\n",
    "\n",
    "has_superstructure_other (type: binary): flag variable that indicates if the superstructure was made of any other material."
   ]
  },
  {
   "cell_type": "code",
   "execution_count": 72,
   "metadata": {},
   "outputs": [],
   "source": [
    "cols = df.loc[:,'has_superstructure_adobe_mud':'has_superstructure_other'].columns"
   ]
  },
  {
   "cell_type": "markdown",
   "metadata": {},
   "source": [
    "Let's first take a look at the expected value of damage for each superstructure. I will compute 4 values : \n",
    "- expected value of damage for buildings with this specific superstructure (expected_value_damage_1_all)\n",
    "- expected value of damage for buildings with only this specific superstructure (expected_value_damage_1_exclusive)\n",
    "- expected value of damage for buildings without this specific superstructure (expected_value_damage_0)\n",
    "- frequency of buildings with this specific superstructure in the dataset (frequency_1_all)"
   ]
  },
  {
   "cell_type": "code",
   "execution_count": 73,
   "metadata": {
    "scrolled": true
   },
   "outputs": [
    {
     "data": {
      "text/html": [
       "<div>\n",
       "<style scoped>\n",
       "    .dataframe tbody tr th:only-of-type {\n",
       "        vertical-align: middle;\n",
       "    }\n",
       "\n",
       "    .dataframe tbody tr th {\n",
       "        vertical-align: top;\n",
       "    }\n",
       "\n",
       "    .dataframe thead th {\n",
       "        text-align: right;\n",
       "    }\n",
       "</style>\n",
       "<table border=\"1\" class=\"dataframe\">\n",
       "  <thead>\n",
       "    <tr style=\"text-align: right;\">\n",
       "      <th></th>\n",
       "      <th>expected_value_damage_1_all</th>\n",
       "      <th>expected_value_damage_1_exclusive</th>\n",
       "      <th>expected_value_damage_0</th>\n",
       "      <th>frequency_1_all</th>\n",
       "      <th>frequency_1_exclusive</th>\n",
       "    </tr>\n",
       "  </thead>\n",
       "  <tbody>\n",
       "    <tr>\n",
       "      <th>has_superstructure_adobe_mud</th>\n",
       "      <td>2.34678</td>\n",
       "      <td>2.36174</td>\n",
       "      <td>2.22772</td>\n",
       "      <td>0.0886451</td>\n",
       "      <td>0.0277397</td>\n",
       "    </tr>\n",
       "    <tr>\n",
       "      <th>has_superstructure_mud_mortar_stone</th>\n",
       "      <td>2.3379</td>\n",
       "      <td>2.3749</td>\n",
       "      <td>1.91941</td>\n",
       "      <td>0.761935</td>\n",
       "      <td>0.526222</td>\n",
       "    </tr>\n",
       "    <tr>\n",
       "      <th>has_superstructure_stone_flag</th>\n",
       "      <td>2.45255</td>\n",
       "      <td>2.57329</td>\n",
       "      <td>2.23065</td>\n",
       "      <td>0.0343322</td>\n",
       "      <td>0.00471218</td>\n",
       "    </tr>\n",
       "    <tr>\n",
       "      <th>has_superstructure_cement_mortar_stone</th>\n",
       "      <td>1.96759</td>\n",
       "      <td>2.01246</td>\n",
       "      <td>2.2433</td>\n",
       "      <td>0.0182348</td>\n",
       "      <td>0.0036953</td>\n",
       "    </tr>\n",
       "    <tr>\n",
       "      <th>has_superstructure_mud_mortar_brick</th>\n",
       "      <td>2.27121</td>\n",
       "      <td>2.23812</td>\n",
       "      <td>2.23586</td>\n",
       "      <td>0.068154</td>\n",
       "      <td>0.0235763</td>\n",
       "    </tr>\n",
       "    <tr>\n",
       "      <th>has_superstructure_cement_mortar_brick</th>\n",
       "      <td>1.6933</td>\n",
       "      <td>1.62933</td>\n",
       "      <td>2.28263</td>\n",
       "      <td>0.0752683</td>\n",
       "      <td>0.0387796</td>\n",
       "    </tr>\n",
       "    <tr>\n",
       "      <th>has_superstructure_timber</th>\n",
       "      <td>2.16522</td>\n",
       "      <td>1.65248</td>\n",
       "      <td>2.26327</td>\n",
       "      <td>0.254988</td>\n",
       "      <td>0.0197428</td>\n",
       "    </tr>\n",
       "    <tr>\n",
       "      <th>has_superstructure_bamboo</th>\n",
       "      <td>2.11172</td>\n",
       "      <td>1.68465</td>\n",
       "      <td>2.25003</td>\n",
       "      <td>0.0850112</td>\n",
       "      <td>0.00369914</td>\n",
       "    </tr>\n",
       "    <tr>\n",
       "      <th>has_superstructure_rc_non_engineered</th>\n",
       "      <td>1.77953</td>\n",
       "      <td>1.47132</td>\n",
       "      <td>2.25868</td>\n",
       "      <td>0.04259</td>\n",
       "      <td>0.01599</td>\n",
       "    </tr>\n",
       "    <tr>\n",
       "      <th>has_superstructure_rc_engineered</th>\n",
       "      <td>1.37551</td>\n",
       "      <td>1.33423</td>\n",
       "      <td>2.25218</td>\n",
       "      <td>0.0158595</td>\n",
       "      <td>0.00995391</td>\n",
       "    </tr>\n",
       "    <tr>\n",
       "      <th>has_superstructure_other</th>\n",
       "      <td>2.08835</td>\n",
       "      <td>1.62281</td>\n",
       "      <td>2.24055</td>\n",
       "      <td>0.0149846</td>\n",
       "      <td>0.00131235</td>\n",
       "    </tr>\n",
       "  </tbody>\n",
       "</table>\n",
       "</div>"
      ],
      "text/plain": [
       "                                       expected_value_damage_1_all  \\\n",
       "has_superstructure_adobe_mud                               2.34678   \n",
       "has_superstructure_mud_mortar_stone                         2.3379   \n",
       "has_superstructure_stone_flag                              2.45255   \n",
       "has_superstructure_cement_mortar_stone                     1.96759   \n",
       "has_superstructure_mud_mortar_brick                        2.27121   \n",
       "has_superstructure_cement_mortar_brick                      1.6933   \n",
       "has_superstructure_timber                                  2.16522   \n",
       "has_superstructure_bamboo                                  2.11172   \n",
       "has_superstructure_rc_non_engineered                       1.77953   \n",
       "has_superstructure_rc_engineered                           1.37551   \n",
       "has_superstructure_other                                   2.08835   \n",
       "\n",
       "                                       expected_value_damage_1_exclusive  \\\n",
       "has_superstructure_adobe_mud                                     2.36174   \n",
       "has_superstructure_mud_mortar_stone                               2.3749   \n",
       "has_superstructure_stone_flag                                    2.57329   \n",
       "has_superstructure_cement_mortar_stone                           2.01246   \n",
       "has_superstructure_mud_mortar_brick                              2.23812   \n",
       "has_superstructure_cement_mortar_brick                           1.62933   \n",
       "has_superstructure_timber                                        1.65248   \n",
       "has_superstructure_bamboo                                        1.68465   \n",
       "has_superstructure_rc_non_engineered                             1.47132   \n",
       "has_superstructure_rc_engineered                                 1.33423   \n",
       "has_superstructure_other                                         1.62281   \n",
       "\n",
       "                                       expected_value_damage_0  \\\n",
       "has_superstructure_adobe_mud                           2.22772   \n",
       "has_superstructure_mud_mortar_stone                    1.91941   \n",
       "has_superstructure_stone_flag                          2.23065   \n",
       "has_superstructure_cement_mortar_stone                  2.2433   \n",
       "has_superstructure_mud_mortar_brick                    2.23586   \n",
       "has_superstructure_cement_mortar_brick                 2.28263   \n",
       "has_superstructure_timber                              2.26327   \n",
       "has_superstructure_bamboo                              2.25003   \n",
       "has_superstructure_rc_non_engineered                   2.25868   \n",
       "has_superstructure_rc_engineered                       2.25218   \n",
       "has_superstructure_other                               2.24055   \n",
       "\n",
       "                                       frequency_1_all frequency_1_exclusive  \n",
       "has_superstructure_adobe_mud                 0.0886451             0.0277397  \n",
       "has_superstructure_mud_mortar_stone           0.761935              0.526222  \n",
       "has_superstructure_stone_flag                0.0343322            0.00471218  \n",
       "has_superstructure_cement_mortar_stone       0.0182348             0.0036953  \n",
       "has_superstructure_mud_mortar_brick           0.068154             0.0235763  \n",
       "has_superstructure_cement_mortar_brick       0.0752683             0.0387796  \n",
       "has_superstructure_timber                     0.254988             0.0197428  \n",
       "has_superstructure_bamboo                    0.0850112            0.00369914  \n",
       "has_superstructure_rc_non_engineered           0.04259               0.01599  \n",
       "has_superstructure_rc_engineered             0.0158595            0.00995391  \n",
       "has_superstructure_other                     0.0149846            0.00131235  "
      ]
     },
     "execution_count": 73,
     "metadata": {},
     "output_type": "execute_result"
    }
   ],
   "source": [
    "dmgs = df.merge(damages, right_index=True, left_index=True).loc[:,cols.tolist() +['damage_grade']]\n",
    "expected_value = pd.DataFrame(index=cols, columns=[\"expected_value_damage_1_all\", \"expected_value_damage_1_exclusive\", \n",
    "                                                   \"expected_value_damage_0\", \"frequency_1_all\", \"frequency_1_exclusive\"])\n",
    "for i in expected_value.index:\n",
    "    expected_value.loc[i, \"expected_value_damage_1_all\"] = dmgs[dmgs[i] == 1]['damage_grade'].mean()\n",
    "    s = dmgs[dmgs[i] == 1].drop(columns=[\"damage_grade\"]).T.sum()\n",
    "    index = s[s==1].index\n",
    "    expected_value.loc[i, \"expected_value_damage_1_exclusive\"] = dmgs.loc[index,'damage_grade'].mean()\n",
    "    expected_value.loc[i, \"expected_value_damage_0\"] = dmgs[dmgs[i] == 0]['damage_grade'].mean()\n",
    "    expected_value.loc[i, \"frequency_1_all\"] = len(dmgs[dmgs[i] == 1])/len(dmgs)\n",
    "    expected_value.loc[i, \"frequency_1_exclusive\"] = len(index)/len(dmgs)\n",
    "expected_value"
   ]
  },
  {
   "cell_type": "markdown",
   "metadata": {},
   "source": [
    "We can identify the most efficient superstructure : rc engineered and rc non engineered. They are slightly better when used alone.\n",
    "On the other hand, buildings witn only stone flag (0.47% of dataset) are condemned to suffer significant damages.\n"
   ]
  },
  {
   "cell_type": "markdown",
   "metadata": {},
   "source": [
    "I will now take a look at the number of superstructures per building and the associated expected value of damage grade."
   ]
  },
  {
   "cell_type": "code",
   "execution_count": 74,
   "metadata": {},
   "outputs": [
    {
     "data": {
      "text/plain": [
       "<matplotlib.axes._subplots.AxesSubplot at 0x2ea6b510c50>"
      ]
     },
     "execution_count": 74,
     "metadata": {},
     "output_type": "execute_result"
    },
    {
     "data": {
      "image/png": "[encoded data removed]",
      "text/plain": [
       "<Figure size 432x288 with 1 Axes>"
      ]
     },
     "metadata": {
      "needs_background": "light"
     },
     "output_type": "display_data"
    }
   ],
   "source": [
    "df[cols].T.sum().value_counts().plot.bar()"
   ]
  },
  {
   "cell_type": "code",
   "execution_count": 75,
   "metadata": {},
   "outputs": [
    {
     "data": {
      "text/plain": [
       "1    2.263090\n",
       "2    2.166638\n",
       "3    2.201781\n",
       "4    2.340305\n",
       "5    2.251787\n",
       "6    2.238854\n",
       "7    2.028571\n",
       "8    2.250000\n",
       "dtype: float64"
      ]
     },
     "execution_count": 75,
     "metadata": {},
     "output_type": "execute_result"
    }
   ],
   "source": [
    "expected_value = pd.Series(index=np.arange(1,9))\n",
    "for i in expected_value.index:\n",
    "    s = df[cols].T.sum()\n",
    "    index = s[s == i].index\n",
    "    expected_value[i] = damages.loc[index,\"damage_grade\"].mean()\n",
    "expected_value"
   ]
  },
  {
   "cell_type": "markdown",
   "metadata": {},
   "source": [
    "The number of superstructure have a little or no influence on damages."
   ]
  },
  {
   "cell_type": "markdown",
   "metadata": {},
   "source": [
    "# Secondary use"
   ]
  },
  {
   "cell_type": "markdown",
   "metadata": {},
   "source": [
    "has_secondary_use (type: binary): flag variable that indicates if the building was used for any secondary purpose.\n",
    "\n",
    "has_secondary_use_agriculture (type: binary): flag variable that indicates if the building was used for agricultural purposes.\n",
    "\n",
    "has_secondary_use_hotel (type: binary): flag variable that indicates if the building was used as a hotel.\n",
    "\n",
    "has_secondary_use_rental (type: binary): flag variable that indicates if the building was used for rental purposes.\n",
    "\n",
    "has_secondary_use_institution (type: binary): flag variable that indicates if the building was used as a location of any institution.\n",
    "\n",
    "has_secondary_use_school (type: binary): flag variable that indicates if the building was used as a school.\n",
    "\n",
    "has_secondary_use_industry (type: binary): flag variable that indicates if the building was used for industrial purposes.\n",
    "\n",
    "has_secondary_use_health_post (type: binary): flag variable that indicates if the building was used as a health post.\n",
    "\n",
    "has_secondary_use_gov_office (type: binary): flag variable that indicates if the building was used fas a government office.\n",
    "\n",
    "has_secondary_use_use_police (type: binary): flag variable that indicates if the building was used as a police station.\n",
    "\n",
    "has_secondary_use_other (type: binary): flag variable that indicates if the building was secondarily used for other purposes."
   ]
  },
  {
   "cell_type": "code",
   "execution_count": 76,
   "metadata": {},
   "outputs": [],
   "source": [
    "cols = df.loc[:,'has_secondary_use':'has_secondary_use_other'].columns"
   ]
  },
  {
   "cell_type": "code",
   "execution_count": 77,
   "metadata": {},
   "outputs": [
    {
     "data": {
      "text/plain": [
       "<matplotlib.axes._subplots.AxesSubplot at 0x2ea6ad73160>"
      ]
     },
     "execution_count": 77,
     "metadata": {},
     "output_type": "execute_result"
    },
    {
     "data": {
      "image/png": "[encoded data removed]",
      "text/plain": [
       "<Figure size 432x288 with 1 Axes>"
      ]
     },
     "metadata": {
      "needs_background": "light"
     },
     "output_type": "display_data"
    }
   ],
   "source": [
    "df[cols].sum().plot.bar()"
   ]
  },
  {
   "cell_type": "code",
   "execution_count": 78,
   "metadata": {},
   "outputs": [
    {
     "data": {
      "text/plain": [
       "<matplotlib.axes._subplots.AxesSubplot at 0x2ea6b576da0>"
      ]
     },
     "execution_count": 78,
     "metadata": {},
     "output_type": "execute_result"
    },
    {
     "data": {
      "image/png": "[encoded data removed]",
      "text/plain": [
       "<Figure size 432x288 with 1 Axes>"
      ]
     },
     "metadata": {
      "needs_background": "light"
     },
     "output_type": "display_data"
    }
   ],
   "source": [
    "df[cols].T.sum().value_counts().plot.bar()"
   ]
  },
  {
   "cell_type": "markdown",
   "metadata": {},
   "source": [
    "Buildings have either 0, 2 or 3 secondary use. At this point, I wonder if has_secondary_use is always associated with another secondary use feature and reciprocally."
   ]
  },
  {
   "cell_type": "code",
   "execution_count": 79,
   "metadata": {},
   "outputs": [
    {
     "data": {
      "text/plain": [
       "2    28599\n",
       "3      557\n",
       "dtype: int64"
      ]
     },
     "execution_count": 79,
     "metadata": {},
     "output_type": "execute_result"
    }
   ],
   "source": [
    "df[df['has_secondary_use'] ==1][cols].T.sum().value_counts()"
   ]
  },
  {
   "cell_type": "code",
   "execution_count": 80,
   "metadata": {},
   "outputs": [
    {
     "data": {
      "text/plain": [
       "0    231445\n",
       "2     28599\n",
       "3       557\n",
       "dtype: int64"
      ]
     },
     "execution_count": 80,
     "metadata": {},
     "output_type": "execute_result"
    }
   ],
   "source": [
    "df[cols].T.sum().value_counts()"
   ]
  },
  {
   "cell_type": "markdown",
   "metadata": {},
   "source": [
    "So has_secondary_use can be remove because this feature can be obtained with the others"
   ]
  },
  {
   "cell_type": "code",
   "execution_count": 81,
   "metadata": {},
   "outputs": [
    {
     "data": {
      "text/html": [
       "<div>\n",
       "<style scoped>\n",
       "    .dataframe tbody tr th:only-of-type {\n",
       "        vertical-align: middle;\n",
       "    }\n",
       "\n",
       "    .dataframe tbody tr th {\n",
       "        vertical-align: top;\n",
       "    }\n",
       "\n",
       "    .dataframe thead th {\n",
       "        text-align: right;\n",
       "    }\n",
       "</style>\n",
       "<table border=\"1\" class=\"dataframe\">\n",
       "  <thead>\n",
       "    <tr style=\"text-align: right;\">\n",
       "      <th></th>\n",
       "      <th>expected_value_damage</th>\n",
       "      <th>frequency</th>\n",
       "    </tr>\n",
       "  </thead>\n",
       "  <tbody>\n",
       "    <tr>\n",
       "      <th>has_secondary_use_institution</th>\n",
       "      <td>1.66531</td>\n",
       "      <td>0.0940135</td>\n",
       "    </tr>\n",
       "    <tr>\n",
       "      <th>has_secondary_use_rental</th>\n",
       "      <td>1.67125</td>\n",
       "      <td>0.810051</td>\n",
       "    </tr>\n",
       "    <tr>\n",
       "      <th>has_secondary_use_gov_office</th>\n",
       "      <td>1.76316</td>\n",
       "      <td>0.0145817</td>\n",
       "    </tr>\n",
       "    <tr>\n",
       "      <th>has_secondary_use_health_post</th>\n",
       "      <td>1.85714</td>\n",
       "      <td>0.0188027</td>\n",
       "    </tr>\n",
       "    <tr>\n",
       "      <th>has_secondary_use_school</th>\n",
       "      <td>1.8617</td>\n",
       "      <td>0.0360705</td>\n",
       "    </tr>\n",
       "    <tr>\n",
       "      <th>has_secondary_use_hotel</th>\n",
       "      <td>1.91704</td>\n",
       "      <td>3.36261</td>\n",
       "    </tr>\n",
       "    <tr>\n",
       "      <th>has_secondary_use_industry</th>\n",
       "      <td>2.03226</td>\n",
       "      <td>0.10706</td>\n",
       "    </tr>\n",
       "    <tr>\n",
       "      <th>has_secondary_use_other</th>\n",
       "      <td>2.09895</td>\n",
       "      <td>0.511894</td>\n",
       "    </tr>\n",
       "    <tr>\n",
       "      <th>has_secondary_use</th>\n",
       "      <td>2.10101</td>\n",
       "      <td>11.188</td>\n",
       "    </tr>\n",
       "    <tr>\n",
       "      <th>has_secondary_use_use_police</th>\n",
       "      <td>2.13043</td>\n",
       "      <td>0.00882575</td>\n",
       "    </tr>\n",
       "    <tr>\n",
       "      <th>has_secondary_use_agriculture</th>\n",
       "      <td>2.26465</td>\n",
       "      <td>6.43781</td>\n",
       "    </tr>\n",
       "  </tbody>\n",
       "</table>\n",
       "</div>"
      ],
      "text/plain": [
       "                              expected_value_damage   frequency\n",
       "has_secondary_use_institution               1.66531   0.0940135\n",
       "has_secondary_use_rental                    1.67125    0.810051\n",
       "has_secondary_use_gov_office                1.76316   0.0145817\n",
       "has_secondary_use_health_post               1.85714   0.0188027\n",
       "has_secondary_use_school                     1.8617   0.0360705\n",
       "has_secondary_use_hotel                     1.91704     3.36261\n",
       "has_secondary_use_industry                  2.03226     0.10706\n",
       "has_secondary_use_other                     2.09895    0.511894\n",
       "has_secondary_use                           2.10101      11.188\n",
       "has_secondary_use_use_police                2.13043  0.00882575\n",
       "has_secondary_use_agriculture               2.26465     6.43781"
      ]
     },
     "execution_count": 81,
     "metadata": {},
     "output_type": "execute_result"
    }
   ],
   "source": [
    "dmgs = df.merge(damages, right_index=True, left_index=True).loc[:,cols.tolist() +['damage_grade']]\n",
    "expected_value = pd.DataFrame(index=cols, columns=[\"expected_value_damage\", \"frequency\"])\n",
    "for i in expected_value.index:\n",
    "    expected_value.loc[i, \"expected_value_damage\"] = dmgs[dmgs[i] == 1]['damage_grade'].mean()\n",
    "    expected_value.loc[i, \"frequency\"] = len(dmgs[dmgs[i] == 1])/len(dmgs) * 100\n",
    "expected_value.sort_values(by=\"expected_value_damage\")"
   ]
  },
  {
   "cell_type": "markdown",
   "metadata": {},
   "source": [
    "In preprocessing, I will merge together [has_secondary_use_institution and has_secondary_use_rental], [has_secondary_use_health_post and has_secondary_use_gov and has_secondary_use_school],  [has_secondary_use_hotel and has_secondary_use_industry and has_secondary_use_other]\t\t"
   ]
  }
 ],
 "metadata": {
  "kernelspec": {
   "display_name": "Python 3",
   "language": "python",
   "name": "python3"
  },
  "language_info": {
   "codemirror_mode": {
    "name": "ipython",
    "version": 3
   },
   "file_extension": ".py",
   "mimetype": "text/x-python",
   "name": "python",
   "nbconvert_exporter": "python",
   "pygments_lexer": "ipython3",
   "version": "3.7.3"
  }
 },
 "nbformat": 4,
 "nbformat_minor": 2
}
