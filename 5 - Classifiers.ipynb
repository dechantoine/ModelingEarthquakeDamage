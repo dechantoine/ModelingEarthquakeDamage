{
 "cells": [
  {
   "cell_type": "code",
   "execution_count": 1,
   "metadata": {},
   "outputs": [],
   "source": [
    "import pandas as pd\n",
    "import matplotlib.pyplot as plt\n",
    "import numpy as np\n",
    "from skopt import gp_minimize\n",
    "from skopt.space import Real, Integer\n",
    "from skopt.utils import use_named_args\n",
    "from sklearn.metrics import f1_score\n",
    "import warnings\n",
    "warnings.filterwarnings('ignore')"
   ]
  },
  {
   "cell_type": "markdown",
   "metadata": {},
   "source": [
    "# Random Forest Classifier"
   ]
  },
  {
   "cell_type": "code",
   "execution_count": 2,
   "metadata": {},
   "outputs": [],
   "source": [
    "from sklearn.ensemble import RandomForestClassifier"
   ]
  },
  {
   "cell_type": "markdown",
   "metadata": {},
   "source": [
    "In order to be clearer, I have previously narrowed the space search. Here is displayed the final step. Random forest training takes a lot of time to compute, so I will optimize only subset0 and then see if it generalizes well."
   ]
  },
  {
   "cell_type": "code",
   "execution_count": 3,
   "metadata": {},
   "outputs": [],
   "source": [
    "spaceForest  = [Integer(10, 20, name=\"min_samples_split\"),\n",
    "                Integer(1, 5, name=\"min_samples_leaf\"),\n",
    "                Integer(500, 900, name=\"n_estimators\")]"
   ]
  },
  {
   "cell_type": "code",
   "execution_count": 4,
   "metadata": {},
   "outputs": [],
   "source": [
    "@use_named_args(spaceForest)\n",
    "def objectiveForest(**params):\n",
    "    forest.set_params(**params)\n",
    "    forest.fit(X_train,y_train)\n",
    "    predict = forest.predict(X_test)\n",
    "    e = f1_score(y_test, predict, average='micro')\n",
    "    print(e, [(a, params[a]) for a in params])\n",
    "    return 1 - e"
   ]
  },
  {
   "cell_type": "code",
   "execution_count": 5,
   "metadata": {
    "scrolled": false
   },
   "outputs": [
    {
     "name": "stdout",
     "output_type": "stream",
     "text": [
      "0.7317344589409056 [('min_samples_split', 16), ('min_samples_leaf', 4), ('n_estimators', 843)]\n",
      "0.7319263238679968 [('min_samples_split', 18), ('min_samples_leaf', 3), ('n_estimators', 654)]\n",
      "0.7340752110514198 [('min_samples_split', 13), ('min_samples_leaf', 1), ('n_estimators', 609)]\n",
      "0.7315425940138144 [('min_samples_split', 15), ('min_samples_leaf', 4), ('n_estimators', 692)]\n",
      "0.7316193399846508 [('min_samples_split', 14), ('min_samples_leaf', 4), ('n_estimators', 635)]\n",
      "0.7329048349961627 [('min_samples_split', 16), ('min_samples_leaf', 2), ('n_estimators', 883)]\n",
      "0.7314274750575595 [('min_samples_split', 11), ('min_samples_leaf', 4), ('n_estimators', 689)]\n",
      "0.7315425940138144 [('min_samples_split', 18), ('min_samples_leaf', 3), ('n_estimators', 772)]\n",
      "0.7320222563315426 [('min_samples_split', 17), ('min_samples_leaf', 3), ('n_estimators', 715)]\n",
      "0.7339409056024558 [('min_samples_split', 18), ('min_samples_leaf', 1), ('n_estimators', 689)]\n",
      "0.7327129700690713 [('min_samples_split', 10), ('min_samples_leaf', 1), ('n_estimators', 500)]\n",
      "0.7338066001534919 [('min_samples_split', 20), ('min_samples_leaf', 1), ('n_estimators', 500)]\n",
      "0.7306983883346124 [('min_samples_split', 10), ('min_samples_leaf', 5), ('n_estimators', 898)]\n",
      "0.7330583269378358 [('min_samples_split', 20), ('min_samples_leaf', 1), ('n_estimators', 500)]\n",
      "0.7332693783576363 [('min_samples_split', 10), ('min_samples_leaf', 1), ('n_estimators', 899)]\n",
      "0.7309861857252495 [('min_samples_split', 20), ('min_samples_leaf', 5), ('n_estimators', 503)]\n",
      "0.7339984650805833 [('min_samples_split', 20), ('min_samples_leaf', 1), ('n_estimators', 899)]\n",
      "0.7311972371450499 [('min_samples_split', 10), ('min_samples_leaf', 5), ('n_estimators', 501)]\n",
      "0.7340560245587107 [('min_samples_split', 20), ('min_samples_leaf', 1), ('n_estimators', 900)]\n",
      "0.7333461243284728 [('min_samples_split', 10), ('min_samples_leaf', 1), ('n_estimators', 897)]\n"
     ]
    },
    {
     "data": {
      "text/plain": [
       "(0.7340752110514198, 13, 1, 609)"
      ]
     },
     "execution_count": 5,
     "metadata": {},
     "output_type": "execute_result"
    }
   ],
   "source": [
    "X_train = pd.read_csv('Datasets/CV0_train_subset_step1_0.csv', index_col=0)\n",
    "y_train= pd.read_csv('Datasets/train_labels.csv', index_col=0).loc[X_train.index][\"damage_grade\"]\n",
    "X_test = pd.read_csv('Datasets/CV0_test_subset_0.csv', index_col=0)\n",
    "y_test= pd.read_csv('Datasets/train_labels.csv', index_col=0).loc[X_test.index][\"damage_grade\"]\n",
    "forest = RandomForestClassifier(n_jobs=-1)\n",
    "res_forest = gp_minimize(objectiveForest, spaceForest, n_calls=20, random_state=0)\n",
    "1-res_forest.fun, res_forest.x[0], res_forest.x[1], res_forest.x[2]"
   ]
  },
  {
   "cell_type": "markdown",
   "metadata": {},
   "source": [
    "I must pay attention here : if the best model would have been the most prone to overfitting (900 estimators, 1 min samples leaf and 10 samples split) it would have been a clue that I were in the wrong direction. Fortunately, the optimization found a better model."
   ]
  },
  {
   "cell_type": "code",
   "execution_count": 6,
   "metadata": {},
   "outputs": [
    {
     "data": {
      "text/plain": [
       "0    0.734075\n",
       "1    0.729144\n",
       "2    0.733461\n",
       "3    0.735764\n",
       "dtype: float64"
      ]
     },
     "execution_count": 6,
     "metadata": {},
     "output_type": "execute_result"
    }
   ],
   "source": [
    "generalization = pd.Series(index=range(4))\n",
    "for i in generalization.index:\n",
    "    forest = RandomForestClassifier(min_samples_split=res_forest.x[0], min_samples_leaf=res_forest.x[1],\n",
    "                                    n_estimators=res_forest.x[2], n_jobs=-1)\n",
    "    X_train = pd.read_csv('Datasets/CV0_train_subset_step1_{}.csv'.format(i), index_col=0)\n",
    "    y_train= pd.read_csv('Datasets/train_labels.csv', index_col=0).loc[X_train.index][\"damage_grade\"]\n",
    "    X_test = pd.read_csv('Datasets/CV0_test_subset_{}.csv'.format(i), index_col=0)\n",
    "    y_test= pd.read_csv('Datasets/train_labels.csv', index_col=0).loc[X_test.index][\"damage_grade\"]\n",
    "    forest.fit(X_train,y_train)\n",
    "    predict = pd.DataFrame(forest.predict(X_test), columns=['RF']).set_index(X_test.index)\n",
    "    predict.to_csv(\"Datasets/RF_predicted_step1_subset_{}.csv\".format(i))\n",
    "    generalization[i] = f1_score(y_test, predict, average='micro')\n",
    "generalization"
   ]
  },
  {
   "cell_type": "markdown",
   "metadata": {},
   "source": [
    "Generalization is good, and this is my best model so far !"
   ]
  },
  {
   "cell_type": "code",
   "execution_count": 7,
   "metadata": {
    "scrolled": false
   },
   "outputs": [
    {
     "data": {
      "text/plain": [
       "geo_level_mean                            0.291588\n",
       "geo_level_ratio                           0.258370\n",
       "age                                       0.068714\n",
       "area_percentage                           0.060523\n",
       "height_percentage                         0.040828\n",
       "foundation_type_r                         0.021294\n",
       "has_superstructure_mud_mortar_stone       0.018482\n",
       "count_floors_pre_eq                       0.015275\n",
       "ground_floor_type_v                       0.014656\n",
       "roof_type_x                               0.010512\n",
       "has_superstructure_timber                 0.010450\n",
       "has_superstructure_cement_mortar_brick    0.010113\n",
       "foundation_type_i                         0.009643\n",
       "ground_floor_type_f                       0.009327\n",
       "other_floor_type_q                        0.008555\n",
       "has_secondary_use_agriculture             0.007798\n",
       "land_surface_condition_t                  0.007590\n",
       "position_s                                0.007149\n",
       "has_superstructure_adobe_mud              0.007053\n",
       "plan_configuration_mean                   0.006848\n",
       "land_surface_condition_n                  0.006749\n",
       "plan_configuration_ratio                  0.006747\n",
       "roof_type_n                               0.006637\n",
       "roof_type_q                               0.006437\n",
       "has_superstructure_bamboo                 0.006371\n",
       "position_t                                0.006171\n",
       "foundation_type_w                         0.006100\n",
       "has_superstructure_mud_mortar_brick       0.006089\n",
       "secondary_use_3                           0.006052\n",
       "other_floor_type_x                        0.005486\n",
       "ground_floor_type_x                       0.005221\n",
       "has_superstructure_stone_flag             0.005051\n",
       "other_floor_type_s                        0.004909\n",
       "has_superstructure_rc_non_engineered      0.004786\n",
       "other_floor_type_j                        0.004246\n",
       "position_j                                0.004072\n",
       "land_surface_condition_o                  0.003990\n",
       "foundation_type_u                         0.003771\n",
       "has_superstructure_other                  0.003736\n",
       "has_superstructure_rc_engineered          0.003389\n",
       "has_superstructure_cement_mortar_stone    0.003377\n",
       "secondary_use_1                           0.002061\n",
       "ground_floor_type_z                       0.001219\n",
       "foundation_type_h                         0.001168\n",
       "position_o                                0.001035\n",
       "secondary_use_2                           0.000297\n",
       "has_secondary_use_use_police              0.000064\n",
       "dtype: float64"
      ]
     },
     "execution_count": 7,
     "metadata": {},
     "output_type": "execute_result"
    }
   ],
   "source": [
    "featuresRF = pd.Series(forest.feature_importances_, index=X_train.columns)\n",
    "featuresRF.sort_values(ascending=False)"
   ]
  },
  {
   "cell_type": "code",
   "execution_count": 8,
   "metadata": {},
   "outputs": [
    {
     "data": {
      "text/plain": [
       "<matplotlib.axes._subplots.AxesSubplot at 0x1c5cdb5cc88>"
      ]
     },
     "execution_count": 8,
     "metadata": {},
     "output_type": "execute_result"
    },
    {
     "data": {
      "image/png": "[encoded data removed]",
      "text/plain": [
       "<Figure size 432x288 with 1 Axes>"
      ]
     },
     "metadata": {
      "needs_background": "light"
     },
     "output_type": "display_data"
    }
   ],
   "source": [
    "featuresRF.sort_values(ascending=False).plot(use_index=False)"
   ]
  },
  {
   "cell_type": "code",
   "execution_count": 9,
   "metadata": {},
   "outputs": [],
   "source": [
    "for i in range(5):\n",
    "    forest = RandomForestClassifier(min_samples_split=res_forest.x[0], min_samples_leaf=res_forest.x[1],\n",
    "                                    n_estimators=res_forest.x[2], n_jobs=-1)\n",
    "    X_train = pd.read_csv('Datasets/CV0_train_subset_step2_{}.csv'.format(i), index_col=0)\n",
    "    y_train= pd.read_csv('Datasets/train_labels.csv', index_col=0).loc[X_train.index][\"damage_grade\"]\n",
    "    X_test = pd.read_csv('Datasets/CV0_test_subset_{}.csv'.format(i), index_col=0)\n",
    "    forest.fit(X_train,y_train)\n",
    "    predict = pd.DataFrame(forest.predict(X_test), columns=['RF']).set_index(X_test.index)\n",
    "    predict.to_csv(\"Datasets/RF_predicted_step2_subset_{}.csv\".format(i))"
   ]
  },
  {
   "cell_type": "code",
   "execution_count": 10,
   "metadata": {},
   "outputs": [],
   "source": [
    "forest = RandomForestClassifier(min_samples_split=res_forest.x[0], min_samples_leaf=res_forest.x[1],\n",
    "                                n_estimators=res_forest.x[2], n_jobs=-1)\n",
    "X_train = pd.read_csv('Datasets/train_full_processed.csv', index_col=0)\n",
    "y_train= pd.read_csv('Datasets/train_labels.csv', index_col=0).loc[X_train.index][\"damage_grade\"]\n",
    "X_val = pd.read_csv('Datasets/submission_processed.csv', index_col=0)\n",
    "forest.fit(X_train,y_train)\n",
    "predict = pd.DataFrame(forest.predict(X_val), columns=['RF']).set_index(X_val.index)\n",
    "predict.to_csv(\"Datasets/RF_predicted_submission.csv\")"
   ]
  },
  {
   "cell_type": "markdown",
   "metadata": {},
   "source": [
    "# Extra Trees Classifier"
   ]
  },
  {
   "cell_type": "code",
   "execution_count": 11,
   "metadata": {},
   "outputs": [],
   "source": [
    "from sklearn.ensemble import ExtraTreesClassifier"
   ]
  },
  {
   "cell_type": "code",
   "execution_count": 12,
   "metadata": {},
   "outputs": [
    {
     "data": {
      "text/plain": [
       "0    0.727897\n",
       "1    0.726132\n",
       "2    0.729662\n",
       "3    0.730775\n",
       "dtype: float64"
      ]
     },
     "execution_count": 12,
     "metadata": {},
     "output_type": "execute_result"
    }
   ],
   "source": [
    "generalization = pd.Series(index=range(4))\n",
    "for i in generalization.index:\n",
    "    extra = ExtraTreesClassifier(min_samples_split=res_forest.x[0], min_samples_leaf=res_forest.x[1],\n",
    "                                    n_estimators=res_forest.x[2], n_jobs=-1)\n",
    "    X_train = pd.read_csv('Datasets/CV0_train_subset_step1_{}.csv'.format(i), index_col=0)\n",
    "    y_train= pd.read_csv('Datasets/train_labels.csv', index_col=0).loc[X_train.index][\"damage_grade\"]\n",
    "    X_test = pd.read_csv('Datasets/CV0_test_subset_{}.csv'.format(i), index_col=0)\n",
    "    y_test= pd.read_csv('Datasets/train_labels.csv', index_col=0).loc[X_test.index][\"damage_grade\"]\n",
    "    extra.fit(X_train,y_train)\n",
    "    predict = pd.DataFrame(extra.predict(X_test), columns=['ET']).set_index(X_test.index)\n",
    "    predict.to_csv(\"Datasets/ET_predicted_step1_subset_{}.csv\".format(i))\n",
    "    generalization[i] = f1_score(y_test, predict, average='micro')\n",
    "generalization"
   ]
  },
  {
   "cell_type": "code",
   "execution_count": 13,
   "metadata": {
    "scrolled": false
   },
   "outputs": [
    {
     "data": {
      "text/plain": [
       "geo_level_ratio                           0.287779\n",
       "geo_level_mean                            0.256730\n",
       "age                                       0.049922\n",
       "area_percentage                           0.045533\n",
       "height_percentage                         0.039205\n",
       "foundation_type_r                         0.026079\n",
       "has_superstructure_mud_mortar_stone       0.022499\n",
       "ground_floor_type_v                       0.018090\n",
       "count_floors_pre_eq                       0.016241\n",
       "has_superstructure_cement_mortar_brick    0.013967\n",
       "roof_type_x                               0.012857\n",
       "has_superstructure_timber                 0.011482\n",
       "foundation_type_i                         0.011066\n",
       "other_floor_type_q                        0.009430\n",
       "ground_floor_type_f                       0.009272\n",
       "has_superstructure_adobe_mud              0.009250\n",
       "foundation_type_w                         0.008596\n",
       "has_secondary_use_agriculture             0.008333\n",
       "has_superstructure_mud_mortar_brick       0.008205\n",
       "plan_configuration_ratio                  0.007574\n",
       "plan_configuration_mean                   0.007396\n",
       "has_superstructure_bamboo                 0.007385\n",
       "land_surface_condition_t                  0.007280\n",
       "secondary_use_3                           0.007274\n",
       "has_superstructure_stone_flag             0.007050\n",
       "position_s                                0.006784\n",
       "roof_type_n                               0.006354\n",
       "land_surface_condition_n                  0.006315\n",
       "has_superstructure_rc_non_engineered      0.006102\n",
       "roof_type_q                               0.005858\n",
       "other_floor_type_j                        0.005792\n",
       "position_t                                0.005598\n",
       "other_floor_type_s                        0.005252\n",
       "ground_floor_type_x                       0.005218\n",
       "has_superstructure_other                  0.004943\n",
       "other_floor_type_x                        0.004846\n",
       "has_superstructure_cement_mortar_stone    0.004547\n",
       "foundation_type_u                         0.004149\n",
       "position_j                                0.004042\n",
       "land_surface_condition_o                  0.004036\n",
       "has_superstructure_rc_engineered          0.003831\n",
       "secondary_use_1                           0.002849\n",
       "foundation_type_h                         0.001600\n",
       "ground_floor_type_z                       0.001490\n",
       "position_o                                0.001337\n",
       "secondary_use_2                           0.000468\n",
       "has_secondary_use_use_police              0.000095\n",
       "dtype: float64"
      ]
     },
     "execution_count": 13,
     "metadata": {},
     "output_type": "execute_result"
    }
   ],
   "source": [
    "featuresET = pd.Series(extra.feature_importances_, index=X_train.columns)\n",
    "featuresET.sort_values(ascending=False)"
   ]
  },
  {
   "cell_type": "code",
   "execution_count": 14,
   "metadata": {
    "scrolled": true
   },
   "outputs": [
    {
     "data": {
      "text/plain": [
       "<matplotlib.axes._subplots.AxesSubplot at 0x1c5cdb748d0>"
      ]
     },
     "execution_count": 14,
     "metadata": {},
     "output_type": "execute_result"
    },
    {
     "data": {
      "image/png": "[encoded data removed]",
      "text/plain": [
       "<Figure size 432x288 with 1 Axes>"
      ]
     },
     "metadata": {
      "needs_background": "light"
     },
     "output_type": "display_data"
    }
   ],
   "source": [
    "featuresET.sort_values(ascending=False).plot(use_index=False)"
   ]
  },
  {
   "cell_type": "code",
   "execution_count": 15,
   "metadata": {},
   "outputs": [],
   "source": [
    "for i in range(5):\n",
    "    extra = RandomForestClassifier(min_samples_split=res_forest.x[0], min_samples_leaf=res_forest.x[1],\n",
    "                                    n_estimators=res_forest.x[2], n_jobs=-1)\n",
    "    X_train = pd.read_csv('Datasets/CV0_train_subset_step2_{}.csv'.format(i), index_col=0)\n",
    "    y_train= pd.read_csv('Datasets/train_labels.csv', index_col=0).loc[X_train.index][\"damage_grade\"]\n",
    "    X_test = pd.read_csv('Datasets/CV0_test_subset_{}.csv'.format(i), index_col=0)\n",
    "    extra.fit(X_train,y_train)\n",
    "    predict = pd.DataFrame(extra.predict(X_test), columns=['RF']).set_index(X_test.index)\n",
    "    predict.to_csv(\"Datasets/ET_predicted_step2_subset_{}.csv\".format(i))"
   ]
  },
  {
   "cell_type": "code",
   "execution_count": 16,
   "metadata": {},
   "outputs": [],
   "source": [
    "extra = RandomForestClassifier(min_samples_split=res_forest.x[0], min_samples_leaf=res_forest.x[1],\n",
    "                                n_estimators=res_forest.x[2], n_jobs=-1)\n",
    "X_train = pd.read_csv('Datasets/train_full_processed.csv', index_col=0)\n",
    "y_train= pd.read_csv('Datasets/train_labels.csv', index_col=0).loc[X_train.index][\"damage_grade\"]\n",
    "X_val = pd.read_csv('Datasets/submission_processed.csv', index_col=0)\n",
    "extra.fit(X_train,y_train)\n",
    "predict = pd.DataFrame(extra.predict(X_val), columns=['RF']).set_index(X_val.index)\n",
    "predict.to_csv(\"Datasets/ET_predicted_submission.csv\")"
   ]
  },
  {
   "cell_type": "markdown",
   "metadata": {},
   "source": [
    "# XGBoost Classifier"
   ]
  },
  {
   "cell_type": "code",
   "execution_count": 17,
   "metadata": {},
   "outputs": [],
   "source": [
    "import xgboost as xgb"
   ]
  },
  {
   "cell_type": "code",
   "execution_count": 18,
   "metadata": {},
   "outputs": [],
   "source": [
    "spaceXGB  = [Real(0.25, 0.4, name=\"colsample_bytree\"),\n",
    "             Real(0.35, 0.65, name=\"learning_rate\"),\n",
    "             Integer(400, 600, name=\"n_estimators\"),\n",
    "             Integer(3, 8, name=\"max_depth\")]"
   ]
  },
  {
   "cell_type": "code",
   "execution_count": 19,
   "metadata": {},
   "outputs": [],
   "source": [
    "@use_named_args(spaceXGB)\n",
    "def objectiveXGB(**params):\n",
    "    xgboost.set_params(**params)\n",
    "    xgboost.fit(X_train,y_train)\n",
    "    predict = xgboost.predict(X_test)\n",
    "    e = f1_score(y_test, predict, average='micro')\n",
    "    print(e, [(a, params[a]) for a in params])\n",
    "    return 1 - e"
   ]
  },
  {
   "cell_type": "code",
   "execution_count": 20,
   "metadata": {
    "scrolled": false
   },
   "outputs": [
    {
     "name": "stdout",
     "output_type": "stream",
     "text": [
      "0.7265732924021489 [('colsample_bytree', 0.33892669273375275), ('learning_rate', 0.6032797245743053), ('n_estimators', 572), ('max_depth', 7)]\n",
      "0.7299884881043746 [('colsample_bytree', 0.3435345545178959), ('learning_rate', 0.46531451218780995), ('n_estimators', 460), ('max_depth', 3)]\n",
      "0.7307367613200308 [('colsample_bytree', 0.290898444187017), ('learning_rate', 0.493299535196405), ('n_estimators', 562), ('max_depth', 5)]\n",
      "0.7295855717574827 [('colsample_bytree', 0.30891771941512447), ('learning_rate', 0.6008236290612133), ('n_estimators', 467), ('max_depth', 6)]\n",
      "0.7286454336147353 [('colsample_bytree', 0.3052362309760822), ('learning_rate', 0.6371465476859139), ('n_estimators', 428), ('max_depth', 7)]\n",
      "0.7289907904834996 [('colsample_bytree', 0.32104120679105663), ('learning_rate', 0.5902732255938934), ('n_estimators', 504), ('max_depth', 6)]\n",
      "0.729911742133538 [('colsample_bytree', 0.3580948982088875), ('learning_rate', 0.5246059376225322), ('n_estimators', 507), ('max_depth', 7)]\n",
      "0.7306792018419034 [('colsample_bytree', 0.2658861410781688), ('learning_rate', 0.4920801258039973), ('n_estimators', 437), ('max_depth', 7)]\n",
      "0.7292977743668456 [('colsample_bytree', 0.2824825531636558), ('learning_rate', 0.3905654520216356), ('n_estimators', 465), ('max_depth', 4)]\n",
      "0.7299693016116654 [('colsample_bytree', 0.28334820823773815), ('learning_rate', 0.4659466943377586), ('n_estimators', 581), ('max_depth', 5)]\n",
      "0.7288181120491174 [('colsample_bytree', 0.4), ('learning_rate', 0.35), ('n_estimators', 400), ('max_depth', 3)]\n",
      "0.7280122793553339 [('colsample_bytree', 0.25), ('learning_rate', 0.35), ('n_estimators', 600), ('max_depth', 3)]\n",
      "0.7327513430544896 [('colsample_bytree', 0.3902742545347841), ('learning_rate', 0.35991724835980976), ('n_estimators', 411), ('max_depth', 8)]\n",
      "0.729623944742901 [('colsample_bytree', 0.39401026866410827), ('learning_rate', 0.36849203794232044), ('n_estimators', 598), ('max_depth', 8)]\n",
      "0.72787797390637 [('colsample_bytree', 0.38383343124272035), ('learning_rate', 0.6427974732998476), ('n_estimators', 401), ('max_depth', 3)]\n",
      "0.7328472755180353 [('colsample_bytree', 0.25), ('learning_rate', 0.35), ('n_estimators', 400), ('max_depth', 8)]\n",
      "0.7287029930928625 [('colsample_bytree', 0.2515318984864906), ('learning_rate', 0.3686516681659049), ('n_estimators', 597), ('max_depth', 8)]\n",
      "0.7328472755180353 [('colsample_bytree', 0.25), ('learning_rate', 0.35), ('n_estimators', 400), ('max_depth', 8)]\n",
      "0.7277628549501152 [('colsample_bytree', 0.25187313226925817), ('learning_rate', 0.6389364736811043), ('n_estimators', 405), ('max_depth', 8)]\n",
      "0.7314658480429778 [('colsample_bytree', 0.4), ('learning_rate', 0.35), ('n_estimators', 400), ('max_depth', 8)]\n",
      "0.729163468917882 [('colsample_bytree', 0.39353750143450594), ('learning_rate', 0.6448854109614683), ('n_estimators', 596), ('max_depth', 3)]\n",
      "0.7286646201074444 [('colsample_bytree', 0.39602681994178784), ('learning_rate', 0.35373775581213346), ('n_estimators', 593), ('max_depth', 3)]\n",
      "0.7211243284727553 [('colsample_bytree', 0.39675954682192827), ('learning_rate', 0.6444594441086399), ('n_estimators', 589), ('max_depth', 8)]\n",
      "0.7275709900230238 [('colsample_bytree', 0.25537913452947175), ('learning_rate', 0.3602683408173604), ('n_estimators', 401), ('max_depth', 3)]\n",
      "0.7328472755180353 [('colsample_bytree', 0.25), ('learning_rate', 0.35), ('n_estimators', 400), ('max_depth', 8)]\n"
     ]
    },
    {
     "data": {
      "text/plain": [
       "(0.7328472755180353, 0.25, 0.35, 400, 8)"
      ]
     },
     "execution_count": 20,
     "metadata": {},
     "output_type": "execute_result"
    }
   ],
   "source": [
    "X_train = pd.read_csv('Datasets/CV0_train_subset_step1_0.csv', index_col=0)\n",
    "y_train= pd.read_csv('Datasets/train_labels.csv', index_col=0).loc[X_train.index][\"damage_grade\"]-1\n",
    "X_test = pd.read_csv('Datasets/CV0_test_subset_0.csv', index_col=0)\n",
    "y_test= pd.read_csv('Datasets/train_labels.csv', index_col=0).loc[X_test.index][\"damage_grade\"]-1\n",
    "xgboost = xgb.XGBRegressor(booster='gbtree', objective ='multi:softmax',  num_class=3)\n",
    "res_xgb = gp_minimize(objectiveXGB, spaceXGB, n_calls=25, random_state=0)\n",
    "1-res_xgb.fun, res_xgb.x[0], res_xgb.x[1], res_xgb.x[2], res_xgb.x[3]"
   ]
  },
  {
   "cell_type": "code",
   "execution_count": 21,
   "metadata": {},
   "outputs": [
    {
     "data": {
      "text/plain": [
       "0.731964696853415"
      ]
     },
     "execution_count": 21,
     "metadata": {},
     "output_type": "execute_result"
    }
   ],
   "source": [
    "xgboost = xgb.XGBRegressor(booster='gbtree', objective ='multi:softmax',  num_class=3,\n",
    "                           colsample_bytree=0.3, learning_rate=0.5,\n",
    "                           max_depth=5, n_estimators = 500)\n",
    "xgboost.fit(X_train, y_train)\n",
    "predict = pd.DataFrame(xgboost.predict(X_test), columns=['XGB']).set_index(X_test.index)\n",
    "f1_score(y_test, predict, average='micro')"
   ]
  },
  {
   "cell_type": "code",
   "execution_count": 22,
   "metadata": {},
   "outputs": [
    {
     "data": {
      "text/plain": [
       "0    0.732847\n",
       "1    0.728204\n",
       "2    0.732502\n",
       "3    0.732483\n",
       "dtype: float64"
      ]
     },
     "execution_count": 22,
     "metadata": {},
     "output_type": "execute_result"
    }
   ],
   "source": [
    "generalization = pd.Series(index=range(4))\n",
    "for i in generalization.index:\n",
    "    xgboost = xgb.XGBRegressor(booster='gbtree', objective ='multi:softmax',  num_class=3,\n",
    "                               colsample_bytree=res_xgb.x[0], learning_rate=res_xgb.x[1],\n",
    "                               n_estimators=res_xgb.x[2], max_depth=res_xgb.x[3])\n",
    "    X_train = pd.read_csv('Datasets/CV0_train_subset_step1_{}.csv'.format(i), index_col=0)\n",
    "    y_train= pd.read_csv('Datasets/train_labels.csv', index_col=0).loc[X_train.index][\"damage_grade\"]-1\n",
    "    X_test = pd.read_csv('Datasets/CV0_test_subset_{}.csv'.format(i), index_col=0)\n",
    "    y_test= pd.read_csv('Datasets/train_labels.csv', index_col=0).loc[X_test.index][\"damage_grade\"]-1\n",
    "    xgboost.fit(X_train,y_train)\n",
    "    predict = pd.DataFrame(xgboost.predict(X_test), columns=['XGB']).set_index(X_test.index)\n",
    "    predict.to_csv(\"Datasets/XGB_predicted_step1_subset_{}.csv\".format(i))\n",
    "    generalization[i] = f1_score(y_test, predict, average='micro')\n",
    "generalization"
   ]
  },
  {
   "cell_type": "code",
   "execution_count": 23,
   "metadata": {},
   "outputs": [],
   "source": [
    "for i in range(5):\n",
    "    xgboost = xgb.XGBRegressor(booster='gbtree', objective ='multi:softmax',  num_class=3,\n",
    "                               colsample_bytree=res_xgb.x[0], learning_rate=res_xgb.x[1],\n",
    "                               n_estimators=res_xgb.x[2], max_depth=res_xgb.x[3])\n",
    "    X_train = pd.read_csv('Datasets/CV0_train_subset_step2_{}.csv'.format(i), index_col=0)\n",
    "    y_train= pd.read_csv('Datasets/train_labels.csv', index_col=0).loc[X_train.index][\"damage_grade\"]-1\n",
    "    X_test = pd.read_csv('Datasets/CV0_test_subset_{}.csv'.format(i), index_col=0)\n",
    "    xgboost.fit(X_train,y_train)\n",
    "    predict = pd.DataFrame(xgboost.predict(X_test), columns=['XGB']).set_index(X_test.index)\n",
    "    predict.to_csv(\"Datasets/XGB_predicted_step2_subset_{}.csv\".format(i))"
   ]
  },
  {
   "cell_type": "code",
   "execution_count": 24,
   "metadata": {},
   "outputs": [],
   "source": [
    "xgboost = xgb.XGBRegressor(booster='gbtree', objective ='multi:softmax',  num_class=3,\n",
    "                               colsample_bytree=res_xgb.x[0], learning_rate=res_xgb.x[1],\n",
    "                               n_estimators=res_xgb.x[2], max_depth=res_xgb.x[3])\n",
    "X_train = pd.read_csv('Datasets/train_full_processed.csv', index_col=0)\n",
    "y_train= pd.read_csv('Datasets/train_labels.csv', index_col=0).loc[X_train.index][\"damage_grade\"]-1\n",
    "X_val = pd.read_csv('Datasets/submission_processed.csv', index_col=0)\n",
    "xgboost.fit(X_train,y_train)\n",
    "predict = pd.DataFrame(xgboost.predict(X_val), columns=['XGB']).set_index(X_val.index)\n",
    "predict.to_csv(\"Datasets/XGB_predicted_submission.csv\")"
   ]
  },
  {
   "cell_type": "markdown",
   "metadata": {},
   "source": [
    "# Nearest neighbors classifier"
   ]
  },
  {
   "cell_type": "code",
   "execution_count": 25,
   "metadata": {},
   "outputs": [],
   "source": [
    "from sklearn.neighbors import KNeighborsClassifier"
   ]
  },
  {
   "cell_type": "markdown",
   "metadata": {},
   "source": [
    "In order to be clearer, I have previously narrowed the space search. Here is displayed the final step. Nearest neighbors classsifiers training takes a lot of time to compute, so I will optimize only subset0 and then see if it generalizes well."
   ]
  },
  {
   "cell_type": "code",
   "execution_count": 26,
   "metadata": {},
   "outputs": [],
   "source": [
    "spaceKNN  = [Integer(20, 30, name=\"n_neighbors\"),\n",
    "             Integer(25, 55, name=\"leaf_size\")]"
   ]
  },
  {
   "cell_type": "code",
   "execution_count": 27,
   "metadata": {},
   "outputs": [],
   "source": [
    "@use_named_args(spaceKNN)\n",
    "def objectiveKNN(**params):\n",
    "    knn.set_params(**params)\n",
    "    knn.fit(X_train,y_train)\n",
    "    predict = knn.predict(X_test)\n",
    "    e = f1_score(y_test, predict, average='micro')\n",
    "    print(e, [(a, params[a]) for a in params])\n",
    "    return 1 - e"
   ]
  },
  {
   "cell_type": "code",
   "execution_count": 28,
   "metadata": {},
   "outputs": [
    {
     "name": "stdout",
     "output_type": "stream",
     "text": [
      "0.7043745203376822 [('n_neighbors', 26), ('leaf_size', 50)]\n",
      "0.7049309286262472 [('n_neighbors', 29), ('leaf_size', 50)]\n",
      "0.7044704528012279 [('n_neighbors', 26), ('leaf_size', 37)]\n",
      "0.7043553338449732 [('n_neighbors', 23), ('leaf_size', 27)]\n",
      "0.7045088257866462 [('n_neighbors', 23), ('leaf_size', 39)]\n",
      "0.7042594013814275 [('n_neighbors', 28), ('leaf_size', 39)]\n",
      "0.7041634689178818 [('n_neighbors', 24), ('leaf_size', 50)]\n",
      "0.7045088257866462 [('n_neighbors', 23), ('leaf_size', 44)]\n",
      "0.7041634689178818 [('n_neighbors', 24), ('leaf_size', 54)]\n",
      "0.7041442824251727 [('n_neighbors', 21), ('leaf_size', 51)]\n",
      "0.7041250959324635 [('n_neighbors', 30), ('leaf_size', 25)]\n",
      "0.7041059094397544 [('n_neighbors', 20), ('leaf_size', 25)]\n",
      "0.7041250959324635 [('n_neighbors', 30), ('leaf_size', 25)]\n",
      "0.7041634689178818 [('n_neighbors', 30), ('leaf_size', 55)]\n",
      "0.7041059094397544 [('n_neighbors', 20), ('leaf_size', 25)]\n",
      "0.7040291634689179 [('n_neighbors', 20), ('leaf_size', 55)]\n",
      "0.7041250959324635 [('n_neighbors', 30), ('leaf_size', 25)]\n",
      "0.7041634689178818 [('n_neighbors', 30), ('leaf_size', 55)]\n",
      "0.7041059094397544 [('n_neighbors', 20), ('leaf_size', 25)]\n",
      "0.7040291634689179 [('n_neighbors', 20), ('leaf_size', 55)]\n"
     ]
    },
    {
     "data": {
      "text/plain": [
       "(0.7049309286262472, 29, 50)"
      ]
     },
     "execution_count": 28,
     "metadata": {},
     "output_type": "execute_result"
    }
   ],
   "source": [
    "X_train = pd.read_csv('Datasets/CV0_train_subset_step1_0.csv', index_col=0)\n",
    "y_train= pd.read_csv('Datasets/train_labels.csv', index_col=0).loc[X_train.index][\"damage_grade\"]\n",
    "X_test = pd.read_csv('Datasets/CV0_test_subset_0.csv', index_col=0)\n",
    "y_test= pd.read_csv('Datasets/train_labels.csv', index_col=0).loc[X_test.index][\"damage_grade\"]\n",
    "knn = KNeighborsClassifier(n_neighbors=2, weights='uniform', algorithm='auto', leaf_size=10, p=2,\n",
    "                            metric='minkowski', metric_params=None, n_jobs=-1)\n",
    "res_KNN = gp_minimize(objectiveKNN, spaceKNN, n_calls=20, random_state=0)\n",
    "1-res_KNN.fun, res_KNN.x[0], res_KNN.x[1]"
   ]
  },
  {
   "cell_type": "code",
   "execution_count": 29,
   "metadata": {},
   "outputs": [
    {
     "data": {
      "text/plain": [
       "0    0.704931\n",
       "1    0.701074\n",
       "2    0.705679\n",
       "3    0.706869\n",
       "dtype: float64"
      ]
     },
     "execution_count": 29,
     "metadata": {},
     "output_type": "execute_result"
    }
   ],
   "source": [
    "generalization = pd.Series(index=range(4))\n",
    "for i in generalization.index:\n",
    "    knn = KNeighborsClassifier(n_neighbors=res_KNN.x[0], weights='uniform', algorithm='auto', leaf_size=res_KNN.x[1], p=2,\n",
    "                            metric='minkowski', metric_params=None, n_jobs=-1)\n",
    "    X_train = pd.read_csv('Datasets/CV0_train_subset_step1_{}.csv'.format(i), index_col=0)\n",
    "    y_train= pd.read_csv('Datasets/train_labels.csv', index_col=0).loc[X_train.index][\"damage_grade\"]\n",
    "    X_test = pd.read_csv('Datasets/CV0_test_subset_{}.csv'.format(i), index_col=0)\n",
    "    y_test= pd.read_csv('Datasets/train_labels.csv', index_col=0).loc[X_test.index][\"damage_grade\"]\n",
    "    knn.fit(X_train,y_train)\n",
    "    predict = pd.DataFrame(knn.predict(X_test), columns=['KNN']).set_index(X_test.index)\n",
    "    predict.to_csv(\"Datasets/KNN_predicted_step1_subset_{}.csv\".format(i))\n",
    "    generalization[i] = f1_score(y_test, predict, average='micro')\n",
    "generalization"
   ]
  },
  {
   "cell_type": "code",
   "execution_count": 30,
   "metadata": {},
   "outputs": [],
   "source": [
    "for i in range(5):\n",
    "    knn = KNeighborsClassifier(n_neighbors=res_KNN.x[0], weights='uniform', algorithm='auto', leaf_size=res_KNN.x[1], p=2,\n",
    "                            metric='minkowski', metric_params=None, n_jobs=-1)\n",
    "    X_train = pd.read_csv('Datasets/CV0_train_subset_step2_{}.csv'.format(i), index_col=0)\n",
    "    y_train= pd.read_csv('Datasets/train_labels.csv', index_col=0).loc[X_train.index][\"damage_grade\"]\n",
    "    X_test = pd.read_csv('Datasets/CV0_test_subset_{}.csv'.format(i), index_col=0)\n",
    "    knn.fit(X_train,y_train)\n",
    "    predict = pd.DataFrame(knn.predict(X_test), columns=['KNN']).set_index(X_test.index)\n",
    "    predict.to_csv(\"Datasets/KNN_predicted_step2_subset_{}.csv\".format(i))"
   ]
  },
  {
   "cell_type": "code",
   "execution_count": 31,
   "metadata": {},
   "outputs": [],
   "source": [
    "knn = KNeighborsClassifier(n_neighbors=res_KNN.x[0], weights='uniform', algorithm='auto', leaf_size=res_KNN.x[1], p=2,\n",
    "                            metric='minkowski', metric_params=None, n_jobs=-1)\n",
    "X_train = pd.read_csv('Datasets/train_full_processed.csv', index_col=0)\n",
    "y_train= pd.read_csv('Datasets/train_labels.csv', index_col=0).loc[X_train.index][\"damage_grade\"]\n",
    "X_val = pd.read_csv('Datasets/submission_processed.csv', index_col=0)\n",
    "knn.fit(X_train,y_train)\n",
    "predict = pd.DataFrame(knn.predict(X_val), columns=['KNN']).set_index(X_val.index)\n",
    "predict.to_csv(\"Datasets/KNN_predicted_submission.csv\")"
   ]
  },
  {
   "cell_type": "markdown",
   "metadata": {},
   "source": [
    "Generalization is very good. However, I expected better results from this model."
   ]
  }
 ],
 "metadata": {
  "kernelspec": {
   "display_name": "Python 3",
   "language": "python",
   "name": "python3"
  },
  "language_info": {
   "codemirror_mode": {
    "name": "ipython",
    "version": 3
   },
   "file_extension": ".py",
   "mimetype": "text/x-python",
   "name": "python",
   "nbconvert_exporter": "python",
   "pygments_lexer": "ipython3",
   "version": "3.7.3"
  }
 },
 "nbformat": 4,
 "nbformat_minor": 2
}
